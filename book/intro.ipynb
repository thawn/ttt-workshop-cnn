{
 "cells": [
  {
   "cell_type": "markdown",
   "id": "80b6935d",
   "metadata": {},
   "source": [
    "[![Open In Colab](https://colab.research.google.com/assets/colab-badge.svg)](https://colab.research.google.com/github/USER/teaching-cnn/blob/main/book/intro.ipynb)\n",
    "\n",
    "# CNN Train-the-Trainer\n",
    "\n",
    "Welcome! Use the left sidebar to navigate. Each notebook installs its own dependencies and can run on Colab GPU.\n",
    "\n",
    "Total course time: 3 hours."
   ]
  }
 ],
 "metadata": {
  "language_info": {
   "name": "python"
  }
 },
 "nbformat": 4,
 "nbformat_minor": 5
}
