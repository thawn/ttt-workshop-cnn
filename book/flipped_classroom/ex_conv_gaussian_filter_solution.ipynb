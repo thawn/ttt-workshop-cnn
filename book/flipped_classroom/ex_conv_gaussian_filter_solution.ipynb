{
 "cells": [
  {
   "cell_type": "markdown",
   "id": "a4ae7102",
   "metadata": {},
   "source": [
    "# Learn a Gaussian Filter with a Single Conv Layer (PyTorch)\n",
    "\n",
    "[![Open In Colab](https://colab.research.google.com/assets/colab-badge.svg)](https://colab.research.google.com/github/thawn/ttt-workshop-cnn/blob/main/book/exercises/conv_gaussian_filter.ipynb)\n",
    "\n",
    "Train a 1-layer CNN to learn Gaussian blur using a 16x16 px smiley input and its blurred label.\n"
   ]
  },
  {
   "cell_type": "code",
   "execution_count": 1,
   "id": "619c9f79",
   "metadata": {},
   "outputs": [],
   "source": [
    "# Setup\n",
    "import numpy as np\n",
    "\n",
    "try:\n",
    "    import scipy.ndimage as spn\n",
    "    import torch\n",
    "except Exception:\n",
    "    import sys, subprocess\n",
    "\n",
    "    subprocess.check_call([sys.executable, \"-m\", \"pip\", \"install\", \"scipy\", \"torch\", \"-q\"])\n",
    "    import scipy.ndimage as spn\n",
    "    import torch\n",
    "\n",
    "import matplotlib.pyplot as plt"
   ]
  },
  {
   "cell_type": "code",
   "execution_count": 2,
   "id": "afd23d90",
   "metadata": {},
   "outputs": [],
   "source": [
    "# Create a sample image of a smiley face\n",
    "image = np.array([\n",
    "    [0, 0, 0, 0, 0, 0, 1, 1, 1, 1, 0, 0, 0, 0, 0, 0],\n",
    "    [0, 0, 0, 0, 1, 1, 1, 1, 1, 1, 1, 1, 0, 0, 0, 0],\n",
    "    [0, 0, 0, 1, 1, 1, 1, 1, 1, 1, 1, 1, 1, 0, 0, 0],\n",
    "    [0, 0, 1, 1, 1, 1, 1, 1, 1, 1, 1, 1, 1, 1, 0, 0],\n",
    "    [0, 1, 1, 1, 1, 1, 1, 1, 1, 1, 1, 1, 1, 1, 1, 0],\n",
    "    [0, 1, 1, 1, 0, 0, 1, 1, 1, 1, 0, 0, 1, 1, 1, 0],\n",
    "    [1, 1, 1, 1, 0, 0, 1, 1, 1, 1, 0, 0, 1, 1, 1, 1],\n",
    "    [1, 1, 1, 1, 1, 1, 1, 1, 1, 1, 1, 1, 1, 1, 1, 1],\n",
    "    [1, 1, 1, 1, 1, 1, 1, 1, 1, 1, 1, 1, 1, 1, 1, 1],\n",
    "    [1, 1, 1, 1, 1, 1, 1, 1, 1, 1, 1, 1, 1, 1, 1, 1],\n",
    "    [1, 1, 1, 0, 1, 1, 1, 1, 1, 1, 1, 1, 0, 1, 1, 1],\n",
    "    [0, 1, 1, 0, 0, 0, 0, 0, 0, 0, 0, 0, 0, 1, 1, 0],\n",
    "    [0, 1, 1, 1, 0, 0, 0, 0, 0, 0, 0, 0, 1, 1, 1, 0],\n",
    "    [0, 0, 1, 1, 1, 0, 0, 0, 0, 0, 0, 1, 1, 1, 0, 0],\n",
    "    [0, 0, 0, 0, 1, 1, 1, 1, 1, 1, 1, 1, 0, 0, 0, 0],\n",
    "    [0, 0, 0, 0, 0, 0, 1, 1, 1, 1, 0, 0, 0, 0, 0, 0]\n",
    "], dtype=np.float32)"
   ]
  },
  {
   "cell_type": "code",
   "execution_count": 3,
   "id": "22cc3a7f",
   "metadata": {},
   "outputs": [],
   "source": [
    "# Create a gaussian 3x3 kernel\n",
    "gaussian_kernel = np.array([\n",
    "    [1, 2, 1],\n",
    "    [2, 4, 2],\n",
    "    [1, 2, 1],\n",
    "]) / 16 "
   ]
  },
  {
   "cell_type": "code",
   "execution_count": 4,
   "id": "cc690027",
   "metadata": {},
   "outputs": [],
   "source": [
    "\n",
    "# Create a label image by convolving the image with the kernel using scipy.ndimage.convolve2\n",
    "label = spn.convolve(image, gaussian_kernel, mode='constant', cval=0.0)"
   ]
  },
  {
   "cell_type": "code",
   "execution_count": 5,
   "id": "51d3046c",
   "metadata": {},
   "outputs": [
    {
     "data": {
      "image/png": "[encoded data removed]",
      "text/plain": [
       "<Figure size 1200x400 with 3 Axes>"
      ]
     },
     "metadata": {},
     "output_type": "display_data"
    }
   ],
   "source": [
    "# Plot input, kernel, and label\n",
    "def plot_images(image, kernel, label):\n",
    "    fig, axes = plt.subplots(1, 3, figsize=(12, 4))\n",
    "    axes[0].imshow(image, cmap='inferno')\n",
    "    axes[0].set_title('Input Image')\n",
    "\n",
    "    axes[1].imshow(kernel, cmap='inferno')\n",
    "    axes[1].set_title('Kernel')\n",
    "\n",
    "    axes[2].imshow(label, cmap='inferno')\n",
    "    axes[2].set_title('Label Image (Convolved)')\n",
    "    for ax in axes:\n",
    "        ax.axis('off')\n",
    "\n",
    "    plt.tight_layout()\n",
    "plot_images(image, gaussian_kernel, label)"
   ]
  },
  {
   "cell_type": "markdown",
   "id": "24dd0c48",
   "metadata": {},
   "source": [
    "# train a single-layer CNN to learn the Gaussian blur\n"
   ]
  },
  {
   "cell_type": "code",
   "execution_count": 6,
   "id": "89a836e9",
   "metadata": {},
   "outputs": [],
   "source": [
    "# Convert to torch tensors and add batch and channel dimensions\n",
    "input_tensor = torch.tensor(image, dtype=torch.float32).unsqueeze(0).unsqueeze(0)  # Shape: (1, 1, H, W)\n",
    "label_tensor = torch.tensor(label, dtype=torch.float32).unsqueeze(0).unsqueeze(0)  # Shape: (1, 1, H, W)"
   ]
  },
  {
   "cell_type": "code",
   "execution_count": 7,
   "id": "8bb35841",
   "metadata": {},
   "outputs": [],
   "source": [
    "# Define a single convolutional layer\n",
    "conv_layer = torch.nn.Conv2d(in_channels=1, out_channels=1, kernel_size=3, padding=1, bias=False)"
   ]
  },
  {
   "cell_type": "code",
   "execution_count": 8,
   "id": "78cdad13",
   "metadata": {},
   "outputs": [],
   "source": [
    "# Define a loss function and optimizer\n",
    "criterion = torch.nn.MSELoss()"
   ]
  },
  {
   "cell_type": "code",
   "execution_count": 9,
   "id": "702f564f",
   "metadata": {},
   "outputs": [],
   "source": [
    "# Define an optimizer\n",
    "optimizer = torch.optim.Adam(conv_layer.parameters(), lr=0.01)"
   ]
  },
  {
   "cell_type": "code",
   "execution_count": 10,
   "id": "99faefa1",
   "metadata": {},
   "outputs": [
    {
     "name": "stdout",
     "output_type": "stream",
     "text": [
      "Epoch [10/1000], Loss: 0.900649\n",
      "Epoch [20/1000], Loss: 0.223167\n",
      "Epoch [30/1000], Loss: 0.085297\n",
      "Epoch [40/1000], Loss: 0.094626\n",
      "Epoch [50/1000], Loss: 0.076956\n",
      "Epoch [60/1000], Loss: 0.056355\n",
      "Epoch [70/1000], Loss: 0.047755\n",
      "Epoch [80/1000], Loss: 0.040834\n",
      "Epoch [90/1000], Loss: 0.034357\n",
      "Epoch [100/1000], Loss: 0.029428\n",
      "Epoch [110/1000], Loss: 0.025406\n",
      "Epoch [120/1000], Loss: 0.022105\n",
      "Epoch [130/1000], Loss: 0.019435\n",
      "Epoch [140/1000], Loss: 0.017237\n",
      "Epoch [150/1000], Loss: 0.015408\n",
      "Epoch [160/1000], Loss: 0.013863\n",
      "Epoch [170/1000], Loss: 0.012533\n",
      "Epoch [180/1000], Loss: 0.011369\n",
      "Epoch [190/1000], Loss: 0.010334\n",
      "Epoch [200/1000], Loss: 0.009401\n",
      "Epoch [210/1000], Loss: 0.008553\n",
      "Epoch [220/1000], Loss: 0.007777\n",
      "Epoch [230/1000], Loss: 0.007064\n",
      "Epoch [240/1000], Loss: 0.006408\n",
      "Epoch [250/1000], Loss: 0.005805\n",
      "Epoch [260/1000], Loss: 0.005250\n",
      "Epoch [270/1000], Loss: 0.004741\n",
      "Epoch [280/1000], Loss: 0.004274\n",
      "Epoch [290/1000], Loss: 0.003847\n",
      "Epoch [300/1000], Loss: 0.003458\n",
      "Epoch [310/1000], Loss: 0.003103\n",
      "Epoch [320/1000], Loss: 0.002780\n",
      "Epoch [330/1000], Loss: 0.002487\n",
      "Epoch [340/1000], Loss: 0.002222\n",
      "Epoch [350/1000], Loss: 0.001983\n",
      "Epoch [360/1000], Loss: 0.001767\n",
      "Epoch [370/1000], Loss: 0.001572\n",
      "Epoch [380/1000], Loss: 0.001397\n",
      "Epoch [390/1000], Loss: 0.001240\n",
      "Epoch [400/1000], Loss: 0.001099\n",
      "Epoch [410/1000], Loss: 0.000974\n",
      "Epoch [420/1000], Loss: 0.000861\n",
      "Epoch [430/1000], Loss: 0.000761\n",
      "Epoch [440/1000], Loss: 0.000671\n",
      "Epoch [450/1000], Loss: 0.000592\n",
      "Epoch [460/1000], Loss: 0.000521\n",
      "Epoch [470/1000], Loss: 0.000458\n",
      "Epoch [480/1000], Loss: 0.000403\n",
      "Epoch [490/1000], Loss: 0.000353\n",
      "Epoch [500/1000], Loss: 0.000310\n",
      "Epoch [510/1000], Loss: 0.000271\n",
      "Epoch [520/1000], Loss: 0.000237\n",
      "Epoch [530/1000], Loss: 0.000207\n",
      "Epoch [540/1000], Loss: 0.000181\n",
      "Epoch [550/1000], Loss: 0.000158\n",
      "Epoch [560/1000], Loss: 0.000137\n",
      "Epoch [570/1000], Loss: 0.000119\n",
      "Epoch [580/1000], Loss: 0.000104\n",
      "Epoch [590/1000], Loss: 0.000090\n",
      "Epoch [600/1000], Loss: 0.000078\n",
      "Epoch [610/1000], Loss: 0.000068\n",
      "Epoch [620/1000], Loss: 0.000058\n",
      "Epoch [630/1000], Loss: 0.000050\n",
      "Epoch [640/1000], Loss: 0.000044\n",
      "Epoch [650/1000], Loss: 0.000037\n",
      "Epoch [660/1000], Loss: 0.000032\n",
      "Epoch [670/1000], Loss: 0.000028\n",
      "Epoch [680/1000], Loss: 0.000024\n",
      "Epoch [690/1000], Loss: 0.000020\n",
      "Epoch [700/1000], Loss: 0.000017\n",
      "Epoch [710/1000], Loss: 0.000015\n",
      "Epoch [720/1000], Loss: 0.000013\n",
      "Epoch [730/1000], Loss: 0.000011\n",
      "Epoch [740/1000], Loss: 0.000009\n",
      "Epoch [750/1000], Loss: 0.000008\n",
      "Epoch [760/1000], Loss: 0.000007\n",
      "Epoch [770/1000], Loss: 0.000006\n",
      "Epoch [780/1000], Loss: 0.000005\n",
      "Epoch [790/1000], Loss: 0.000004\n",
      "Epoch [800/1000], Loss: 0.000003\n",
      "Epoch [810/1000], Loss: 0.000003\n",
      "Epoch [820/1000], Loss: 0.000002\n",
      "Epoch [830/1000], Loss: 0.000002\n",
      "Epoch [840/1000], Loss: 0.000002\n",
      "Epoch [850/1000], Loss: 0.000001\n",
      "Epoch [860/1000], Loss: 0.000001\n",
      "Epoch [870/1000], Loss: 0.000001\n",
      "Epoch [880/1000], Loss: 0.000001\n",
      "Epoch [890/1000], Loss: 0.000001\n",
      "Epoch [900/1000], Loss: 0.000001\n",
      "Epoch [910/1000], Loss: 0.000000\n",
      "Epoch [920/1000], Loss: 0.000000\n",
      "Epoch [930/1000], Loss: 0.000000\n",
      "Epoch [940/1000], Loss: 0.000000\n",
      "Epoch [950/1000], Loss: 0.000000\n",
      "Epoch [960/1000], Loss: 0.000000\n",
      "Epoch [970/1000], Loss: 0.000000\n",
      "Epoch [980/1000], Loss: 0.000000\n",
      "Epoch [990/1000], Loss: 0.000000\n",
      "Epoch [1000/1000], Loss: 0.000000\n"
     ]
    }
   ],
   "source": [
    "# Training loop\n",
    "num_epochs = 1000\n",
    "for epoch in range(num_epochs):\n",
    "    optimizer.zero_grad()\n",
    "    output = conv_layer(input_tensor)\n",
    "    loss = criterion(output, label_tensor)\n",
    "    loss.backward()\n",
    "    optimizer.step()\n",
    "    if (epoch+1) % 10 == 0:\n",
    "        print(f'Epoch [{epoch+1}/{num_epochs}], Loss: {loss.item():.6f}')\n"
   ]
  },
  {
   "cell_type": "code",
   "execution_count": 11,
   "id": "5fa86dc5",
   "metadata": {},
   "outputs": [],
   "source": [
    "# Get the learned kernel\n",
    "learned_kernel = conv_layer.weight.detach().squeeze().numpy()"
   ]
  },
  {
   "cell_type": "code",
   "execution_count": 12,
   "id": "b6a50375",
   "metadata": {},
   "outputs": [
    {
     "data": {
      "image/png": "[encoded data removed]",
      "text/plain": [
       "<Figure size 1200x400 with 3 Axes>"
      ]
     },
     "metadata": {},
     "output_type": "display_data"
    }
   ],
   "source": [
    "# Plot the input, learned kernel, and output after training\n",
    "output_image = output.detach().squeeze().numpy()\n",
    "plot_images(image, learned_kernel, output_image)"
   ]
  },
  {
   "cell_type": "code",
   "execution_count": 13,
   "id": "a6133de2",
   "metadata": {},
   "outputs": [
    {
     "data": {
      "image/png": "[encoded data removed]",
      "text/plain": [
       "<Figure size 800x400 with 2 Axes>"
      ]
     },
     "metadata": {},
     "output_type": "display_data"
    }
   ],
   "source": [
    "# Plot the original and learned kernels side by side\n",
    "fig, axes = plt.subplots(1, 2, figsize=(8, 4))\n",
    "axes[0].imshow(gaussian_kernel, cmap='inferno')\n",
    "axes[0].set_title('Original Gaussian Kernel')\n",
    "axes[0].axis('off')\n",
    "axes[1].imshow(learned_kernel, cmap='inferno')\n",
    "axes[1].set_title('Learned Gaussian Kernel')\n",
    "axes[1].axis('off')\n",
    "plt.show()"
   ]
  }
 ],
 "metadata": {
  "kernelspec": {
   "display_name": "venv",
   "language": "python",
   "name": "python3"
  },
  "language_info": {
   "codemirror_mode": {
    "name": "ipython",
    "version": 3
   },
   "file_extension": ".py",
   "mimetype": "text/x-python",
   "name": "python",
   "nbconvert_exporter": "python",
   "pygments_lexer": "ipython3",
   "version": "3.11.12"
  }
 },
 "nbformat": 4,
 "nbformat_minor": 5
}
