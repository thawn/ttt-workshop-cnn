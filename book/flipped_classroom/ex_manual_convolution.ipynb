{
 "cells": [
  {
   "cell_type": "markdown",
   "id": "13535d2c",
   "metadata": {},
   "source": [
    "# Exercise 1: Manual Convolution Exercise\n",
    "\n",
    "[![Open In Colab](https://colab.research.google.com/assets/colab-badge.svg)](https://colab.research.google.com/github/thawn/ttt-workshop-cnn/blob/main/book/flipped_classroom/ex_manual_convolution.ipynb)\n",
    "\n",
    "Implement 2D convolution from scratch and compare to SciPy."
   ]
  },
  {
   "cell_type": "code",
   "execution_count": 1,
   "id": "bc1c931c",
   "metadata": {},
   "outputs": [],
   "source": [
    "# Setup\n",
    "import numpy as np\n",
    "try:\n",
    "    import scipy.signal as sps\n",
    "    import scipy.ndimage as spn\n",
    "except Exception:\n",
    "    import sys, subprocess\n",
    "    subprocess.check_call([sys.executable, '-m', 'pip', 'install', 'scipy', '-q'])\n",
    "    import scipy.signal as sps\n",
    "    import scipy.ndimage as spn\n",
    "\n",
    "import matplotlib.pyplot as plt"
   ]
  },
  {
   "cell_type": "code",
   "execution_count": 2,
   "id": "170444ea",
   "metadata": {},
   "outputs": [
    {
     "data": {
      "text/plain": [
       "(np.float64(-0.5), np.float64(15.5), np.float64(15.5), np.float64(-0.5))"
      ]
     },
     "execution_count": 2,
     "metadata": {},
     "output_type": "execute_result"
    },
    {
     "data": {
      "image/png": "[encoded data removed]",
      "text/plain": [
       "<Figure size 640x480 with 1 Axes>"
      ]
     },
     "metadata": {},
     "output_type": "display_data"
    }
   ],
   "source": [
    "# Create a sample image of a smiley face\n",
    "image = np.array([\n",
    "    [0, 0, 0, 0, 0, 0, 1, 1, 1, 1, 0, 0, 0, 0, 0, 0],\n",
    "    [0, 0, 0, 0, 1, 1, 1, 1, 1, 1, 1, 1, 0, 0, 0, 0],\n",
    "    [0, 0, 0, 1, 1, 1, 1, 1, 1, 1, 1, 1, 1, 0, 0, 0],\n",
    "    [0, 0, 1, 1, 1, 1, 1, 1, 1, 1, 1, 1, 1, 1, 0, 0],\n",
    "    [0, 1, 1, 1, 1, 1, 1, 1, 1, 1, 1, 1, 1, 1, 1, 0],\n",
    "    [0, 1, 1, 1, 0, 0, 1, 1, 1, 1, 0, 0, 1, 1, 1, 0],\n",
    "    [1, 1, 1, 1, 0, 0, 1, 1, 1, 1, 0, 0, 1, 1, 1, 1],\n",
    "    [1, 1, 1, 1, 1, 1, 1, 1, 1, 1, 1, 1, 1, 1, 1, 1],\n",
    "    [1, 1, 1, 1, 1, 1, 1, 1, 1, 1, 1, 1, 1, 1, 1, 1],\n",
    "    [1, 1, 1, 1, 1, 1, 1, 1, 1, 1, 1, 1, 1, 1, 1, 1],\n",
    "    [1, 1, 1, 0, 1, 1, 1, 1, 1, 1, 1, 1, 0, 1, 1, 1],\n",
    "    [0, 1, 1, 0, 0, 0, 0, 0, 0, 0, 0, 0, 0, 1, 1, 0],\n",
    "    [0, 1, 1, 1, 0, 0, 0, 0, 0, 0, 0, 0, 1, 1, 1, 0],\n",
    "    [0, 0, 1, 1, 1, 0, 0, 0, 0, 0, 0, 1, 1, 1, 0, 0],\n",
    "    [0, 0, 0, 0, 1, 1, 1, 1, 1, 1, 1, 1, 0, 0, 0, 0],\n",
    "    [0, 0, 0, 0, 0, 0, 1, 1, 1, 1, 0, 0, 0, 0, 0, 0]\n",
    "], dtype=np.float32)\n",
    "plt.imshow(image, cmap=\"inferno\")\n",
    "plt.title('Input Image')\n",
    "plt.axis('off')"
   ]
  },
  {
   "cell_type": "code",
   "execution_count": 3,
   "id": "c8200be0",
   "metadata": {},
   "outputs": [
    {
     "data": {
      "text/plain": [
       "(np.float64(-0.5), np.float64(2.5), np.float64(2.5), np.float64(-0.5))"
      ]
     },
     "execution_count": 3,
     "metadata": {},
     "output_type": "execute_result"
    },
    {
     "data": {
      "image/png": "[encoded data removed]",
      "text/plain": [
       "<Figure size 640x480 with 1 Axes>"
      ]
     },
     "metadata": {},
     "output_type": "display_data"
    }
   ],
   "source": [
    "# Define a simple gaussian blur kernel\n",
    "kernel = np.array([\n",
    "    [1, 2, 1],\n",
    "    [2, 4, 2],\n",
    "    [1, 2, 1]\n",
    "], dtype=np.float32) / 16.0\n",
    "plt.figure()\n",
    "plt.imshow(kernel, cmap=\"PuOr_r\", vmin=-0.5, vmax=0.5)\n",
    "plt.title('Gaussian Kernel')\n",
    "plt.axis('off')"
   ]
  },
  {
   "cell_type": "code",
   "execution_count": null,
   "id": "0f14862c",
   "metadata": {},
   "outputs": [],
   "source": [
    "# create a for loop that applies the convolution step by step\n"
   ]
  },
  {
   "cell_type": "code",
   "execution_count": null,
   "id": "e53f5162",
   "metadata": {},
   "outputs": [],
   "source": [
    "# plot the original image, kernel and convolved output side by side\n",
    "fig, axs = plt.subplots(1, 3, figsize=(12, 4))"
   ]
  },
  {
   "cell_type": "code",
   "execution_count": null,
   "id": "f7d00c37",
   "metadata": {},
   "outputs": [],
   "source": [
    "# Convolve the image with the kernel using the sps.correlate function. \n",
    "# Compare the result to your manual implementation."
   ]
  },
  {
   "cell_type": "code",
   "execution_count": null,
   "id": "581ecc6e",
   "metadata": {},
   "outputs": [],
   "source": [
    "# Convert your for loops above to a function that takes an image and a kernel as input and returns the convolved image."
   ]
  },
  {
   "cell_type": "code",
   "execution_count": null,
   "id": "24f580e9",
   "metadata": {},
   "outputs": [],
   "source": [
    "# Add a padding parameter to your function. Compare the result to the output of spn.convolve."
   ]
  },
  {
   "cell_type": "code",
   "execution_count": null,
   "id": "478fb3d8",
   "metadata": {},
   "outputs": [],
   "source": []
  }
 ],
 "metadata": {
  "kernelspec": {
   "display_name": "venv",
   "language": "python",
   "name": "python3"
  },
  "language_info": {
   "codemirror_mode": {
    "name": "ipython",
    "version": 3
   },
   "file_extension": ".py",
   "mimetype": "text/x-python",
   "name": "python",
   "nbconvert_exporter": "python",
   "pygments_lexer": "ipython3",
   "version": "3.11.12"
  }
 },
 "nbformat": 4,
 "nbformat_minor": 5
}
