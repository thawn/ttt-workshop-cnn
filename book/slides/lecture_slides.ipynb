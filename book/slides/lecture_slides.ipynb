{
 "cells": [
  {
   "cell_type": "markdown",
   "id": "cc755330",
   "metadata": {},
   "source": [
    "[![Open In Colab](https://colab.research.google.com/assets/colab-badge.svg)](https://colab.research.google.com/github/USER/teaching-cnn/blob/main/book/slides/lecture_slides.ipynb)\n",
    "\n",
    "# Slides: Convolutional Neural Networks (20 min)\n",
    "\n",
    "Use Presentation mode.\n",
    "\n",
    "- Convolutions\n",
    "- Pooling\n",
    "- U-Net\n",
    "- Microscopy use cases\n",
    "- Teaching methods"
   ]
  }
 ],
 "metadata": {
  "language_info": {
   "name": "python"
  }
 },
 "nbformat": 4,
 "nbformat_minor": 5
}
