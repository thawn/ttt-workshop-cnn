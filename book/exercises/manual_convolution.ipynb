{
 "cells": [
  {
   "cell_type": "markdown",
   "id": "13535d2c",
   "metadata": {},
   "source": [
    "# Manual Convolution Exercise\n",
    "\n",
    "[![Open In Colab](https://colab.research.google.com/assets/colab-badge.svg)](https://colab.research.google.com/github/USER/teaching-cnn/blob/main/book/exercises/manual_convolution.ipynb)\n",
    "\n",
    "Implement 2D convolution from scratch and compare to SciPy."
   ]
  },
  {
   "cell_type": "code",
   "execution_count": null,
   "id": "bc1c931c",
   "metadata": {},
   "outputs": [],
   "source": [
    "# Setup\n",
    "import numpy as np\n",
    "from numpy.typing import NDArray\n",
    "try:\n",
    "    import scipy.signal as sps\n",
    "except Exception:\n",
    "    import sys, subprocess\n",
    "    subprocess.check_call([sys.executable, '-m', 'pip', 'install', 'scipy', '-q'])\n",
    "    import scipy.signal as sps"
   ]
  },
  {
   "cell_type": "code",
   "execution_count": null,
   "id": "d6c6dbdb",
   "metadata": {},
   "outputs": [],
   "source": [
    "def conv2d(image: NDArray[np.float32], kernel: NDArray[np.float32], padding: str = 'valid', stride: int = 1) -> np.ndarray:\n",
    "    \"\"\"\n",
    "    Perform a 2D convolution using nested loops.\n",
    "\n",
    "    Parameters\n",
    "    ----------\n",
    "    image : ndarray\n",
    "        Input 2D image.\n",
    "    kernel : ndarray\n",
    "        2D convolution kernel (will be flipped).\n",
    "    padding : {'valid', 'same'}\n",
    "        Padding mode.\n",
    "    stride : int\n",
    "        Stride for both dimensions.\n",
    "\n",
    "    Returns\n",
    "    -------\n",
    "    ndarray\n",
    "        Convolved output.\n",
    "    \"\"\"\n",
    "    if kernel.ndim != 2 or image.ndim != 2:\n",
    "        raise ValueError('Both image and kernel must be 2D.')\n",
    "    k = np.flipud(np.fliplr(kernel))\n",
    "    if padding not in {'valid','same'}:\n",
    "        raise ValueError(\"padding must be 'valid' or 'same'\")\n",
    "    pad_h = pad_w = 0\n",
    "    if padding == 'same':\n",
    "        pad_h = (k.shape[0] - 1) // 2\n",
    "        pad_w = (k.shape[1] - 1) // 2\n",
    "    img = np.pad(image, ((pad_h,pad_h),(pad_w,pad_w)), mode='constant')\n",
    "    out_h = (img.shape[0] - k.shape[0]) // stride + 1\n",
    "    out_w = (img.shape[1] - k.shape[1]) // stride + 1\n",
    "    out = np.zeros((out_h, out_w), dtype=np.float32)\n",
    "    for i in range(0, out_h):\n",
    "        for j in range(0, out_w):\n",
    "            region = img[i*stride:i*stride+k.shape[0], j*stride:j*stride+k.shape[1]]\n",
    "            out[i,j] = float(np.sum(region * k))\n",
    "    return out"
   ]
  },
  {
   "cell_type": "code",
   "execution_count": null,
   "id": "170444ea",
   "metadata": {},
   "outputs": [],
   "source": [
    "# Quick check against SciPy\n",
    "np.random.seed(0)\n",
    "img = np.random.rand(8,8).astype(np.float32)\n",
    "ker = np.array([[1,2,1],[0,0,0],[-1,-2,-1]], dtype=np.float32)\n",
    "ref = sps.convolve2d(img, ker, mode='same')\n",
    "out = conv2d(img, ker, padding='same')\n",
    "print('Max abs diff:', np.max(np.abs(ref - out)))\n",
    "assert np.allclose(ref, out, atol=1e-5)\n",
    "print('OK')"
   ]
  }
 ],
 "metadata": {
  "language_info": {
   "name": "python"
  }
 },
 "nbformat": 4,
 "nbformat_minor": 5
}
