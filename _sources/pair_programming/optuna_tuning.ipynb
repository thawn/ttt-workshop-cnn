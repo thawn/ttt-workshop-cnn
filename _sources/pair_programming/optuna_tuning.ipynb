{
 "cells": [
  {
   "cell_type": "markdown",
   "id": "7a99e72f",
   "metadata": {},
   "source": [
    "# Hyperparameter Tuning with Optuna\n",
    "\n",
    "[![Open In Colab](https://colab.research.google.com/assets/colab-badge.svg)](https://colab.research.google.com/github/thawn/ttt-workshop-cnn/blob/main/book/pair_programming/optuna_tuning.ipynb)\n",
    "\n",
    "Tune learning rate, weight decay, and channels on a toy training loop."
   ]
  },
  {
   "cell_type": "code",
   "execution_count": 1,
   "id": "6c0df7a2",
   "metadata": {},
   "outputs": [],
   "source": [
    "# Dependency management\n",
    "import sys, subprocess\n",
    "for p in ['optuna', 'plotly', 'scikit-learn', 'torch']:\n",
    "    try:\n",
    "        __import__(p if p != 'scikit-learn' else 'sklearn')\n",
    "    except Exception:\n",
    "        subprocess.check_call([sys.executable, '-m', 'pip', 'install', p, '-q'])"
   ]
  },
  {
   "cell_type": "code",
   "execution_count": 2,
   "id": "3a4a8622",
   "metadata": {},
   "outputs": [],
   "source": [
    "import optuna\n",
    "import torch, torch.nn as nn, torch.optim as optim\n",
    "from pathlib import Path\n",
    "\n",
    "# fix random seeds for reproducibility\n",
    "_ = torch.random.manual_seed(0)"
   ]
  },
  {
   "cell_type": "code",
   "execution_count": 3,
   "id": "4393fe3c",
   "metadata": {},
   "outputs": [],
   "source": [
    "# Data\n",
    "X = torch.randn(64,1,16,16)\n",
    "y = torch.randn(64,1,16,16)\n",
    "\n",
    "# Model\n",
    "class Tiny(nn.Module):\n",
    "    def __init__(self, ch=8):\n",
    "        super().__init__()\n",
    "        self.net = nn.Sequential(nn.Conv2d(1,ch,3,padding=1), nn.ReLU(), nn.Conv2d(ch,1,3,padding=1))\n",
    "    def forward(self,x): return self.net(x)\n",
    "\n",
    "# Loss\n",
    "criterion = nn.MSELoss()\n"
   ]
  },
  {
   "cell_type": "code",
   "execution_count": 4,
   "id": "c4bb9e04",
   "metadata": {},
   "outputs": [],
   "source": [
    "# Objective function\n",
    "def objective(trial):\n",
    "    lr = trial.suggest_float('lr', 1e-4, 1e-2, log=True)\n",
    "    wd = trial.suggest_float('weight_decay', 0.0, 1e-3)\n",
    "    ch = trial.suggest_categorical('channels', [4,8,16,32])\n",
    "    model = Tiny(ch)\n",
    "    opt = optim.Adam(model.parameters(), lr=lr, weight_decay=wd)\n",
    "    for _ in range(10):\n",
    "        opt.zero_grad(); loss = criterion(model(X), y); loss.backward(); opt.step()\n",
    "    return float(loss)"
   ]
  },
  {
   "cell_type": "code",
   "execution_count": 5,
   "id": "90b74159",
   "metadata": {},
   "outputs": [
    {
     "name": "stderr",
     "output_type": "stream",
     "text": [
      "[I 2025-09-15 10:50:45,135] Using an existing study with name 'tiny_optuna_study' instead of creating a new one.\n"
     ]
    }
   ],
   "source": [
    "# Create study\n",
    "study_name = \"tiny_optuna_study\"\n",
    "\n",
    "study = optuna.create_study(\n",
    "    direction=\"minimize\", study_name=study_name, storage=f\"sqlite:///{Path('data') / study_name}.db\", load_if_exists=True\n",
    ")"
   ]
  },
  {
   "cell_type": "code",
   "execution_count": 6,
   "id": "d1749603",
   "metadata": {},
   "outputs": [
    {
     "name": "stderr",
     "output_type": "stream",
     "text": [
      "/var/folders/8s/7jr95f1d28vflnwm1cfqv7t40000gr/T/ipykernel_60404/2863418574.py:10: UserWarning: Converting a tensor with requires_grad=True to a scalar may lead to unexpected behavior.\n",
      "Consider using tensor.detach() first. (Triggered internally at /Users/runner/work/pytorch/pytorch/pytorch/torch/csrc/autograd/generated/python_variable_methods.cpp:836.)\n",
      "  return float(loss)\n",
      "[I 2025-09-15 10:50:45,616] Trial 105 finished with value: 1.006271243095398 and parameters: {'lr': 0.003235477059194364, 'weight_decay': 0.0003943571991857662, 'channels': 32}. Best is trial 32 with value: 0.996220588684082.\n",
      "[I 2025-09-15 10:50:45,745] Trial 106 finished with value: 1.0000187158584595 and parameters: {'lr': 0.0027549332514569605, 'weight_decay': 0.00031531261055469425, 'channels': 32}. Best is trial 32 with value: 0.996220588684082.\n",
      "[I 2025-09-15 10:50:45,875] Trial 107 finished with value: 1.009878396987915 and parameters: {'lr': 0.002420744368846494, 'weight_decay': 0.00045482561461950726, 'channels': 32}. Best is trial 32 with value: 0.996220588684082.\n",
      "[I 2025-09-15 10:50:45,966] Trial 108 finished with value: 1.007885456085205 and parameters: {'lr': 0.0009786069028638817, 'weight_decay': 0.00048100263816781586, 'channels': 16}. Best is trial 32 with value: 0.996220588684082.\n",
      "[I 2025-09-15 10:50:46,096] Trial 109 finished with value: 0.9994664788246155 and parameters: {'lr': 0.0030556337659491174, 'weight_decay': 0.0004129443791408667, 'channels': 32}. Best is trial 32 with value: 0.996220588684082.\n",
      "[I 2025-09-15 10:50:46,233] Trial 110 finished with value: 1.0009382963180542 and parameters: {'lr': 0.002101007519206481, 'weight_decay': 0.0003449097292455849, 'channels': 32}. Best is trial 32 with value: 0.996220588684082.\n",
      "[I 2025-09-15 10:50:46,373] Trial 111 finished with value: 1.0106827020645142 and parameters: {'lr': 0.004147195041546107, 'weight_decay': 0.0009305661477613521, 'channels': 32}. Best is trial 32 with value: 0.996220588684082.\n",
      "[I 2025-09-15 10:50:46,511] Trial 112 finished with value: 1.0047558546066284 and parameters: {'lr': 0.0035006284071605713, 'weight_decay': 0.0009996980097125463, 'channels': 32}. Best is trial 32 with value: 0.996220588684082.\n",
      "[I 2025-09-15 10:50:46,660] Trial 113 finished with value: 1.0062437057495117 and parameters: {'lr': 0.003673106898913522, 'weight_decay': 0.000387712755648072, 'channels': 32}. Best is trial 32 with value: 0.996220588684082.\n",
      "[I 2025-09-15 10:50:46,808] Trial 114 finished with value: 1.0063239336013794 and parameters: {'lr': 0.004471348803588054, 'weight_decay': 0.0008714604734189761, 'channels': 32}. Best is trial 32 with value: 0.996220588684082.\n",
      "[I 2025-09-15 10:50:46,956] Trial 115 finished with value: 1.0120792388916016 and parameters: {'lr': 0.005797713415706243, 'weight_decay': 0.000530515571565896, 'channels': 32}. Best is trial 32 with value: 0.996220588684082.\n",
      "[I 2025-09-15 10:50:47,024] Trial 116 finished with value: 1.0217697620391846 and parameters: {'lr': 0.002985617199946326, 'weight_decay': 0.0005885589659743347, 'channels': 8}. Best is trial 32 with value: 0.996220588684082.\n",
      "[I 2025-09-15 10:50:47,113] Trial 117 finished with value: 1.0228348970413208 and parameters: {'lr': 0.00040623983046468, 'weight_decay': 0.0009590381757001636, 'channels': 16}. Best is trial 32 with value: 0.996220588684082.\n",
      "[I 2025-09-15 10:50:47,266] Trial 118 finished with value: 1.0076782703399658 and parameters: {'lr': 0.004102273962305216, 'weight_decay': 0.0009114745519284437, 'channels': 32}. Best is trial 32 with value: 0.996220588684082.\n",
      "[I 2025-09-15 10:50:47,395] Trial 119 finished with value: 1.0084097385406494 and parameters: {'lr': 0.0033198081663146353, 'weight_decay': 0.0007660291730456423, 'channels': 32}. Best is trial 32 with value: 0.996220588684082.\n"
     ]
    },
    {
     "name": "stdout",
     "output_type": "stream",
     "text": [
      "Best: {'lr': 0.004609140937925973, 'weight_decay': 0.0008943556142438781, 'channels': 16}\n"
     ]
    }
   ],
   "source": [
    "# Optimize the study\n",
    "study.optimize(objective, n_trials=15)\n",
    "print('Best:', study.best_params)"
   ]
  },
  {
   "cell_type": "code",
   "execution_count": 7,
   "id": "24fa7d9a",
   "metadata": {},
   "outputs": [
    {
     "data": {
      "application/vnd.plotly.v1+json": {
       "config": {
        "plotlyServerURL": "https://plot.ly"
       },
       "data": [
        {
         "mode": "markers",
         "name": "Objective Value",
         "type": "scatter",
         "x": [
          0,
          1,
          2,
          3,
          4,
          5,
          6,
          7,
          8,
          9,
          10,
          11,
          12,
          13,
          14,
          15,
          16,
          17,
          18,
          19,
          20,
          21,
          22,
          23,
          24,
          25,
          26,
          27,
          28,
          29,
          30,
          31,
          32,
          33,
          34,
          35,
          36,
          37,
          38,
          39,
          40,
          41,
          42,
          43,
          44,
          45,
          46,
          47,
          48,
          49,
          50,
          51,
          52,
          53,
          54,
          55,
          56,
          57,
          58,
          59,
          60,
          61,
          62,
          63,
          64,
          65,
          66,
          67,
          68,
          69,
          70,
          71,
          72,
          73,
          74,
          75,
          76,
          77,
          78,
          79,
          80,
          81,
          82,
          83,
          84,
          85,
          86,
          87,
          88,
          89,
          90,
          91,
          92,
          93,
          94,
          95,
          96,
          97,
          98,
          99,
          100,
          101,
          102,
          103,
          104,
          105,
          106,
          107,
          108,
          109,
          110,
          111,
          112,
          113,
          114,
          115,
          116,
          117,
          118,
          119
         ],
         "y": [
          1.03127121925354,
          1.044790267944336,
          1.0337705612182617,
          1.084554672241211,
          1.0709947347640991,
          1.0389339923858643,
          1.0432476997375488,
          1.0122325420379639,
          1.0189507007598877,
          1.0352749824523926,
          1.0199084281921387,
          1.0246315002441406,
          1.0212812423706055,
          1.0228253602981567,
          1.0334980487823486,
          1.0085853338241577,
          1.003537654876709,
          1.0207256078720093,
          1.0191112756729126,
          1.013596534729004,
          1.0443971157073975,
          1.0016570091247559,
          1.0069831609725952,
          0.999360203742981,
          1.0078256130218506,
          0.9995532631874084,
          1.0031605958938599,
          0.9995288848876953,
          1.005096197128296,
          1.002422571182251,
          1.0019659996032715,
          0.9991520643234253,
          0.996220588684082,
          0.9979919791221619,
          1.0027976036071777,
          1.0081138610839844,
          1.0052142143249512,
          1.0030949115753174,
          1.0235332250595093,
          0.9980480670928955,
          1.0325050354003906,
          1.0050009489059448,
          1.0121221542358398,
          1.0155497789382935,
          1.0147407054901123,
          1.0168228149414062,
          0.9981841444969177,
          0.99867182970047,
          1.0214269161224365,
          1.0034700632095337,
          0.9969980716705322,
          1.0007076263427734,
          1.0121729373931885,
          1.0116915702819824,
          1.0136098861694336,
          1.0025415420532227,
          1.0037202835083008,
          0.9994943737983704,
          1.0266168117523193,
          1.033103346824646,
          1.0052062273025513,
          0.9991100430488586,
          1.004063606262207,
          1.0080238580703735,
          1.000401496887207,
          0.9980193972587585,
          1.0037970542907715,
          1.148310899734497,
          1.0075305700302124,
          1.011930227279663,
          1.0007579326629639,
          1.0155322551727295,
          1.002509593963623,
          1.001181721687317,
          1.0091204643249512,
          1.002763032913208,
          0.9990745782852173,
          1.0090248584747314,
          1.0036910772323608,
          1.0088715553283691,
          1.0000296831130981,
          1.0114641189575195,
          1.0066885948181152,
          1.0028074979782104,
          0.9993463754653931,
          0.9995493292808533,
          0.9984349608421326,
          1.0040916204452515,
          1.002585530281067,
          1.0050846338272095,
          1.0074646472930908,
          1.0077872276306152,
          1.0172991752624512,
          0.9997149705886841,
          1.0005964040756226,
          0.9984243512153625,
          1.0064324140548706,
          1.0201343297958374,
          1.0040745735168457,
          1.0125237703323364,
          1.0514023303985596,
          0.9972764849662781,
          1.0031299591064453,
          1.0027061700820923,
          0.9963103532791138,
          1.006271243095398,
          1.0000187158584595,
          1.009878396987915,
          1.007885456085205,
          0.9994664788246155,
          1.0009382963180542,
          1.0106827020645142,
          1.0047558546066284,
          1.0062437057495117,
          1.0063239336013794,
          1.0120792388916016,
          1.0217697620391846,
          1.0228348970413208,
          1.0076782703399658,
          1.0084097385406494
         ]
        },
        {
         "mode": "lines",
         "name": "Best Value",
         "type": "scatter",
         "x": [
          0,
          1,
          2,
          3,
          4,
          5,
          6,
          7,
          8,
          9,
          10,
          11,
          12,
          13,
          14,
          15,
          16,
          17,
          18,
          19,
          20,
          21,
          22,
          23,
          24,
          25,
          26,
          27,
          28,
          29,
          30,
          31,
          32,
          33,
          34,
          35,
          36,
          37,
          38,
          39,
          40,
          41,
          42,
          43,
          44,
          45,
          46,
          47,
          48,
          49,
          50,
          51,
          52,
          53,
          54,
          55,
          56,
          57,
          58,
          59,
          60,
          61,
          62,
          63,
          64,
          65,
          66,
          67,
          68,
          69,
          70,
          71,
          72,
          73,
          74,
          75,
          76,
          77,
          78,
          79,
          80,
          81,
          82,
          83,
          84,
          85,
          86,
          87,
          88,
          89,
          90,
          91,
          92,
          93,
          94,
          95,
          96,
          97,
          98,
          99,
          100,
          101,
          102,
          103,
          104,
          105,
          106,
          107,
          108,
          109,
          110,
          111,
          112,
          113,
          114,
          115,
          116,
          117,
          118,
          119
         ],
         "y": [
          1.03127121925354,
          1.03127121925354,
          1.03127121925354,
          1.03127121925354,
          1.03127121925354,
          1.03127121925354,
          1.03127121925354,
          1.0122325420379639,
          1.0122325420379639,
          1.0122325420379639,
          1.0122325420379639,
          1.0122325420379639,
          1.0122325420379639,
          1.0122325420379639,
          1.0122325420379639,
          1.0085853338241577,
          1.003537654876709,
          1.003537654876709,
          1.003537654876709,
          1.003537654876709,
          1.003537654876709,
          1.0016570091247559,
          1.0016570091247559,
          0.999360203742981,
          0.999360203742981,
          0.999360203742981,
          0.999360203742981,
          0.999360203742981,
          0.999360203742981,
          0.999360203742981,
          0.999360203742981,
          0.9991520643234253,
          0.996220588684082,
          0.996220588684082,
          0.996220588684082,
          0.996220588684082,
          0.996220588684082,
          0.996220588684082,
          0.996220588684082,
          0.996220588684082,
          0.996220588684082,
          0.996220588684082,
          0.996220588684082,
          0.996220588684082,
          0.996220588684082,
          0.996220588684082,
          0.996220588684082,
          0.996220588684082,
          0.996220588684082,
          0.996220588684082,
          0.996220588684082,
          0.996220588684082,
          0.996220588684082,
          0.996220588684082,
          0.996220588684082,
          0.996220588684082,
          0.996220588684082,
          0.996220588684082,
          0.996220588684082,
          0.996220588684082,
          0.996220588684082,
          0.996220588684082,
          0.996220588684082,
          0.996220588684082,
          0.996220588684082,
          0.996220588684082,
          0.996220588684082,
          0.996220588684082,
          0.996220588684082,
          0.996220588684082,
          0.996220588684082,
          0.996220588684082,
          0.996220588684082,
          0.996220588684082,
          0.996220588684082,
          0.996220588684082,
          0.996220588684082,
          0.996220588684082,
          0.996220588684082,
          0.996220588684082,
          0.996220588684082,
          0.996220588684082,
          0.996220588684082,
          0.996220588684082,
          0.996220588684082,
          0.996220588684082,
          0.996220588684082,
          0.996220588684082,
          0.996220588684082,
          0.996220588684082,
          0.996220588684082,
          0.996220588684082,
          0.996220588684082,
          0.996220588684082,
          0.996220588684082,
          0.996220588684082,
          0.996220588684082,
          0.996220588684082,
          0.996220588684082,
          0.996220588684082,
          0.996220588684082,
          0.996220588684082,
          0.996220588684082,
          0.996220588684082,
          0.996220588684082,
          0.996220588684082,
          0.996220588684082,
          0.996220588684082,
          0.996220588684082,
          0.996220588684082,
          0.996220588684082,
          0.996220588684082,
          0.996220588684082,
          0.996220588684082,
          0.996220588684082,
          0.996220588684082,
          0.996220588684082,
          0.996220588684082,
          0.996220588684082,
          0.996220588684082
         ]
        },
        {
         "marker": {
          "color": "#cccccc"
         },
         "mode": "markers",
         "name": "Infeasible Trial",
         "showlegend": false,
         "type": "scatter",
         "x": [],
         "y": []
        }
       ],
       "layout": {
        "template": {
         "data": {
          "bar": [
           {
            "error_x": {
             "color": "#2a3f5f"
            },
            "error_y": {
             "color": "#2a3f5f"
            },
            "marker": {
             "line": {
              "color": "#E5ECF6",
              "width": 0.5
             },
             "pattern": {
              "fillmode": "overlay",
              "size": 10,
              "solidity": 0.2
             }
            },
            "type": "bar"
           }
          ],
          "barpolar": [
           {
            "marker": {
             "line": {
              "color": "#E5ECF6",
              "width": 0.5
             },
             "pattern": {
              "fillmode": "overlay",
              "size": 10,
              "solidity": 0.2
             }
            },
            "type": "barpolar"
           }
          ],
          "carpet": [
           {
            "aaxis": {
             "endlinecolor": "#2a3f5f",
             "gridcolor": "white",
             "linecolor": "white",
             "minorgridcolor": "white",
             "startlinecolor": "#2a3f5f"
            },
            "baxis": {
             "endlinecolor": "#2a3f5f",
             "gridcolor": "white",
             "linecolor": "white",
             "minorgridcolor": "white",
             "startlinecolor": "#2a3f5f"
            },
            "type": "carpet"
           }
          ],
          "choropleth": [
           {
            "colorbar": {
             "outlinewidth": 0,
             "ticks": ""
            },
            "type": "choropleth"
           }
          ],
          "contour": [
           {
            "colorbar": {
             "outlinewidth": 0,
             "ticks": ""
            },
            "colorscale": [
             [
              0,
              "#0d0887"
             ],
             [
              0.1111111111111111,
              "#46039f"
             ],
             [
              0.2222222222222222,
              "#7201a8"
             ],
             [
              0.3333333333333333,
              "#9c179e"
             ],
             [
              0.4444444444444444,
              "#bd3786"
             ],
             [
              0.5555555555555556,
              "#d8576b"
             ],
             [
              0.6666666666666666,
              "#ed7953"
             ],
             [
              0.7777777777777778,
              "#fb9f3a"
             ],
             [
              0.8888888888888888,
              "#fdca26"
             ],
             [
              1,
              "#f0f921"
             ]
            ],
            "type": "contour"
           }
          ],
          "contourcarpet": [
           {
            "colorbar": {
             "outlinewidth": 0,
             "ticks": ""
            },
            "type": "contourcarpet"
           }
          ],
          "heatmap": [
           {
            "colorbar": {
             "outlinewidth": 0,
             "ticks": ""
            },
            "colorscale": [
             [
              0,
              "#0d0887"
             ],
             [
              0.1111111111111111,
              "#46039f"
             ],
             [
              0.2222222222222222,
              "#7201a8"
             ],
             [
              0.3333333333333333,
              "#9c179e"
             ],
             [
              0.4444444444444444,
              "#bd3786"
             ],
             [
              0.5555555555555556,
              "#d8576b"
             ],
             [
              0.6666666666666666,
              "#ed7953"
             ],
             [
              0.7777777777777778,
              "#fb9f3a"
             ],
             [
              0.8888888888888888,
              "#fdca26"
             ],
             [
              1,
              "#f0f921"
             ]
            ],
            "type": "heatmap"
           }
          ],
          "histogram": [
           {
            "marker": {
             "pattern": {
              "fillmode": "overlay",
              "size": 10,
              "solidity": 0.2
             }
            },
            "type": "histogram"
           }
          ],
          "histogram2d": [
           {
            "colorbar": {
             "outlinewidth": 0,
             "ticks": ""
            },
            "colorscale": [
             [
              0,
              "#0d0887"
             ],
             [
              0.1111111111111111,
              "#46039f"
             ],
             [
              0.2222222222222222,
              "#7201a8"
             ],
             [
              0.3333333333333333,
              "#9c179e"
             ],
             [
              0.4444444444444444,
              "#bd3786"
             ],
             [
              0.5555555555555556,
              "#d8576b"
             ],
             [
              0.6666666666666666,
              "#ed7953"
             ],
             [
              0.7777777777777778,
              "#fb9f3a"
             ],
             [
              0.8888888888888888,
              "#fdca26"
             ],
             [
              1,
              "#f0f921"
             ]
            ],
            "type": "histogram2d"
           }
          ],
          "histogram2dcontour": [
           {
            "colorbar": {
             "outlinewidth": 0,
             "ticks": ""
            },
            "colorscale": [
             [
              0,
              "#0d0887"
             ],
             [
              0.1111111111111111,
              "#46039f"
             ],
             [
              0.2222222222222222,
              "#7201a8"
             ],
             [
              0.3333333333333333,
              "#9c179e"
             ],
             [
              0.4444444444444444,
              "#bd3786"
             ],
             [
              0.5555555555555556,
              "#d8576b"
             ],
             [
              0.6666666666666666,
              "#ed7953"
             ],
             [
              0.7777777777777778,
              "#fb9f3a"
             ],
             [
              0.8888888888888888,
              "#fdca26"
             ],
             [
              1,
              "#f0f921"
             ]
            ],
            "type": "histogram2dcontour"
           }
          ],
          "mesh3d": [
           {
            "colorbar": {
             "outlinewidth": 0,
             "ticks": ""
            },
            "type": "mesh3d"
           }
          ],
          "parcoords": [
           {
            "line": {
             "colorbar": {
              "outlinewidth": 0,
              "ticks": ""
             }
            },
            "type": "parcoords"
           }
          ],
          "pie": [
           {
            "automargin": true,
            "type": "pie"
           }
          ],
          "scatter": [
           {
            "fillpattern": {
             "fillmode": "overlay",
             "size": 10,
             "solidity": 0.2
            },
            "type": "scatter"
           }
          ],
          "scatter3d": [
           {
            "line": {
             "colorbar": {
              "outlinewidth": 0,
              "ticks": ""
             }
            },
            "marker": {
             "colorbar": {
              "outlinewidth": 0,
              "ticks": ""
             }
            },
            "type": "scatter3d"
           }
          ],
          "scattercarpet": [
           {
            "marker": {
             "colorbar": {
              "outlinewidth": 0,
              "ticks": ""
             }
            },
            "type": "scattercarpet"
           }
          ],
          "scattergeo": [
           {
            "marker": {
             "colorbar": {
              "outlinewidth": 0,
              "ticks": ""
             }
            },
            "type": "scattergeo"
           }
          ],
          "scattergl": [
           {
            "marker": {
             "colorbar": {
              "outlinewidth": 0,
              "ticks": ""
             }
            },
            "type": "scattergl"
           }
          ],
          "scattermap": [
           {
            "marker": {
             "colorbar": {
              "outlinewidth": 0,
              "ticks": ""
             }
            },
            "type": "scattermap"
           }
          ],
          "scattermapbox": [
           {
            "marker": {
             "colorbar": {
              "outlinewidth": 0,
              "ticks": ""
             }
            },
            "type": "scattermapbox"
           }
          ],
          "scatterpolar": [
           {
            "marker": {
             "colorbar": {
              "outlinewidth": 0,
              "ticks": ""
             }
            },
            "type": "scatterpolar"
           }
          ],
          "scatterpolargl": [
           {
            "marker": {
             "colorbar": {
              "outlinewidth": 0,
              "ticks": ""
             }
            },
            "type": "scatterpolargl"
           }
          ],
          "scatterternary": [
           {
            "marker": {
             "colorbar": {
              "outlinewidth": 0,
              "ticks": ""
             }
            },
            "type": "scatterternary"
           }
          ],
          "surface": [
           {
            "colorbar": {
             "outlinewidth": 0,
             "ticks": ""
            },
            "colorscale": [
             [
              0,
              "#0d0887"
             ],
             [
              0.1111111111111111,
              "#46039f"
             ],
             [
              0.2222222222222222,
              "#7201a8"
             ],
             [
              0.3333333333333333,
              "#9c179e"
             ],
             [
              0.4444444444444444,
              "#bd3786"
             ],
             [
              0.5555555555555556,
              "#d8576b"
             ],
             [
              0.6666666666666666,
              "#ed7953"
             ],
             [
              0.7777777777777778,
              "#fb9f3a"
             ],
             [
              0.8888888888888888,
              "#fdca26"
             ],
             [
              1,
              "#f0f921"
             ]
            ],
            "type": "surface"
           }
          ],
          "table": [
           {
            "cells": {
             "fill": {
              "color": "#EBF0F8"
             },
             "line": {
              "color": "white"
             }
            },
            "header": {
             "fill": {
              "color": "#C8D4E3"
             },
             "line": {
              "color": "white"
             }
            },
            "type": "table"
           }
          ]
         },
         "layout": {
          "annotationdefaults": {
           "arrowcolor": "#2a3f5f",
           "arrowhead": 0,
           "arrowwidth": 1
          },
          "autotypenumbers": "strict",
          "coloraxis": {
           "colorbar": {
            "outlinewidth": 0,
            "ticks": ""
           }
          },
          "colorscale": {
           "diverging": [
            [
             0,
             "#8e0152"
            ],
            [
             0.1,
             "#c51b7d"
            ],
            [
             0.2,
             "#de77ae"
            ],
            [
             0.3,
             "#f1b6da"
            ],
            [
             0.4,
             "#fde0ef"
            ],
            [
             0.5,
             "#f7f7f7"
            ],
            [
             0.6,
             "#e6f5d0"
            ],
            [
             0.7,
             "#b8e186"
            ],
            [
             0.8,
             "#7fbc41"
            ],
            [
             0.9,
             "#4d9221"
            ],
            [
             1,
             "#276419"
            ]
           ],
           "sequential": [
            [
             0,
             "#0d0887"
            ],
            [
             0.1111111111111111,
             "#46039f"
            ],
            [
             0.2222222222222222,
             "#7201a8"
            ],
            [
             0.3333333333333333,
             "#9c179e"
            ],
            [
             0.4444444444444444,
             "#bd3786"
            ],
            [
             0.5555555555555556,
             "#d8576b"
            ],
            [
             0.6666666666666666,
             "#ed7953"
            ],
            [
             0.7777777777777778,
             "#fb9f3a"
            ],
            [
             0.8888888888888888,
             "#fdca26"
            ],
            [
             1,
             "#f0f921"
            ]
           ],
           "sequentialminus": [
            [
             0,
             "#0d0887"
            ],
            [
             0.1111111111111111,
             "#46039f"
            ],
            [
             0.2222222222222222,
             "#7201a8"
            ],
            [
             0.3333333333333333,
             "#9c179e"
            ],
            [
             0.4444444444444444,
             "#bd3786"
            ],
            [
             0.5555555555555556,
             "#d8576b"
            ],
            [
             0.6666666666666666,
             "#ed7953"
            ],
            [
             0.7777777777777778,
             "#fb9f3a"
            ],
            [
             0.8888888888888888,
             "#fdca26"
            ],
            [
             1,
             "#f0f921"
            ]
           ]
          },
          "colorway": [
           "#636efa",
           "#EF553B",
           "#00cc96",
           "#ab63fa",
           "#FFA15A",
           "#19d3f3",
           "#FF6692",
           "#B6E880",
           "#FF97FF",
           "#FECB52"
          ],
          "font": {
           "color": "#2a3f5f"
          },
          "geo": {
           "bgcolor": "white",
           "lakecolor": "white",
           "landcolor": "#E5ECF6",
           "showlakes": true,
           "showland": true,
           "subunitcolor": "white"
          },
          "hoverlabel": {
           "align": "left"
          },
          "hovermode": "closest",
          "mapbox": {
           "style": "light"
          },
          "paper_bgcolor": "white",
          "plot_bgcolor": "#E5ECF6",
          "polar": {
           "angularaxis": {
            "gridcolor": "white",
            "linecolor": "white",
            "ticks": ""
           },
           "bgcolor": "#E5ECF6",
           "radialaxis": {
            "gridcolor": "white",
            "linecolor": "white",
            "ticks": ""
           }
          },
          "scene": {
           "xaxis": {
            "backgroundcolor": "#E5ECF6",
            "gridcolor": "white",
            "gridwidth": 2,
            "linecolor": "white",
            "showbackground": true,
            "ticks": "",
            "zerolinecolor": "white"
           },
           "yaxis": {
            "backgroundcolor": "#E5ECF6",
            "gridcolor": "white",
            "gridwidth": 2,
            "linecolor": "white",
            "showbackground": true,
            "ticks": "",
            "zerolinecolor": "white"
           },
           "zaxis": {
            "backgroundcolor": "#E5ECF6",
            "gridcolor": "white",
            "gridwidth": 2,
            "linecolor": "white",
            "showbackground": true,
            "ticks": "",
            "zerolinecolor": "white"
           }
          },
          "shapedefaults": {
           "line": {
            "color": "#2a3f5f"
           }
          },
          "ternary": {
           "aaxis": {
            "gridcolor": "white",
            "linecolor": "white",
            "ticks": ""
           },
           "baxis": {
            "gridcolor": "white",
            "linecolor": "white",
            "ticks": ""
           },
           "bgcolor": "#E5ECF6",
           "caxis": {
            "gridcolor": "white",
            "linecolor": "white",
            "ticks": ""
           }
          },
          "title": {
           "x": 0.05
          },
          "xaxis": {
           "automargin": true,
           "gridcolor": "white",
           "linecolor": "white",
           "ticks": "",
           "title": {
            "standoff": 15
           },
           "zerolinecolor": "white",
           "zerolinewidth": 2
          },
          "yaxis": {
           "automargin": true,
           "gridcolor": "white",
           "linecolor": "white",
           "ticks": "",
           "title": {
            "standoff": 15
           },
           "zerolinecolor": "white",
           "zerolinewidth": 2
          }
         }
        },
        "title": {
         "text": "Optimization History Plot"
        },
        "xaxis": {
         "title": {
          "text": "Trial"
         }
        },
        "yaxis": {
         "title": {
          "text": "Objective Value"
         }
        }
       }
      }
     },
     "metadata": {},
     "output_type": "display_data"
    }
   ],
   "source": [
    "# Plotting\n",
    "fig = optuna.visualization.plot_optimization_history(study)\n",
    "fig.show()"
   ]
  },
  {
   "cell_type": "code",
   "execution_count": 8,
   "id": "c40c9ae0",
   "metadata": {},
   "outputs": [
    {
     "data": {
      "application/vnd.plotly.v1+json": {
       "config": {
        "plotlyServerURL": "https://plot.ly"
       },
       "data": [
        {
         "cliponaxis": false,
         "hovertemplate": [
          "weight_decay (FloatDistribution): 0.08726200224449969<extra></extra>",
          "channels (CategoricalDistribution): 0.35059965225196543<extra></extra>",
          "lr (FloatDistribution): 0.562138345503535<extra></extra>"
         ],
         "name": "Objective Value",
         "orientation": "h",
         "text": [
          "0.09",
          "0.35",
          "0.56"
         ],
         "textposition": "outside",
         "type": "bar",
         "x": [
          0.08726200224449969,
          0.35059965225196543,
          0.562138345503535
         ],
         "y": [
          "weight_decay",
          "channels",
          "lr"
         ]
        }
       ],
       "layout": {
        "template": {
         "data": {
          "bar": [
           {
            "error_x": {
             "color": "#2a3f5f"
            },
            "error_y": {
             "color": "#2a3f5f"
            },
            "marker": {
             "line": {
              "color": "#E5ECF6",
              "width": 0.5
             },
             "pattern": {
              "fillmode": "overlay",
              "size": 10,
              "solidity": 0.2
             }
            },
            "type": "bar"
           }
          ],
          "barpolar": [
           {
            "marker": {
             "line": {
              "color": "#E5ECF6",
              "width": 0.5
             },
             "pattern": {
              "fillmode": "overlay",
              "size": 10,
              "solidity": 0.2
             }
            },
            "type": "barpolar"
           }
          ],
          "carpet": [
           {
            "aaxis": {
             "endlinecolor": "#2a3f5f",
             "gridcolor": "white",
             "linecolor": "white",
             "minorgridcolor": "white",
             "startlinecolor": "#2a3f5f"
            },
            "baxis": {
             "endlinecolor": "#2a3f5f",
             "gridcolor": "white",
             "linecolor": "white",
             "minorgridcolor": "white",
             "startlinecolor": "#2a3f5f"
            },
            "type": "carpet"
           }
          ],
          "choropleth": [
           {
            "colorbar": {
             "outlinewidth": 0,
             "ticks": ""
            },
            "type": "choropleth"
           }
          ],
          "contour": [
           {
            "colorbar": {
             "outlinewidth": 0,
             "ticks": ""
            },
            "colorscale": [
             [
              0,
              "#0d0887"
             ],
             [
              0.1111111111111111,
              "#46039f"
             ],
             [
              0.2222222222222222,
              "#7201a8"
             ],
             [
              0.3333333333333333,
              "#9c179e"
             ],
             [
              0.4444444444444444,
              "#bd3786"
             ],
             [
              0.5555555555555556,
              "#d8576b"
             ],
             [
              0.6666666666666666,
              "#ed7953"
             ],
             [
              0.7777777777777778,
              "#fb9f3a"
             ],
             [
              0.8888888888888888,
              "#fdca26"
             ],
             [
              1,
              "#f0f921"
             ]
            ],
            "type": "contour"
           }
          ],
          "contourcarpet": [
           {
            "colorbar": {
             "outlinewidth": 0,
             "ticks": ""
            },
            "type": "contourcarpet"
           }
          ],
          "heatmap": [
           {
            "colorbar": {
             "outlinewidth": 0,
             "ticks": ""
            },
            "colorscale": [
             [
              0,
              "#0d0887"
             ],
             [
              0.1111111111111111,
              "#46039f"
             ],
             [
              0.2222222222222222,
              "#7201a8"
             ],
             [
              0.3333333333333333,
              "#9c179e"
             ],
             [
              0.4444444444444444,
              "#bd3786"
             ],
             [
              0.5555555555555556,
              "#d8576b"
             ],
             [
              0.6666666666666666,
              "#ed7953"
             ],
             [
              0.7777777777777778,
              "#fb9f3a"
             ],
             [
              0.8888888888888888,
              "#fdca26"
             ],
             [
              1,
              "#f0f921"
             ]
            ],
            "type": "heatmap"
           }
          ],
          "histogram": [
           {
            "marker": {
             "pattern": {
              "fillmode": "overlay",
              "size": 10,
              "solidity": 0.2
             }
            },
            "type": "histogram"
           }
          ],
          "histogram2d": [
           {
            "colorbar": {
             "outlinewidth": 0,
             "ticks": ""
            },
            "colorscale": [
             [
              0,
              "#0d0887"
             ],
             [
              0.1111111111111111,
              "#46039f"
             ],
             [
              0.2222222222222222,
              "#7201a8"
             ],
             [
              0.3333333333333333,
              "#9c179e"
             ],
             [
              0.4444444444444444,
              "#bd3786"
             ],
             [
              0.5555555555555556,
              "#d8576b"
             ],
             [
              0.6666666666666666,
              "#ed7953"
             ],
             [
              0.7777777777777778,
              "#fb9f3a"
             ],
             [
              0.8888888888888888,
              "#fdca26"
             ],
             [
              1,
              "#f0f921"
             ]
            ],
            "type": "histogram2d"
           }
          ],
          "histogram2dcontour": [
           {
            "colorbar": {
             "outlinewidth": 0,
             "ticks": ""
            },
            "colorscale": [
             [
              0,
              "#0d0887"
             ],
             [
              0.1111111111111111,
              "#46039f"
             ],
             [
              0.2222222222222222,
              "#7201a8"
             ],
             [
              0.3333333333333333,
              "#9c179e"
             ],
             [
              0.4444444444444444,
              "#bd3786"
             ],
             [
              0.5555555555555556,
              "#d8576b"
             ],
             [
              0.6666666666666666,
              "#ed7953"
             ],
             [
              0.7777777777777778,
              "#fb9f3a"
             ],
             [
              0.8888888888888888,
              "#fdca26"
             ],
             [
              1,
              "#f0f921"
             ]
            ],
            "type": "histogram2dcontour"
           }
          ],
          "mesh3d": [
           {
            "colorbar": {
             "outlinewidth": 0,
             "ticks": ""
            },
            "type": "mesh3d"
           }
          ],
          "parcoords": [
           {
            "line": {
             "colorbar": {
              "outlinewidth": 0,
              "ticks": ""
             }
            },
            "type": "parcoords"
           }
          ],
          "pie": [
           {
            "automargin": true,
            "type": "pie"
           }
          ],
          "scatter": [
           {
            "fillpattern": {
             "fillmode": "overlay",
             "size": 10,
             "solidity": 0.2
            },
            "type": "scatter"
           }
          ],
          "scatter3d": [
           {
            "line": {
             "colorbar": {
              "outlinewidth": 0,
              "ticks": ""
             }
            },
            "marker": {
             "colorbar": {
              "outlinewidth": 0,
              "ticks": ""
             }
            },
            "type": "scatter3d"
           }
          ],
          "scattercarpet": [
           {
            "marker": {
             "colorbar": {
              "outlinewidth": 0,
              "ticks": ""
             }
            },
            "type": "scattercarpet"
           }
          ],
          "scattergeo": [
           {
            "marker": {
             "colorbar": {
              "outlinewidth": 0,
              "ticks": ""
             }
            },
            "type": "scattergeo"
           }
          ],
          "scattergl": [
           {
            "marker": {
             "colorbar": {
              "outlinewidth": 0,
              "ticks": ""
             }
            },
            "type": "scattergl"
           }
          ],
          "scattermap": [
           {
            "marker": {
             "colorbar": {
              "outlinewidth": 0,
              "ticks": ""
             }
            },
            "type": "scattermap"
           }
          ],
          "scattermapbox": [
           {
            "marker": {
             "colorbar": {
              "outlinewidth": 0,
              "ticks": ""
             }
            },
            "type": "scattermapbox"
           }
          ],
          "scatterpolar": [
           {
            "marker": {
             "colorbar": {
              "outlinewidth": 0,
              "ticks": ""
             }
            },
            "type": "scatterpolar"
           }
          ],
          "scatterpolargl": [
           {
            "marker": {
             "colorbar": {
              "outlinewidth": 0,
              "ticks": ""
             }
            },
            "type": "scatterpolargl"
           }
          ],
          "scatterternary": [
           {
            "marker": {
             "colorbar": {
              "outlinewidth": 0,
              "ticks": ""
             }
            },
            "type": "scatterternary"
           }
          ],
          "surface": [
           {
            "colorbar": {
             "outlinewidth": 0,
             "ticks": ""
            },
            "colorscale": [
             [
              0,
              "#0d0887"
             ],
             [
              0.1111111111111111,
              "#46039f"
             ],
             [
              0.2222222222222222,
              "#7201a8"
             ],
             [
              0.3333333333333333,
              "#9c179e"
             ],
             [
              0.4444444444444444,
              "#bd3786"
             ],
             [
              0.5555555555555556,
              "#d8576b"
             ],
             [
              0.6666666666666666,
              "#ed7953"
             ],
             [
              0.7777777777777778,
              "#fb9f3a"
             ],
             [
              0.8888888888888888,
              "#fdca26"
             ],
             [
              1,
              "#f0f921"
             ]
            ],
            "type": "surface"
           }
          ],
          "table": [
           {
            "cells": {
             "fill": {
              "color": "#EBF0F8"
             },
             "line": {
              "color": "white"
             }
            },
            "header": {
             "fill": {
              "color": "#C8D4E3"
             },
             "line": {
              "color": "white"
             }
            },
            "type": "table"
           }
          ]
         },
         "layout": {
          "annotationdefaults": {
           "arrowcolor": "#2a3f5f",
           "arrowhead": 0,
           "arrowwidth": 1
          },
          "autotypenumbers": "strict",
          "coloraxis": {
           "colorbar": {
            "outlinewidth": 0,
            "ticks": ""
           }
          },
          "colorscale": {
           "diverging": [
            [
             0,
             "#8e0152"
            ],
            [
             0.1,
             "#c51b7d"
            ],
            [
             0.2,
             "#de77ae"
            ],
            [
             0.3,
             "#f1b6da"
            ],
            [
             0.4,
             "#fde0ef"
            ],
            [
             0.5,
             "#f7f7f7"
            ],
            [
             0.6,
             "#e6f5d0"
            ],
            [
             0.7,
             "#b8e186"
            ],
            [
             0.8,
             "#7fbc41"
            ],
            [
             0.9,
             "#4d9221"
            ],
            [
             1,
             "#276419"
            ]
           ],
           "sequential": [
            [
             0,
             "#0d0887"
            ],
            [
             0.1111111111111111,
             "#46039f"
            ],
            [
             0.2222222222222222,
             "#7201a8"
            ],
            [
             0.3333333333333333,
             "#9c179e"
            ],
            [
             0.4444444444444444,
             "#bd3786"
            ],
            [
             0.5555555555555556,
             "#d8576b"
            ],
            [
             0.6666666666666666,
             "#ed7953"
            ],
            [
             0.7777777777777778,
             "#fb9f3a"
            ],
            [
             0.8888888888888888,
             "#fdca26"
            ],
            [
             1,
             "#f0f921"
            ]
           ],
           "sequentialminus": [
            [
             0,
             "#0d0887"
            ],
            [
             0.1111111111111111,
             "#46039f"
            ],
            [
             0.2222222222222222,
             "#7201a8"
            ],
            [
             0.3333333333333333,
             "#9c179e"
            ],
            [
             0.4444444444444444,
             "#bd3786"
            ],
            [
             0.5555555555555556,
             "#d8576b"
            ],
            [
             0.6666666666666666,
             "#ed7953"
            ],
            [
             0.7777777777777778,
             "#fb9f3a"
            ],
            [
             0.8888888888888888,
             "#fdca26"
            ],
            [
             1,
             "#f0f921"
            ]
           ]
          },
          "colorway": [
           "#636efa",
           "#EF553B",
           "#00cc96",
           "#ab63fa",
           "#FFA15A",
           "#19d3f3",
           "#FF6692",
           "#B6E880",
           "#FF97FF",
           "#FECB52"
          ],
          "font": {
           "color": "#2a3f5f"
          },
          "geo": {
           "bgcolor": "white",
           "lakecolor": "white",
           "landcolor": "#E5ECF6",
           "showlakes": true,
           "showland": true,
           "subunitcolor": "white"
          },
          "hoverlabel": {
           "align": "left"
          },
          "hovermode": "closest",
          "mapbox": {
           "style": "light"
          },
          "paper_bgcolor": "white",
          "plot_bgcolor": "#E5ECF6",
          "polar": {
           "angularaxis": {
            "gridcolor": "white",
            "linecolor": "white",
            "ticks": ""
           },
           "bgcolor": "#E5ECF6",
           "radialaxis": {
            "gridcolor": "white",
            "linecolor": "white",
            "ticks": ""
           }
          },
          "scene": {
           "xaxis": {
            "backgroundcolor": "#E5ECF6",
            "gridcolor": "white",
            "gridwidth": 2,
            "linecolor": "white",
            "showbackground": true,
            "ticks": "",
            "zerolinecolor": "white"
           },
           "yaxis": {
            "backgroundcolor": "#E5ECF6",
            "gridcolor": "white",
            "gridwidth": 2,
            "linecolor": "white",
            "showbackground": true,
            "ticks": "",
            "zerolinecolor": "white"
           },
           "zaxis": {
            "backgroundcolor": "#E5ECF6",
            "gridcolor": "white",
            "gridwidth": 2,
            "linecolor": "white",
            "showbackground": true,
            "ticks": "",
            "zerolinecolor": "white"
           }
          },
          "shapedefaults": {
           "line": {
            "color": "#2a3f5f"
           }
          },
          "ternary": {
           "aaxis": {
            "gridcolor": "white",
            "linecolor": "white",
            "ticks": ""
           },
           "baxis": {
            "gridcolor": "white",
            "linecolor": "white",
            "ticks": ""
           },
           "bgcolor": "#E5ECF6",
           "caxis": {
            "gridcolor": "white",
            "linecolor": "white",
            "ticks": ""
           }
          },
          "title": {
           "x": 0.05
          },
          "xaxis": {
           "automargin": true,
           "gridcolor": "white",
           "linecolor": "white",
           "ticks": "",
           "title": {
            "standoff": 15
           },
           "zerolinecolor": "white",
           "zerolinewidth": 2
          },
          "yaxis": {
           "automargin": true,
           "gridcolor": "white",
           "linecolor": "white",
           "ticks": "",
           "title": {
            "standoff": 15
           },
           "zerolinecolor": "white",
           "zerolinewidth": 2
          }
         }
        },
        "title": {
         "text": "Hyperparameter Importances"
        },
        "xaxis": {
         "title": {
          "text": "Hyperparameter Importance"
         }
        },
        "yaxis": {
         "title": {
          "text": "Hyperparameter"
         }
        }
       }
      }
     },
     "metadata": {},
     "output_type": "display_data"
    }
   ],
   "source": [
    "# Plot hyperparameter importance\n",
    "fig = optuna.visualization.plot_param_importances(study)\n",
    "fig.show()"
   ]
  },
  {
   "cell_type": "code",
   "execution_count": 9,
   "id": "c9fe9de6",
   "metadata": {},
   "outputs": [
    {
     "data": {
      "application/vnd.plotly.v1+json": {
       "config": {
        "plotlyServerURL": "https://plot.ly"
       },
       "data": [
        {
         "dimensions": [
          {
           "label": "Objective Value",
           "range": [
            0.996220588684082,
            1.148310899734497
           ],
           "values": [
            1.044790267944336,
            1.084554672241211,
            1.0709947347640991,
            1.0189507007598877,
            1.0228253602981567,
            1.0334980487823486,
            1.0147407054901123,
            1.0266168117523193,
            1.148310899734497,
            1.0088715553283691,
            1.0514023303985596,
            1.0352749824523926,
            1.0246315002441406,
            1.0443971157073975,
            1.0019659996032715,
            1.0168228149414062,
            1.0037970542907715,
            1.002763032913208,
            1.0064324140548706,
            1.0217697620391846,
            1.03127121925354,
            1.0337705612182617,
            1.0432476997375488,
            1.0122325420379639,
            1.0212812423706055,
            1.0085853338241577,
            1.003537654876709,
            1.0207256078720093,
            1.0191112756729126,
            1.013596534729004,
            1.0016570091247559,
            1.0069831609725952,
            0.999360203742981,
            0.9995532631874084,
            1.0031605958938599,
            0.9995288848876953,
            1.005096197128296,
            1.002422571182251,
            0.9991520643234253,
            0.996220588684082,
            0.9979919791221619,
            1.0027976036071777,
            1.0052142143249512,
            1.0030949115753174,
            1.0235332250595093,
            1.0090248584747314,
            1.0000296831130981,
            1.0040916204452515,
            1.0074646472930908,
            1.0040745735168457,
            1.007885456085205,
            1.0228348970413208,
            1.0389339923858643,
            1.0199084281921387,
            1.0078256130218506,
            1.0081138610839844,
            0.9980480670928955,
            1.0325050354003906,
            1.0050009489059448,
            1.0121221542358398,
            1.0155497789382935,
            0.9981841444969177,
            0.99867182970047,
            1.0214269161224365,
            1.0034700632095337,
            0.9969980716705322,
            1.0007076263427734,
            1.0121729373931885,
            1.0116915702819824,
            1.0136098861694336,
            1.0025415420532227,
            1.0037202835083008,
            0.9994943737983704,
            1.033103346824646,
            1.0052062273025513,
            0.9991100430488586,
            1.004063606262207,
            1.0080238580703735,
            1.000401496887207,
            0.9980193972587585,
            1.0075305700302124,
            1.011930227279663,
            1.0007579326629639,
            1.0155322551727295,
            1.002509593963623,
            1.001181721687317,
            1.0091204643249512,
            0.9990745782852173,
            1.0036910772323608,
            1.0114641189575195,
            1.0066885948181152,
            1.0028074979782104,
            0.9993463754653931,
            0.9995493292808533,
            0.9984349608421326,
            1.002585530281067,
            1.0050846338272095,
            1.0077872276306152,
            1.0172991752624512,
            0.9997149705886841,
            1.0005964040756226,
            0.9984243512153625,
            1.0201343297958374,
            1.0125237703323364,
            0.9972764849662781,
            1.0031299591064453,
            1.0027061700820923,
            0.9963103532791138,
            1.006271243095398,
            1.0000187158584595,
            1.009878396987915,
            0.9994664788246155,
            1.0009382963180542,
            1.0106827020645142,
            1.0047558546066284,
            1.0062437057495117,
            1.0063239336013794,
            1.0120792388916016,
            1.0076782703399658,
            1.0084097385406494
           ]
          },
          {
           "label": "channels",
           "range": [
            0,
            3
           ],
           "ticktext": [
            "4",
            "8",
            "16",
            "32"
           ],
           "tickvals": [
            0,
            1,
            2,
            3
           ],
           "values": [
            0,
            0,
            0,
            0,
            0,
            0,
            0,
            0,
            0,
            0,
            0,
            1,
            1,
            1,
            1,
            1,
            1,
            1,
            1,
            1,
            2,
            2,
            2,
            2,
            2,
            2,
            2,
            2,
            2,
            2,
            2,
            2,
            2,
            2,
            2,
            2,
            2,
            2,
            2,
            2,
            2,
            2,
            2,
            2,
            2,
            2,
            2,
            2,
            2,
            2,
            2,
            2,
            3,
            3,
            3,
            3,
            3,
            3,
            3,
            3,
            3,
            3,
            3,
            3,
            3,
            3,
            3,
            3,
            3,
            3,
            3,
            3,
            3,
            3,
            3,
            3,
            3,
            3,
            3,
            3,
            3,
            3,
            3,
            3,
            3,
            3,
            3,
            3,
            3,
            3,
            3,
            3,
            3,
            3,
            3,
            3,
            3,
            3,
            3,
            3,
            3,
            3,
            3,
            3,
            3,
            3,
            3,
            3,
            3,
            3,
            3,
            3,
            3,
            3,
            3,
            3,
            3,
            3,
            3,
            3
           ]
          },
          {
           "label": "lr",
           "range": [
            -3.967544958028385,
            -2.010747219590488
           ],
           "ticktext": [
            "0.000108",
            "0.001",
            "0.00976"
           ],
           "tickvals": [
            -3.967544958028385,
            -3,
            -2.010747219590488
           ],
           "values": [
            -2.3917969391715586,
            -3.8459604591251737,
            -3.2177903644468553,
            -2.515693795789379,
            -2.0784113506340884,
            -2.3958521768331207,
            -2.3058813993758314,
            -2.419408330612341,
            -3.321878934813294,
            -2.736475981297721,
            -2.886462271399896,
            -3.055519626958046,
            -2.559666735188912,
            -3.495553012749302,
            -2.1906822053144395,
            -2.6823773139025042,
            -2.4971412626367107,
            -2.2432798339939803,
            -2.4946373668648945,
            -2.5249658759841496,
            -3.7910795876062586,
            -3.020197176177053,
            -3.2347466357761543,
            -2.3799881647186414,
            -2.633036725740173,
            -2.716105538896492,
            -2.7735911341565496,
            -2.82046617187219,
            -3.4655249143257314,
            -2.793730481573743,
            -2.2739067798654466,
            -2.834410259728228,
            -2.2185464138407194,
            -2.10184023062842,
            -2.244619606826608,
            -2.010747219590488,
            -2.023944959774175,
            -2.039541677831769,
            -2.303483982116132,
            -2.3363800118521088,
            -2.397191360560278,
            -2.457355506608854,
            -2.6133316901917483,
            -2.4830467944385823,
            -3.967544958028385,
            -2.4458567622622405,
            -2.4888312295821677,
            -2.5289137160837503,
            -2.615511663634647,
            -2.767907526083531,
            -3.0093917251537223,
            -3.3912174977136313,
            -3.805081093488627,
            -2.075495793816026,
            -2.2192528352655563,
            -2.337034687429523,
            -2.945784169032385,
            -2.939316427939526,
            -2.3578487140099877,
            -2.166707773737806,
            -3.2480686560392282,
            -2.4239037385547944,
            -2.5487599776458993,
            -3.1262006761312287,
            -2.565909466242525,
            -2.4366965618962046,
            -2.4192149804448317,
            -2.9355170600686304,
            -2.526971557201188,
            -2.647695020203234,
            -2.463028809172916,
            -2.737886387447013,
            -2.577677336419677,
            -3.589840742847568,
            -2.8691833085842045,
            -2.2959124671895736,
            -2.1631765146649284,
            -2.406564528299578,
            -2.3488497672096935,
            -2.5231648711969146,
            -3.089408864736827,
            -2.1148865961340926,
            -2.6692446052631085,
            -2.27079765857358,
            -2.5354221843727425,
            -2.5915937796437665,
            -2.3686740032112583,
            -2.3167120865794386,
            -2.144508885818461,
            -2.309989593067756,
            -2.3822860596852498,
            -2.301075655107814,
            -2.209562617711368,
            -2.26314490948529,
            -2.528515707156162,
            -2.645801365808598,
            -2.445751778848277,
            -2.3534279725212572,
            -2.4009695970348295,
            -2.550146696023535,
            -2.708759815135741,
            -2.4854246932472503,
            -2.4451938767350914,
            -2.5873301804270628,
            -2.402379032714443,
            -2.412682717756222,
            -2.3301209790001005,
            -2.5035641952070744,
            -2.4900616751496454,
            -2.5598889190899063,
            -2.6160510697325714,
            -2.5148986994938296,
            -2.67757239331321,
            -2.3822455393947606,
            -2.45585398728829,
            -2.434966432141313,
            -2.349561450112979,
            -2.2367432558753713,
            -2.3869753394955944,
            -2.4788870110905523
           ]
          },
          {
           "label": "weight_decay",
           "range": [
            0.0000034200110083252916,
            0.0009996980097125463
           ],
           "values": [
            0.0005811051996581511,
            0.0009377739134095836,
            0.00010642504350323378,
            0.00017089292334962903,
            0.0001957431156240093,
            0.0006429138822090172,
            0.000416376064519884,
            0.0005375482786637848,
            0.0008290263481781813,
            0.0008491601572273776,
            0.000515522037855348,
            0.0003810424420876538,
            0.00002034566290325636,
            0.0008503370492487362,
            0.0008846724068978418,
            0.000866271121028887,
            0.0007872248998133557,
            0.000887821004719296,
            0.0008482514555466971,
            0.0005885589659743347,
            0.0007358151755799886,
            0.0004654476605380985,
            0.00038161525412778617,
            0.0009194047004741489,
            0.0007413746335869536,
            0.0008108244895201931,
            0.0008334209191128865,
            0.0008087616781603824,
            0.0008232721325825916,
            0.0005739073940460917,
            0.0009818446711345095,
            0.0007082971005315037,
            0.0009891642020081976,
            0.0009822515857682533,
            0.0009764587477543283,
            0.0008894763308417181,
            0.0008952206856465977,
            0.0007585286498020716,
            0.0009878455435402462,
            0.0008943556142438781,
            0.0006870744978063809,
            0.0006720809133327058,
            0.0007635045215223067,
            0.0006099403350563986,
            0.0009186465583267509,
            0.0008039411751560847,
            0.0009125418902069621,
            0.00036736399430941014,
            0.0003690980365425732,
            0.00042591992852161444,
            0.00048100263816781586,
            0.0009590381757001636,
            0.0002960170475363506,
            0.0009527852804426318,
            0.0009580809311715154,
            0.0005817898342117575,
            0.0006881328431701534,
            0.0005119436959063221,
            0.0009983775806954945,
            0.0004901629145313612,
            0.0007054974628723142,
            0.0009313094371175691,
            0.0009198223574095964,
            0.0007885666232315596,
            0.000292465187758274,
            0.0009341133771673636,
            0.0009273317060490907,
            0.0009328234853089004,
            0.0008580444081154667,
            0.0007890337021019883,
            0.0007134983461764193,
            0.000648021583219718,
            0.0008308797542621562,
            0.000905505705697772,
            0.000858582109158158,
            0.0009550022182363859,
            0.0009494190595509526,
            0.0009412092000131043,
            0.0009001309716897997,
            0.0009536341289672796,
            0.0008772260810601429,
            0.0004410769795763395,
            0.0006775074602831862,
            0.0009578956778370241,
            0.0009186996667697104,
            0.0009692962295731198,
            0.0007419424734422466,
            0.0009515623542770841,
            0.0009967946938749504,
            0.0009711478424514031,
            0.0009496872916952841,
            0.0009425102460041875,
            0.0000034200110083252916,
            0.0008805343668422742,
            0.00035475469970014254,
            0.00024850888682338484,
            0.0001675219038194845,
            0.0005538756999403291,
            0.0003350343272993096,
            0.0009253486283251101,
            0.0006113282856942989,
            0.0004808517649231213,
            0.00047040554068983174,
            0.00023393367724281443,
            0.000962029081272293,
            0.0009773988853147898,
            0.0009033625660653634,
            0.0004057627859390533,
            0.0003943571991857662,
            0.00031531261055469425,
            0.00045482561461950726,
            0.0004129443791408667,
            0.0003449097292455849,
            0.0009305661477613521,
            0.0009996980097125463,
            0.000387712755648072,
            0.0008714604734189761,
            0.000530515571565896,
            0.0009114745519284437,
            0.0007660291730456423
           ]
          }
         ],
         "labelangle": 30,
         "labelside": "bottom",
         "line": {
          "color": [
           1.044790267944336,
           1.084554672241211,
           1.0709947347640991,
           1.0189507007598877,
           1.0228253602981567,
           1.0334980487823486,
           1.0147407054901123,
           1.0266168117523193,
           1.148310899734497,
           1.0088715553283691,
           1.0514023303985596,
           1.0352749824523926,
           1.0246315002441406,
           1.0443971157073975,
           1.0019659996032715,
           1.0168228149414062,
           1.0037970542907715,
           1.002763032913208,
           1.0064324140548706,
           1.0217697620391846,
           1.03127121925354,
           1.0337705612182617,
           1.0432476997375488,
           1.0122325420379639,
           1.0212812423706055,
           1.0085853338241577,
           1.003537654876709,
           1.0207256078720093,
           1.0191112756729126,
           1.013596534729004,
           1.0016570091247559,
           1.0069831609725952,
           0.999360203742981,
           0.9995532631874084,
           1.0031605958938599,
           0.9995288848876953,
           1.005096197128296,
           1.002422571182251,
           0.9991520643234253,
           0.996220588684082,
           0.9979919791221619,
           1.0027976036071777,
           1.0052142143249512,
           1.0030949115753174,
           1.0235332250595093,
           1.0090248584747314,
           1.0000296831130981,
           1.0040916204452515,
           1.0074646472930908,
           1.0040745735168457,
           1.007885456085205,
           1.0228348970413208,
           1.0389339923858643,
           1.0199084281921387,
           1.0078256130218506,
           1.0081138610839844,
           0.9980480670928955,
           1.0325050354003906,
           1.0050009489059448,
           1.0121221542358398,
           1.0155497789382935,
           0.9981841444969177,
           0.99867182970047,
           1.0214269161224365,
           1.0034700632095337,
           0.9969980716705322,
           1.0007076263427734,
           1.0121729373931885,
           1.0116915702819824,
           1.0136098861694336,
           1.0025415420532227,
           1.0037202835083008,
           0.9994943737983704,
           1.033103346824646,
           1.0052062273025513,
           0.9991100430488586,
           1.004063606262207,
           1.0080238580703735,
           1.000401496887207,
           0.9980193972587585,
           1.0075305700302124,
           1.011930227279663,
           1.0007579326629639,
           1.0155322551727295,
           1.002509593963623,
           1.001181721687317,
           1.0091204643249512,
           0.9990745782852173,
           1.0036910772323608,
           1.0114641189575195,
           1.0066885948181152,
           1.0028074979782104,
           0.9993463754653931,
           0.9995493292808533,
           0.9984349608421326,
           1.002585530281067,
           1.0050846338272095,
           1.0077872276306152,
           1.0172991752624512,
           0.9997149705886841,
           1.0005964040756226,
           0.9984243512153625,
           1.0201343297958374,
           1.0125237703323364,
           0.9972764849662781,
           1.0031299591064453,
           1.0027061700820923,
           0.9963103532791138,
           1.006271243095398,
           1.0000187158584595,
           1.009878396987915,
           0.9994664788246155,
           1.0009382963180542,
           1.0106827020645142,
           1.0047558546066284,
           1.0062437057495117,
           1.0063239336013794,
           1.0120792388916016,
           1.0076782703399658,
           1.0084097385406494
          ],
          "colorbar": {
           "title": {
            "text": "Objective Value"
           }
          },
          "colorscale": [
           [
            0,
            "rgb(247,251,255)"
           ],
           [
            0.125,
            "rgb(222,235,247)"
           ],
           [
            0.25,
            "rgb(198,219,239)"
           ],
           [
            0.375,
            "rgb(158,202,225)"
           ],
           [
            0.5,
            "rgb(107,174,214)"
           ],
           [
            0.625,
            "rgb(66,146,198)"
           ],
           [
            0.75,
            "rgb(33,113,181)"
           ],
           [
            0.875,
            "rgb(8,81,156)"
           ],
           [
            1,
            "rgb(8,48,107)"
           ]
          ],
          "reversescale": true,
          "showscale": true
         },
         "type": "parcoords"
        }
       ],
       "layout": {
        "template": {
         "data": {
          "bar": [
           {
            "error_x": {
             "color": "#2a3f5f"
            },
            "error_y": {
             "color": "#2a3f5f"
            },
            "marker": {
             "line": {
              "color": "#E5ECF6",
              "width": 0.5
             },
             "pattern": {
              "fillmode": "overlay",
              "size": 10,
              "solidity": 0.2
             }
            },
            "type": "bar"
           }
          ],
          "barpolar": [
           {
            "marker": {
             "line": {
              "color": "#E5ECF6",
              "width": 0.5
             },
             "pattern": {
              "fillmode": "overlay",
              "size": 10,
              "solidity": 0.2
             }
            },
            "type": "barpolar"
           }
          ],
          "carpet": [
           {
            "aaxis": {
             "endlinecolor": "#2a3f5f",
             "gridcolor": "white",
             "linecolor": "white",
             "minorgridcolor": "white",
             "startlinecolor": "#2a3f5f"
            },
            "baxis": {
             "endlinecolor": "#2a3f5f",
             "gridcolor": "white",
             "linecolor": "white",
             "minorgridcolor": "white",
             "startlinecolor": "#2a3f5f"
            },
            "type": "carpet"
           }
          ],
          "choropleth": [
           {
            "colorbar": {
             "outlinewidth": 0,
             "ticks": ""
            },
            "type": "choropleth"
           }
          ],
          "contour": [
           {
            "colorbar": {
             "outlinewidth": 0,
             "ticks": ""
            },
            "colorscale": [
             [
              0,
              "#0d0887"
             ],
             [
              0.1111111111111111,
              "#46039f"
             ],
             [
              0.2222222222222222,
              "#7201a8"
             ],
             [
              0.3333333333333333,
              "#9c179e"
             ],
             [
              0.4444444444444444,
              "#bd3786"
             ],
             [
              0.5555555555555556,
              "#d8576b"
             ],
             [
              0.6666666666666666,
              "#ed7953"
             ],
             [
              0.7777777777777778,
              "#fb9f3a"
             ],
             [
              0.8888888888888888,
              "#fdca26"
             ],
             [
              1,
              "#f0f921"
             ]
            ],
            "type": "contour"
           }
          ],
          "contourcarpet": [
           {
            "colorbar": {
             "outlinewidth": 0,
             "ticks": ""
            },
            "type": "contourcarpet"
           }
          ],
          "heatmap": [
           {
            "colorbar": {
             "outlinewidth": 0,
             "ticks": ""
            },
            "colorscale": [
             [
              0,
              "#0d0887"
             ],
             [
              0.1111111111111111,
              "#46039f"
             ],
             [
              0.2222222222222222,
              "#7201a8"
             ],
             [
              0.3333333333333333,
              "#9c179e"
             ],
             [
              0.4444444444444444,
              "#bd3786"
             ],
             [
              0.5555555555555556,
              "#d8576b"
             ],
             [
              0.6666666666666666,
              "#ed7953"
             ],
             [
              0.7777777777777778,
              "#fb9f3a"
             ],
             [
              0.8888888888888888,
              "#fdca26"
             ],
             [
              1,
              "#f0f921"
             ]
            ],
            "type": "heatmap"
           }
          ],
          "histogram": [
           {
            "marker": {
             "pattern": {
              "fillmode": "overlay",
              "size": 10,
              "solidity": 0.2
             }
            },
            "type": "histogram"
           }
          ],
          "histogram2d": [
           {
            "colorbar": {
             "outlinewidth": 0,
             "ticks": ""
            },
            "colorscale": [
             [
              0,
              "#0d0887"
             ],
             [
              0.1111111111111111,
              "#46039f"
             ],
             [
              0.2222222222222222,
              "#7201a8"
             ],
             [
              0.3333333333333333,
              "#9c179e"
             ],
             [
              0.4444444444444444,
              "#bd3786"
             ],
             [
              0.5555555555555556,
              "#d8576b"
             ],
             [
              0.6666666666666666,
              "#ed7953"
             ],
             [
              0.7777777777777778,
              "#fb9f3a"
             ],
             [
              0.8888888888888888,
              "#fdca26"
             ],
             [
              1,
              "#f0f921"
             ]
            ],
            "type": "histogram2d"
           }
          ],
          "histogram2dcontour": [
           {
            "colorbar": {
             "outlinewidth": 0,
             "ticks": ""
            },
            "colorscale": [
             [
              0,
              "#0d0887"
             ],
             [
              0.1111111111111111,
              "#46039f"
             ],
             [
              0.2222222222222222,
              "#7201a8"
             ],
             [
              0.3333333333333333,
              "#9c179e"
             ],
             [
              0.4444444444444444,
              "#bd3786"
             ],
             [
              0.5555555555555556,
              "#d8576b"
             ],
             [
              0.6666666666666666,
              "#ed7953"
             ],
             [
              0.7777777777777778,
              "#fb9f3a"
             ],
             [
              0.8888888888888888,
              "#fdca26"
             ],
             [
              1,
              "#f0f921"
             ]
            ],
            "type": "histogram2dcontour"
           }
          ],
          "mesh3d": [
           {
            "colorbar": {
             "outlinewidth": 0,
             "ticks": ""
            },
            "type": "mesh3d"
           }
          ],
          "parcoords": [
           {
            "line": {
             "colorbar": {
              "outlinewidth": 0,
              "ticks": ""
             }
            },
            "type": "parcoords"
           }
          ],
          "pie": [
           {
            "automargin": true,
            "type": "pie"
           }
          ],
          "scatter": [
           {
            "fillpattern": {
             "fillmode": "overlay",
             "size": 10,
             "solidity": 0.2
            },
            "type": "scatter"
           }
          ],
          "scatter3d": [
           {
            "line": {
             "colorbar": {
              "outlinewidth": 0,
              "ticks": ""
             }
            },
            "marker": {
             "colorbar": {
              "outlinewidth": 0,
              "ticks": ""
             }
            },
            "type": "scatter3d"
           }
          ],
          "scattercarpet": [
           {
            "marker": {
             "colorbar": {
              "outlinewidth": 0,
              "ticks": ""
             }
            },
            "type": "scattercarpet"
           }
          ],
          "scattergeo": [
           {
            "marker": {
             "colorbar": {
              "outlinewidth": 0,
              "ticks": ""
             }
            },
            "type": "scattergeo"
           }
          ],
          "scattergl": [
           {
            "marker": {
             "colorbar": {
              "outlinewidth": 0,
              "ticks": ""
             }
            },
            "type": "scattergl"
           }
          ],
          "scattermap": [
           {
            "marker": {
             "colorbar": {
              "outlinewidth": 0,
              "ticks": ""
             }
            },
            "type": "scattermap"
           }
          ],
          "scattermapbox": [
           {
            "marker": {
             "colorbar": {
              "outlinewidth": 0,
              "ticks": ""
             }
            },
            "type": "scattermapbox"
           }
          ],
          "scatterpolar": [
           {
            "marker": {
             "colorbar": {
              "outlinewidth": 0,
              "ticks": ""
             }
            },
            "type": "scatterpolar"
           }
          ],
          "scatterpolargl": [
           {
            "marker": {
             "colorbar": {
              "outlinewidth": 0,
              "ticks": ""
             }
            },
            "type": "scatterpolargl"
           }
          ],
          "scatterternary": [
           {
            "marker": {
             "colorbar": {
              "outlinewidth": 0,
              "ticks": ""
             }
            },
            "type": "scatterternary"
           }
          ],
          "surface": [
           {
            "colorbar": {
             "outlinewidth": 0,
             "ticks": ""
            },
            "colorscale": [
             [
              0,
              "#0d0887"
             ],
             [
              0.1111111111111111,
              "#46039f"
             ],
             [
              0.2222222222222222,
              "#7201a8"
             ],
             [
              0.3333333333333333,
              "#9c179e"
             ],
             [
              0.4444444444444444,
              "#bd3786"
             ],
             [
              0.5555555555555556,
              "#d8576b"
             ],
             [
              0.6666666666666666,
              "#ed7953"
             ],
             [
              0.7777777777777778,
              "#fb9f3a"
             ],
             [
              0.8888888888888888,
              "#fdca26"
             ],
             [
              1,
              "#f0f921"
             ]
            ],
            "type": "surface"
           }
          ],
          "table": [
           {
            "cells": {
             "fill": {
              "color": "#EBF0F8"
             },
             "line": {
              "color": "white"
             }
            },
            "header": {
             "fill": {
              "color": "#C8D4E3"
             },
             "line": {
              "color": "white"
             }
            },
            "type": "table"
           }
          ]
         },
         "layout": {
          "annotationdefaults": {
           "arrowcolor": "#2a3f5f",
           "arrowhead": 0,
           "arrowwidth": 1
          },
          "autotypenumbers": "strict",
          "coloraxis": {
           "colorbar": {
            "outlinewidth": 0,
            "ticks": ""
           }
          },
          "colorscale": {
           "diverging": [
            [
             0,
             "#8e0152"
            ],
            [
             0.1,
             "#c51b7d"
            ],
            [
             0.2,
             "#de77ae"
            ],
            [
             0.3,
             "#f1b6da"
            ],
            [
             0.4,
             "#fde0ef"
            ],
            [
             0.5,
             "#f7f7f7"
            ],
            [
             0.6,
             "#e6f5d0"
            ],
            [
             0.7,
             "#b8e186"
            ],
            [
             0.8,
             "#7fbc41"
            ],
            [
             0.9,
             "#4d9221"
            ],
            [
             1,
             "#276419"
            ]
           ],
           "sequential": [
            [
             0,
             "#0d0887"
            ],
            [
             0.1111111111111111,
             "#46039f"
            ],
            [
             0.2222222222222222,
             "#7201a8"
            ],
            [
             0.3333333333333333,
             "#9c179e"
            ],
            [
             0.4444444444444444,
             "#bd3786"
            ],
            [
             0.5555555555555556,
             "#d8576b"
            ],
            [
             0.6666666666666666,
             "#ed7953"
            ],
            [
             0.7777777777777778,
             "#fb9f3a"
            ],
            [
             0.8888888888888888,
             "#fdca26"
            ],
            [
             1,
             "#f0f921"
            ]
           ],
           "sequentialminus": [
            [
             0,
             "#0d0887"
            ],
            [
             0.1111111111111111,
             "#46039f"
            ],
            [
             0.2222222222222222,
             "#7201a8"
            ],
            [
             0.3333333333333333,
             "#9c179e"
            ],
            [
             0.4444444444444444,
             "#bd3786"
            ],
            [
             0.5555555555555556,
             "#d8576b"
            ],
            [
             0.6666666666666666,
             "#ed7953"
            ],
            [
             0.7777777777777778,
             "#fb9f3a"
            ],
            [
             0.8888888888888888,
             "#fdca26"
            ],
            [
             1,
             "#f0f921"
            ]
           ]
          },
          "colorway": [
           "#636efa",
           "#EF553B",
           "#00cc96",
           "#ab63fa",
           "#FFA15A",
           "#19d3f3",
           "#FF6692",
           "#B6E880",
           "#FF97FF",
           "#FECB52"
          ],
          "font": {
           "color": "#2a3f5f"
          },
          "geo": {
           "bgcolor": "white",
           "lakecolor": "white",
           "landcolor": "#E5ECF6",
           "showlakes": true,
           "showland": true,
           "subunitcolor": "white"
          },
          "hoverlabel": {
           "align": "left"
          },
          "hovermode": "closest",
          "mapbox": {
           "style": "light"
          },
          "paper_bgcolor": "white",
          "plot_bgcolor": "#E5ECF6",
          "polar": {
           "angularaxis": {
            "gridcolor": "white",
            "linecolor": "white",
            "ticks": ""
           },
           "bgcolor": "#E5ECF6",
           "radialaxis": {
            "gridcolor": "white",
            "linecolor": "white",
            "ticks": ""
           }
          },
          "scene": {
           "xaxis": {
            "backgroundcolor": "#E5ECF6",
            "gridcolor": "white",
            "gridwidth": 2,
            "linecolor": "white",
            "showbackground": true,
            "ticks": "",
            "zerolinecolor": "white"
           },
           "yaxis": {
            "backgroundcolor": "#E5ECF6",
            "gridcolor": "white",
            "gridwidth": 2,
            "linecolor": "white",
            "showbackground": true,
            "ticks": "",
            "zerolinecolor": "white"
           },
           "zaxis": {
            "backgroundcolor": "#E5ECF6",
            "gridcolor": "white",
            "gridwidth": 2,
            "linecolor": "white",
            "showbackground": true,
            "ticks": "",
            "zerolinecolor": "white"
           }
          },
          "shapedefaults": {
           "line": {
            "color": "#2a3f5f"
           }
          },
          "ternary": {
           "aaxis": {
            "gridcolor": "white",
            "linecolor": "white",
            "ticks": ""
           },
           "baxis": {
            "gridcolor": "white",
            "linecolor": "white",
            "ticks": ""
           },
           "bgcolor": "#E5ECF6",
           "caxis": {
            "gridcolor": "white",
            "linecolor": "white",
            "ticks": ""
           }
          },
          "title": {
           "x": 0.05
          },
          "xaxis": {
           "automargin": true,
           "gridcolor": "white",
           "linecolor": "white",
           "ticks": "",
           "title": {
            "standoff": 15
           },
           "zerolinecolor": "white",
           "zerolinewidth": 2
          },
          "yaxis": {
           "automargin": true,
           "gridcolor": "white",
           "linecolor": "white",
           "ticks": "",
           "title": {
            "standoff": 15
           },
           "zerolinecolor": "white",
           "zerolinewidth": 2
          }
         }
        },
        "title": {
         "text": "Parallel Coordinate Plot"
        }
       }
      }
     },
     "metadata": {},
     "output_type": "display_data"
    }
   ],
   "source": [
    "# Plot parallel coordinates\n",
    "fig = optuna.visualization.plot_parallel_coordinate(study)\n",
    "fig.show()"
   ]
  },
  {
   "cell_type": "markdown",
   "id": "220158cd",
   "metadata": {},
   "source": [
    "## Exercise\n",
    "\n",
    "Use optuna to optimize the U-Net in the [U-Net notebook](https://colab.research.google.com/github/thawn/ttt-workshop-cnn/blob/main/book/exercises/unet_bbbc039_pair_programming.ipynb). Do not forget to add the dependencies and then ** restart the notebook **\n",
    "\n",
    "## Challenge\n",
    "\n",
    "Can you beat the best manual tuning?\n",
    "\n",
    "Which team gets the best test score using optuna?"
   ]
  }
 ],
 "metadata": {
  "kernelspec": {
   "display_name": "venv",
   "language": "python",
   "name": "python3"
  },
  "language_info": {
   "codemirror_mode": {
    "name": "ipython",
    "version": 3
   },
   "file_extension": ".py",
   "mimetype": "text/x-python",
   "name": "python",
   "nbconvert_exporter": "python",
   "pygments_lexer": "ipython3",
   "version": "3.11.12"
  }
 },
 "nbformat": 4,
 "nbformat_minor": 5
}
