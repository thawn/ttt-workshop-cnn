{
 "cells": [
  {
   "cell_type": "markdown",
   "id": "7a99e72f",
   "metadata": {},
   "source": [
    "# Hyperparameter Tuning with Optuna\n",
    "\n",
    "[![Open In Colab](https://colab.research.google.com/assets/colab-badge.svg)](https://colab.research.google.com/github/thawn/ttt-workshop-cnn/blob/main/book/pair_programming/optuna_tuning.ipynb)\n",
    "\n",
    "Note: this notebook requires a GPU. Please switch to T4 GPU using the drop down menu in the top right of the colab interface:\n",
    "\n",
    "![switch to GPU](assets/change_runtime.png)\n",
    "\n",
    "## Tune learning rate, weight decay, and channels on a toy training loop\n",
    "\n",
    "### Install and import dependencies"
   ]
  },
  {
   "cell_type": "code",
   "execution_count": 1,
   "id": "6c0df7a2",
   "metadata": {},
   "outputs": [],
   "source": [
    "# Dependency management\n",
    "import sys, subprocess\n",
    "for p in ['optuna', 'plotly', 'scikit-learn', 'torch']:\n",
    "    try:\n",
    "        __import__(p if p != 'scikit-learn' else 'sklearn')\n",
    "    except Exception:\n",
    "        subprocess.check_call([sys.executable, '-m', 'pip', 'install', p, '-q'])"
   ]
  },
  {
   "cell_type": "code",
   "execution_count": 2,
   "id": "3a4a8622",
   "metadata": {},
   "outputs": [
    {
     "name": "stdout",
     "output_type": "stream",
     "text": [
      "Using device: mps\n"
     ]
    }
   ],
   "source": [
    "import optuna\n",
    "import torch, torch.nn as nn, torch.optim as optim\n",
    "from pathlib import Path\n",
    "\n",
    "# fix random seeds for reproducibility\n",
    "torch.random.manual_seed(0)\n",
    "\n",
    "# set device\n",
    "device = \"cuda\" if torch.cuda.is_available() else \"cpu\"\n",
    "device = \"mps\" if torch.backends.mps.is_available() else device  ## Mac OS metal\n",
    "print(f\"Using device: {device}\")"
   ]
  },
  {
   "cell_type": "markdown",
   "id": "ef106ac9",
   "metadata": {},
   "source": [
    "### Data Model and Loss function\n",
    "\n",
    "We define some toy data, a simple model and loss function. Which we can then optimize."
   ]
  },
  {
   "cell_type": "code",
   "execution_count": 3,
   "id": "4393fe3c",
   "metadata": {},
   "outputs": [],
   "source": [
    "# Data\n",
    "X = torch.randn(64,1,16,16)\n",
    "y = torch.randn(64,1,16,16)\n",
    "\n",
    "# Model\n",
    "class Tiny(nn.Module):\n",
    "    def __init__(self, ch=8):\n",
    "        super().__init__()\n",
    "        self.net = nn.Sequential(nn.Conv2d(1,ch,3,padding=1), nn.ReLU(), nn.Conv2d(ch,1,3,padding=1))\n",
    "    def forward(self,x): return self.net(x)\n",
    "\n",
    "# Loss\n",
    "criterion = nn.MSELoss()\n"
   ]
  },
  {
   "cell_type": "markdown",
   "id": "65a778f0",
   "metadata": {},
   "source": [
    "### Define the objective function\n",
    "\n",
    "We define an objective function. Optuna will optimize its return value. The function takes a trial object as input, which is used to suggest hyperparameters. In this example, we will tune the learning rate, weight decay, and number of channels in a simple neural network."
   ]
  },
  {
   "cell_type": "code",
   "execution_count": null,
   "id": "c4bb9e04",
   "metadata": {},
   "outputs": [],
   "source": [
    "def objective(trial):\n",
    "    lr = trial.suggest_float('lr', 1e-4, 1e-2, log=True)\n",
    "    wd = trial.suggest_float('weight_decay', 0.0, 1e-3)\n",
    "    ch = trial.suggest_categorical('channels', [4,8,16,32])\n",
    "    model = Tiny(ch)\n",
    "    opt = optim.Adam(model.parameters(), lr=lr, weight_decay=wd)\n",
    "    for _ in range(10):\n",
    "        opt.zero_grad(); loss = criterion(model(X), y); loss.backward(); opt.step()\n",
    "    return float(loss)"
   ]
  },
  {
   "cell_type": "markdown",
   "id": "025a0c32",
   "metadata": {},
   "source": [
    "### Create a study\n",
    "\n",
    "Here we create a study object, which will manage the optimization process. We specify that we want to minimize the objective function.\n",
    "\n",
    "By saving the study to a SQLite database, we can easily resume the optimization process later if needed. Thereby, we can add more trials without losing previous results, which means our new trials will be run with hyperparameters closer to the optimum.\n",
    "\n",
    "By setting the direction to \"minimize\", we indicate that we want to find the hyperparameters that result in the lowest value of the objective function."
   ]
  },
  {
   "cell_type": "code",
   "execution_count": null,
   "id": "90b74159",
   "metadata": {},
   "outputs": [
    {
     "name": "stderr",
     "output_type": "stream",
     "text": [
      "[I 2025-09-17 12:24:15,255] Using an existing study with name 'tiny_optuna_study' instead of creating a new one.\n"
     ]
    }
   ],
   "source": [
    "study_name = \"tiny_optuna_study\"\n",
    "\n",
    "db_path = Path('data') / f\"{study_name}.db\"\n",
    "db_path.parent.mkdir(parents=True, exist_ok=True)\n",
    "\n",
    "study = optuna.create_study(\n",
    "    direction=\"minimize\", study_name=study_name, storage=f\"sqlite:///{db_path}\", load_if_exists=True\n",
    ")"
   ]
  },
  {
   "cell_type": "markdown",
   "id": "0316cd14",
   "metadata": {},
   "source": [
    "### Optimize the study\n",
    "\n",
    "This will run the optimization process for a specified number of trials. Each trial will call the objective function with different hyperparameters suggested by Optuna.\n",
    "\n",
    "Optuna will keep track of the results and will choose hyperparameters close to the best hyperparameters found so far. Thereby, we do a form of gradient descent in hyperparameter space.\n"
   ]
  },
  {
   "cell_type": "code",
   "execution_count": null,
   "id": "d1749603",
   "metadata": {},
   "outputs": [
    {
     "name": "stderr",
     "output_type": "stream",
     "text": [
      "/var/folders/8s/7jr95f1d28vflnwm1cfqv7t40000gr/T/ipykernel_8995/2863418574.py:10: UserWarning: Converting a tensor with requires_grad=True to a scalar may lead to unexpected behavior.\n",
      "Consider using tensor.detach() first. (Triggered internally at /Users/runner/work/pytorch/pytorch/pytorch/torch/csrc/autograd/generated/python_variable_methods.cpp:836.)\n",
      "  return float(loss)\n",
      "[I 2025-09-17 11:12:57,778] Trial 30 finished with value: 1.0118509531021118 and parameters: {'lr': 0.007077761198021904, 'weight_decay': 0.00022229522008306978, 'channels': 4}. Best is trial 25 with value: 0.9992284774780273.\n",
      "[I 2025-09-17 11:12:57,857] Trial 31 finished with value: 1.000373125076294 and parameters: {'lr': 0.009118217839010612, 'weight_decay': 0.0007437894921972981, 'channels': 4}. Best is trial 25 with value: 0.9992284774780273.\n",
      "[I 2025-09-17 11:12:57,929] Trial 32 finished with value: 1.008986473083496 and parameters: {'lr': 0.007252798162024875, 'weight_decay': 0.0007407579168992411, 'channels': 4}. Best is trial 25 with value: 0.9992284774780273.\n",
      "[I 2025-09-17 11:12:58,003] Trial 33 finished with value: 1.002610206604004 and parameters: {'lr': 0.0049561667159070295, 'weight_decay': 0.00048185411311544587, 'channels': 4}. Best is trial 25 with value: 0.9992284774780273.\n",
      "[I 2025-09-17 11:12:58,079] Trial 34 finished with value: 0.9979422092437744 and parameters: {'lr': 0.009672107938551474, 'weight_decay': 0.0009679718257625151, 'channels': 4}. Best is trial 34 with value: 0.9979422092437744.\n",
      "[I 2025-09-17 11:12:58,147] Trial 35 finished with value: 1.0174627304077148 and parameters: {'lr': 0.0004391261756050127, 'weight_decay': 0.0009374192916886558, 'channels': 4}. Best is trial 34 with value: 0.9979422092437744.\n",
      "[I 2025-09-17 11:12:58,324] Trial 36 finished with value: 1.0127384662628174 and parameters: {'lr': 0.006413871970844018, 'weight_decay': 0.0009969683805865694, 'channels': 32}. Best is trial 34 with value: 0.9979422092437744.\n",
      "[I 2025-09-17 11:12:58,393] Trial 37 finished with value: 1.01931631565094 and parameters: {'lr': 0.004107328210014978, 'weight_decay': 0.0004455661976358142, 'channels': 4}. Best is trial 34 with value: 0.9979422092437744.\n",
      "[I 2025-09-17 11:12:58,475] Trial 38 finished with value: 1.0294582843780518 and parameters: {'lr': 0.003039347553112922, 'weight_decay': 0.00040796045578020786, 'channels': 8}. Best is trial 34 with value: 0.9979422092437744.\n",
      "[I 2025-09-17 11:12:58,590] Trial 39 finished with value: 1.0224741697311401 and parameters: {'lr': 0.001381975549711861, 'weight_decay': 0.00018853378199656446, 'channels': 16}. Best is trial 34 with value: 0.9979422092437744.\n",
      "[I 2025-09-17 11:12:58,657] Trial 40 finished with value: 1.0093765258789062 and parameters: {'lr': 0.007667944456947918, 'weight_decay': 7.826758980684785e-05, 'channels': 4}. Best is trial 34 with value: 0.9979422092437744.\n",
      "[I 2025-09-17 11:12:58,725] Trial 41 finished with value: 0.9964410662651062 and parameters: {'lr': 0.009978074702988046, 'weight_decay': 0.0007335612785609747, 'channels': 4}. Best is trial 41 with value: 0.9964410662651062.\n",
      "[I 2025-09-17 11:12:58,794] Trial 42 finished with value: 1.0364718437194824 and parameters: {'lr': 0.00010369621443549447, 'weight_decay': 0.0008549893091700598, 'channels': 4}. Best is trial 41 with value: 0.9964410662651062.\n",
      "[I 2025-09-17 11:12:58,862] Trial 43 finished with value: 0.9979429244995117 and parameters: {'lr': 0.009987068388176857, 'weight_decay': 0.000269397084178768, 'channels': 4}. Best is trial 41 with value: 0.9964410662651062.\n",
      "[I 2025-09-17 11:12:58,954] Trial 44 finished with value: 1.000487208366394 and parameters: {'lr': 0.009612102156584236, 'weight_decay': 0.0005392047959575771, 'channels': 4}. Best is trial 41 with value: 0.9964410662651062.\n",
      "[I 2025-09-17 11:12:59,023] Trial 45 finished with value: 0.9995326995849609 and parameters: {'lr': 0.005657899801025722, 'weight_decay': 0.0002867179293019638, 'channels': 4}. Best is trial 41 with value: 0.9964410662651062.\n",
      "[I 2025-09-17 11:12:59,105] Trial 46 finished with value: 1.003088116645813 and parameters: {'lr': 0.005536525428952835, 'weight_decay': 0.00030518517741736186, 'channels': 8}. Best is trial 41 with value: 0.9964410662651062.\n",
      "[I 2025-09-17 11:12:59,274] Trial 47 finished with value: 1.000117540359497 and parameters: {'lr': 0.005780832624197239, 'weight_decay': 0.00026729737434930275, 'channels': 32}. Best is trial 41 with value: 0.9964410662651062.\n",
      "[I 2025-09-17 11:12:59,343] Trial 48 finished with value: 1.0051277875900269 and parameters: {'lr': 0.0077735182673779255, 'weight_decay': 0.00043363502777963, 'channels': 4}. Best is trial 41 with value: 0.9964410662651062.\n",
      "[I 2025-09-17 11:12:59,410] Trial 49 finished with value: 1.0133004188537598 and parameters: {'lr': 0.004835848838219171, 'weight_decay': 0.0002627671487992481, 'channels': 4}. Best is trial 41 with value: 0.9964410662651062.\n",
      "[I 2025-09-17 11:12:59,477] Trial 50 finished with value: 1.0165175199508667 and parameters: {'lr': 0.00365954931605245, 'weight_decay': 0.0009141574683566872, 'channels': 4}. Best is trial 41 with value: 0.9964410662651062.\n",
      "[I 2025-09-17 11:12:59,545] Trial 51 finished with value: 1.0193841457366943 and parameters: {'lr': 0.008161800409652862, 'weight_decay': 0.0003550950276124476, 'channels': 4}. Best is trial 41 with value: 0.9964410662651062.\n",
      "[I 2025-09-17 11:12:59,612] Trial 52 finished with value: 1.0006392002105713 and parameters: {'lr': 0.006440552830283267, 'weight_decay': 0.00015665333393843336, 'channels': 4}. Best is trial 41 with value: 0.9964410662651062.\n",
      "[I 2025-09-17 11:12:59,680] Trial 53 finished with value: 0.9959361553192139 and parameters: {'lr': 0.008417506944020166, 'weight_decay': 0.0007712522755467814, 'channels': 4}. Best is trial 53 with value: 0.9959361553192139.\n",
      "[I 2025-09-17 11:12:59,747] Trial 54 finished with value: 1.0000667572021484 and parameters: {'lr': 0.009736851238571648, 'weight_decay': 0.0008133974275939808, 'channels': 4}. Best is trial 53 with value: 0.9959361553192139.\n",
      "[I 2025-09-17 11:12:59,814] Trial 55 finished with value: 1.0196034908294678 and parameters: {'lr': 0.006360818300539465, 'weight_decay': 0.0007776075424304425, 'channels': 4}. Best is trial 53 with value: 0.9959361553192139.\n",
      "[I 2025-09-17 11:12:59,928] Trial 56 finished with value: 1.0032978057861328 and parameters: {'lr': 0.008142963373842075, 'weight_decay': 0.0006757178747308983, 'channels': 16}. Best is trial 53 with value: 0.9959361553192139.\n",
      "[I 2025-09-17 11:12:59,997] Trial 57 finished with value: 1.0212695598602295 and parameters: {'lr': 0.00526642834343851, 'weight_decay': 0.00099181382157683, 'channels': 4}. Best is trial 53 with value: 0.9959361553192139.\n",
      "[I 2025-09-17 11:13:00,066] Trial 58 finished with value: 1.0039217472076416 and parameters: {'lr': 0.008298019446687746, 'weight_decay': 0.0008762498347119773, 'channels': 4}. Best is trial 53 with value: 0.9959361553192139.\n",
      "[I 2025-09-17 11:13:00,147] Trial 59 finished with value: 1.0083703994750977 and parameters: {'lr': 0.0028490315509110357, 'weight_decay': 0.00039971016547720557, 'channels': 8}. Best is trial 53 with value: 0.9959361553192139.\n"
     ]
    },
    {
     "name": "stdout",
     "output_type": "stream",
     "text": [
      "Best: {'lr': 0.008417506944020166, 'weight_decay': 0.0007712522755467814, 'channels': 4}\n"
     ]
    }
   ],
   "source": [
    "study.optimize(objective, n_trials=30)\n",
    "print('Best:', study.best_params)"
   ]
  },
  {
   "cell_type": "markdown",
   "id": "5206e549",
   "metadata": {},
   "source": [
    "## Evaluate and visualize the results\n",
    "\n",
    "After the optimization is complete, we can evaluate and visualize the results using `optuna.visualization` module. Here are some common visualizations:\n",
    "\n",
    "### Plot optimization history\n",
    "\n",
    "From the history plot, we can see how the objective value (e.g., validation loss) changes over the trials. This helps us understand the convergence behavior of the optimization process. We clearly see that the objective value decreases over time, indicating that the optimization is effectively finding better hyperparameters."
   ]
  },
  {
   "cell_type": "code",
   "execution_count": null,
   "id": "24fa7d9a",
   "metadata": {},
   "outputs": [
    {
     "data": {
      "application/vnd.plotly.v1+json": {
       "config": {
        "plotlyServerURL": "https://plot.ly"
       },
       "data": [
        {
         "mode": "markers",
         "name": "Objective Value",
         "type": "scatter",
         "x": [
          0,
          1,
          2,
          3,
          4,
          5,
          6,
          7,
          8,
          9,
          10,
          11,
          12,
          13,
          14,
          15,
          16,
          17,
          18,
          19,
          20,
          21,
          22,
          23,
          24,
          25,
          26,
          27,
          28,
          29,
          30,
          31,
          32,
          33,
          34,
          35,
          36,
          37,
          38,
          39,
          40,
          41,
          42,
          43,
          44,
          45,
          46,
          47,
          48,
          49,
          50,
          51,
          52,
          53,
          54,
          55,
          56,
          57,
          58,
          59
         ],
         "y": [
          1.0426946878433228,
          1.0603933334350586,
          1.0234827995300293,
          1.018179178237915,
          1.050140380859375,
          1.033168911933899,
          1.0119842290878296,
          1.055115818977356,
          1.0387804508209229,
          1.0326638221740723,
          1.0027425289154053,
          0.9999709725379944,
          0.9998582005500793,
          1.025004506111145,
          1.003679633140564,
          1.0555462837219238,
          1.0018473863601685,
          1.0130244493484497,
          1.0063046216964722,
          1.0146799087524414,
          1.064988374710083,
          1.0011736154556274,
          1.001964807510376,
          1.013696551322937,
          1.0230164527893066,
          0.9992284774780273,
          1.0023744106292725,
          1.0261088609695435,
          1.0034801959991455,
          1.003531813621521,
          1.0118509531021118,
          1.000373125076294,
          1.008986473083496,
          1.002610206604004,
          0.9979422092437744,
          1.0174627304077148,
          1.0127384662628174,
          1.01931631565094,
          1.0294582843780518,
          1.0224741697311401,
          1.0093765258789062,
          0.9964410662651062,
          1.0364718437194824,
          0.9979429244995117,
          1.000487208366394,
          0.9995326995849609,
          1.003088116645813,
          1.000117540359497,
          1.0051277875900269,
          1.0133004188537598,
          1.0165175199508667,
          1.0193841457366943,
          1.0006392002105713,
          0.9959361553192139,
          1.0000667572021484,
          1.0196034908294678,
          1.0032978057861328,
          1.0212695598602295,
          1.0039217472076416,
          1.0083703994750977
         ]
        },
        {
         "mode": "lines",
         "name": "Best Value",
         "type": "scatter",
         "x": [
          0,
          1,
          2,
          3,
          4,
          5,
          6,
          7,
          8,
          9,
          10,
          11,
          12,
          13,
          14,
          15,
          16,
          17,
          18,
          19,
          20,
          21,
          22,
          23,
          24,
          25,
          26,
          27,
          28,
          29,
          30,
          31,
          32,
          33,
          34,
          35,
          36,
          37,
          38,
          39,
          40,
          41,
          42,
          43,
          44,
          45,
          46,
          47,
          48,
          49,
          50,
          51,
          52,
          53,
          54,
          55,
          56,
          57,
          58,
          59
         ],
         "y": [
          1.0426946878433228,
          1.0426946878433228,
          1.0234827995300293,
          1.018179178237915,
          1.018179178237915,
          1.018179178237915,
          1.0119842290878296,
          1.0119842290878296,
          1.0119842290878296,
          1.0119842290878296,
          1.0027425289154053,
          0.9999709725379944,
          0.9998582005500793,
          0.9998582005500793,
          0.9998582005500793,
          0.9998582005500793,
          0.9998582005500793,
          0.9998582005500793,
          0.9998582005500793,
          0.9998582005500793,
          0.9998582005500793,
          0.9998582005500793,
          0.9998582005500793,
          0.9998582005500793,
          0.9998582005500793,
          0.9992284774780273,
          0.9992284774780273,
          0.9992284774780273,
          0.9992284774780273,
          0.9992284774780273,
          0.9992284774780273,
          0.9992284774780273,
          0.9992284774780273,
          0.9992284774780273,
          0.9979422092437744,
          0.9979422092437744,
          0.9979422092437744,
          0.9979422092437744,
          0.9979422092437744,
          0.9979422092437744,
          0.9979422092437744,
          0.9964410662651062,
          0.9964410662651062,
          0.9964410662651062,
          0.9964410662651062,
          0.9964410662651062,
          0.9964410662651062,
          0.9964410662651062,
          0.9964410662651062,
          0.9964410662651062,
          0.9964410662651062,
          0.9964410662651062,
          0.9964410662651062,
          0.9959361553192139,
          0.9959361553192139,
          0.9959361553192139,
          0.9959361553192139,
          0.9959361553192139,
          0.9959361553192139,
          0.9959361553192139
         ]
        },
        {
         "marker": {
          "color": "#cccccc"
         },
         "mode": "markers",
         "name": "Infeasible Trial",
         "showlegend": false,
         "type": "scatter",
         "x": [],
         "y": []
        }
       ],
       "layout": {
        "template": {
         "data": {
          "bar": [
           {
            "error_x": {
             "color": "#2a3f5f"
            },
            "error_y": {
             "color": "#2a3f5f"
            },
            "marker": {
             "line": {
              "color": "#E5ECF6",
              "width": 0.5
             },
             "pattern": {
              "fillmode": "overlay",
              "size": 10,
              "solidity": 0.2
             }
            },
            "type": "bar"
           }
          ],
          "barpolar": [
           {
            "marker": {
             "line": {
              "color": "#E5ECF6",
              "width": 0.5
             },
             "pattern": {
              "fillmode": "overlay",
              "size": 10,
              "solidity": 0.2
             }
            },
            "type": "barpolar"
           }
          ],
          "carpet": [
           {
            "aaxis": {
             "endlinecolor": "#2a3f5f",
             "gridcolor": "white",
             "linecolor": "white",
             "minorgridcolor": "white",
             "startlinecolor": "#2a3f5f"
            },
            "baxis": {
             "endlinecolor": "#2a3f5f",
             "gridcolor": "white",
             "linecolor": "white",
             "minorgridcolor": "white",
             "startlinecolor": "#2a3f5f"
            },
            "type": "carpet"
           }
          ],
          "choropleth": [
           {
            "colorbar": {
             "outlinewidth": 0,
             "ticks": ""
            },
            "type": "choropleth"
           }
          ],
          "contour": [
           {
            "colorbar": {
             "outlinewidth": 0,
             "ticks": ""
            },
            "colorscale": [
             [
              0,
              "#0d0887"
             ],
             [
              0.1111111111111111,
              "#46039f"
             ],
             [
              0.2222222222222222,
              "#7201a8"
             ],
             [
              0.3333333333333333,
              "#9c179e"
             ],
             [
              0.4444444444444444,
              "#bd3786"
             ],
             [
              0.5555555555555556,
              "#d8576b"
             ],
             [
              0.6666666666666666,
              "#ed7953"
             ],
             [
              0.7777777777777778,
              "#fb9f3a"
             ],
             [
              0.8888888888888888,
              "#fdca26"
             ],
             [
              1,
              "#f0f921"
             ]
            ],
            "type": "contour"
           }
          ],
          "contourcarpet": [
           {
            "colorbar": {
             "outlinewidth": 0,
             "ticks": ""
            },
            "type": "contourcarpet"
           }
          ],
          "heatmap": [
           {
            "colorbar": {
             "outlinewidth": 0,
             "ticks": ""
            },
            "colorscale": [
             [
              0,
              "#0d0887"
             ],
             [
              0.1111111111111111,
              "#46039f"
             ],
             [
              0.2222222222222222,
              "#7201a8"
             ],
             [
              0.3333333333333333,
              "#9c179e"
             ],
             [
              0.4444444444444444,
              "#bd3786"
             ],
             [
              0.5555555555555556,
              "#d8576b"
             ],
             [
              0.6666666666666666,
              "#ed7953"
             ],
             [
              0.7777777777777778,
              "#fb9f3a"
             ],
             [
              0.8888888888888888,
              "#fdca26"
             ],
             [
              1,
              "#f0f921"
             ]
            ],
            "type": "heatmap"
           }
          ],
          "histogram": [
           {
            "marker": {
             "pattern": {
              "fillmode": "overlay",
              "size": 10,
              "solidity": 0.2
             }
            },
            "type": "histogram"
           }
          ],
          "histogram2d": [
           {
            "colorbar": {
             "outlinewidth": 0,
             "ticks": ""
            },
            "colorscale": [
             [
              0,
              "#0d0887"
             ],
             [
              0.1111111111111111,
              "#46039f"
             ],
             [
              0.2222222222222222,
              "#7201a8"
             ],
             [
              0.3333333333333333,
              "#9c179e"
             ],
             [
              0.4444444444444444,
              "#bd3786"
             ],
             [
              0.5555555555555556,
              "#d8576b"
             ],
             [
              0.6666666666666666,
              "#ed7953"
             ],
             [
              0.7777777777777778,
              "#fb9f3a"
             ],
             [
              0.8888888888888888,
              "#fdca26"
             ],
             [
              1,
              "#f0f921"
             ]
            ],
            "type": "histogram2d"
           }
          ],
          "histogram2dcontour": [
           {
            "colorbar": {
             "outlinewidth": 0,
             "ticks": ""
            },
            "colorscale": [
             [
              0,
              "#0d0887"
             ],
             [
              0.1111111111111111,
              "#46039f"
             ],
             [
              0.2222222222222222,
              "#7201a8"
             ],
             [
              0.3333333333333333,
              "#9c179e"
             ],
             [
              0.4444444444444444,
              "#bd3786"
             ],
             [
              0.5555555555555556,
              "#d8576b"
             ],
             [
              0.6666666666666666,
              "#ed7953"
             ],
             [
              0.7777777777777778,
              "#fb9f3a"
             ],
             [
              0.8888888888888888,
              "#fdca26"
             ],
             [
              1,
              "#f0f921"
             ]
            ],
            "type": "histogram2dcontour"
           }
          ],
          "mesh3d": [
           {
            "colorbar": {
             "outlinewidth": 0,
             "ticks": ""
            },
            "type": "mesh3d"
           }
          ],
          "parcoords": [
           {
            "line": {
             "colorbar": {
              "outlinewidth": 0,
              "ticks": ""
             }
            },
            "type": "parcoords"
           }
          ],
          "pie": [
           {
            "automargin": true,
            "type": "pie"
           }
          ],
          "scatter": [
           {
            "fillpattern": {
             "fillmode": "overlay",
             "size": 10,
             "solidity": 0.2
            },
            "type": "scatter"
           }
          ],
          "scatter3d": [
           {
            "line": {
             "colorbar": {
              "outlinewidth": 0,
              "ticks": ""
             }
            },
            "marker": {
             "colorbar": {
              "outlinewidth": 0,
              "ticks": ""
             }
            },
            "type": "scatter3d"
           }
          ],
          "scattercarpet": [
           {
            "marker": {
             "colorbar": {
              "outlinewidth": 0,
              "ticks": ""
             }
            },
            "type": "scattercarpet"
           }
          ],
          "scattergeo": [
           {
            "marker": {
             "colorbar": {
              "outlinewidth": 0,
              "ticks": ""
             }
            },
            "type": "scattergeo"
           }
          ],
          "scattergl": [
           {
            "marker": {
             "colorbar": {
              "outlinewidth": 0,
              "ticks": ""
             }
            },
            "type": "scattergl"
           }
          ],
          "scattermap": [
           {
            "marker": {
             "colorbar": {
              "outlinewidth": 0,
              "ticks": ""
             }
            },
            "type": "scattermap"
           }
          ],
          "scattermapbox": [
           {
            "marker": {
             "colorbar": {
              "outlinewidth": 0,
              "ticks": ""
             }
            },
            "type": "scattermapbox"
           }
          ],
          "scatterpolar": [
           {
            "marker": {
             "colorbar": {
              "outlinewidth": 0,
              "ticks": ""
             }
            },
            "type": "scatterpolar"
           }
          ],
          "scatterpolargl": [
           {
            "marker": {
             "colorbar": {
              "outlinewidth": 0,
              "ticks": ""
             }
            },
            "type": "scatterpolargl"
           }
          ],
          "scatterternary": [
           {
            "marker": {
             "colorbar": {
              "outlinewidth": 0,
              "ticks": ""
             }
            },
            "type": "scatterternary"
           }
          ],
          "surface": [
           {
            "colorbar": {
             "outlinewidth": 0,
             "ticks": ""
            },
            "colorscale": [
             [
              0,
              "#0d0887"
             ],
             [
              0.1111111111111111,
              "#46039f"
             ],
             [
              0.2222222222222222,
              "#7201a8"
             ],
             [
              0.3333333333333333,
              "#9c179e"
             ],
             [
              0.4444444444444444,
              "#bd3786"
             ],
             [
              0.5555555555555556,
              "#d8576b"
             ],
             [
              0.6666666666666666,
              "#ed7953"
             ],
             [
              0.7777777777777778,
              "#fb9f3a"
             ],
             [
              0.8888888888888888,
              "#fdca26"
             ],
             [
              1,
              "#f0f921"
             ]
            ],
            "type": "surface"
           }
          ],
          "table": [
           {
            "cells": {
             "fill": {
              "color": "#EBF0F8"
             },
             "line": {
              "color": "white"
             }
            },
            "header": {
             "fill": {
              "color": "#C8D4E3"
             },
             "line": {
              "color": "white"
             }
            },
            "type": "table"
           }
          ]
         },
         "layout": {
          "annotationdefaults": {
           "arrowcolor": "#2a3f5f",
           "arrowhead": 0,
           "arrowwidth": 1
          },
          "autotypenumbers": "strict",
          "coloraxis": {
           "colorbar": {
            "outlinewidth": 0,
            "ticks": ""
           }
          },
          "colorscale": {
           "diverging": [
            [
             0,
             "#8e0152"
            ],
            [
             0.1,
             "#c51b7d"
            ],
            [
             0.2,
             "#de77ae"
            ],
            [
             0.3,
             "#f1b6da"
            ],
            [
             0.4,
             "#fde0ef"
            ],
            [
             0.5,
             "#f7f7f7"
            ],
            [
             0.6,
             "#e6f5d0"
            ],
            [
             0.7,
             "#b8e186"
            ],
            [
             0.8,
             "#7fbc41"
            ],
            [
             0.9,
             "#4d9221"
            ],
            [
             1,
             "#276419"
            ]
           ],
           "sequential": [
            [
             0,
             "#0d0887"
            ],
            [
             0.1111111111111111,
             "#46039f"
            ],
            [
             0.2222222222222222,
             "#7201a8"
            ],
            [
             0.3333333333333333,
             "#9c179e"
            ],
            [
             0.4444444444444444,
             "#bd3786"
            ],
            [
             0.5555555555555556,
             "#d8576b"
            ],
            [
             0.6666666666666666,
             "#ed7953"
            ],
            [
             0.7777777777777778,
             "#fb9f3a"
            ],
            [
             0.8888888888888888,
             "#fdca26"
            ],
            [
             1,
             "#f0f921"
            ]
           ],
           "sequentialminus": [
            [
             0,
             "#0d0887"
            ],
            [
             0.1111111111111111,
             "#46039f"
            ],
            [
             0.2222222222222222,
             "#7201a8"
            ],
            [
             0.3333333333333333,
             "#9c179e"
            ],
            [
             0.4444444444444444,
             "#bd3786"
            ],
            [
             0.5555555555555556,
             "#d8576b"
            ],
            [
             0.6666666666666666,
             "#ed7953"
            ],
            [
             0.7777777777777778,
             "#fb9f3a"
            ],
            [
             0.8888888888888888,
             "#fdca26"
            ],
            [
             1,
             "#f0f921"
            ]
           ]
          },
          "colorway": [
           "#636efa",
           "#EF553B",
           "#00cc96",
           "#ab63fa",
           "#FFA15A",
           "#19d3f3",
           "#FF6692",
           "#B6E880",
           "#FF97FF",
           "#FECB52"
          ],
          "font": {
           "color": "#2a3f5f"
          },
          "geo": {
           "bgcolor": "white",
           "lakecolor": "white",
           "landcolor": "#E5ECF6",
           "showlakes": true,
           "showland": true,
           "subunitcolor": "white"
          },
          "hoverlabel": {
           "align": "left"
          },
          "hovermode": "closest",
          "mapbox": {
           "style": "light"
          },
          "paper_bgcolor": "white",
          "plot_bgcolor": "#E5ECF6",
          "polar": {
           "angularaxis": {
            "gridcolor": "white",
            "linecolor": "white",
            "ticks": ""
           },
           "bgcolor": "#E5ECF6",
           "radialaxis": {
            "gridcolor": "white",
            "linecolor": "white",
            "ticks": ""
           }
          },
          "scene": {
           "xaxis": {
            "backgroundcolor": "#E5ECF6",
            "gridcolor": "white",
            "gridwidth": 2,
            "linecolor": "white",
            "showbackground": true,
            "ticks": "",
            "zerolinecolor": "white"
           },
           "yaxis": {
            "backgroundcolor": "#E5ECF6",
            "gridcolor": "white",
            "gridwidth": 2,
            "linecolor": "white",
            "showbackground": true,
            "ticks": "",
            "zerolinecolor": "white"
           },
           "zaxis": {
            "backgroundcolor": "#E5ECF6",
            "gridcolor": "white",
            "gridwidth": 2,
            "linecolor": "white",
            "showbackground": true,
            "ticks": "",
            "zerolinecolor": "white"
           }
          },
          "shapedefaults": {
           "line": {
            "color": "#2a3f5f"
           }
          },
          "ternary": {
           "aaxis": {
            "gridcolor": "white",
            "linecolor": "white",
            "ticks": ""
           },
           "baxis": {
            "gridcolor": "white",
            "linecolor": "white",
            "ticks": ""
           },
           "bgcolor": "#E5ECF6",
           "caxis": {
            "gridcolor": "white",
            "linecolor": "white",
            "ticks": ""
           }
          },
          "title": {
           "x": 0.05
          },
          "xaxis": {
           "automargin": true,
           "gridcolor": "white",
           "linecolor": "white",
           "ticks": "",
           "title": {
            "standoff": 15
           },
           "zerolinecolor": "white",
           "zerolinewidth": 2
          },
          "yaxis": {
           "automargin": true,
           "gridcolor": "white",
           "linecolor": "white",
           "ticks": "",
           "title": {
            "standoff": 15
           },
           "zerolinecolor": "white",
           "zerolinewidth": 2
          }
         }
        },
        "title": {
         "text": "Optimization History Plot"
        },
        "xaxis": {
         "title": {
          "text": "Trial"
         }
        },
        "yaxis": {
         "title": {
          "text": "Objective Value"
         }
        }
       }
      }
     },
     "metadata": {},
     "output_type": "display_data"
    }
   ],
   "source": [
    "fig = optuna.visualization.plot_optimization_history(study)\n",
    "fig.show()"
   ]
  },
  {
   "cell_type": "markdown",
   "id": "06d52a6a",
   "metadata": {},
   "source": [
    "### Hyperparameter importance\n",
    "\n",
    "The hyperparameter importance plot shows the relative importance of each hyperparameter in determining the objective value. This can help us identify which hyperparameters have the most significant impact on model performance. In this case, we can see that the learning rate has the highest importance, followed by number of channels and weight decay."
   ]
  },
  {
   "cell_type": "code",
   "execution_count": null,
   "id": "c40c9ae0",
   "metadata": {},
   "outputs": [
    {
     "data": {
      "application/vnd.plotly.v1+json": {
       "config": {
        "plotlyServerURL": "https://plot.ly"
       },
       "data": [
        {
         "cliponaxis": false,
         "hovertemplate": [
          "weight_decay (FloatDistribution): 0.029456662392285345<extra></extra>",
          "channels (CategoricalDistribution): 0.043711046280555096<extra></extra>",
          "lr (FloatDistribution): 0.9268322913271595<extra></extra>"
         ],
         "name": "Objective Value",
         "orientation": "h",
         "text": [
          "0.03",
          "0.04",
          "0.93"
         ],
         "textposition": "outside",
         "type": "bar",
         "x": [
          0.029456662392285345,
          0.043711046280555096,
          0.9268322913271595
         ],
         "y": [
          "weight_decay",
          "channels",
          "lr"
         ]
        }
       ],
       "layout": {
        "template": {
         "data": {
          "bar": [
           {
            "error_x": {
             "color": "#2a3f5f"
            },
            "error_y": {
             "color": "#2a3f5f"
            },
            "marker": {
             "line": {
              "color": "#E5ECF6",
              "width": 0.5
             },
             "pattern": {
              "fillmode": "overlay",
              "size": 10,
              "solidity": 0.2
             }
            },
            "type": "bar"
           }
          ],
          "barpolar": [
           {
            "marker": {
             "line": {
              "color": "#E5ECF6",
              "width": 0.5
             },
             "pattern": {
              "fillmode": "overlay",
              "size": 10,
              "solidity": 0.2
             }
            },
            "type": "barpolar"
           }
          ],
          "carpet": [
           {
            "aaxis": {
             "endlinecolor": "#2a3f5f",
             "gridcolor": "white",
             "linecolor": "white",
             "minorgridcolor": "white",
             "startlinecolor": "#2a3f5f"
            },
            "baxis": {
             "endlinecolor": "#2a3f5f",
             "gridcolor": "white",
             "linecolor": "white",
             "minorgridcolor": "white",
             "startlinecolor": "#2a3f5f"
            },
            "type": "carpet"
           }
          ],
          "choropleth": [
           {
            "colorbar": {
             "outlinewidth": 0,
             "ticks": ""
            },
            "type": "choropleth"
           }
          ],
          "contour": [
           {
            "colorbar": {
             "outlinewidth": 0,
             "ticks": ""
            },
            "colorscale": [
             [
              0,
              "#0d0887"
             ],
             [
              0.1111111111111111,
              "#46039f"
             ],
             [
              0.2222222222222222,
              "#7201a8"
             ],
             [
              0.3333333333333333,
              "#9c179e"
             ],
             [
              0.4444444444444444,
              "#bd3786"
             ],
             [
              0.5555555555555556,
              "#d8576b"
             ],
             [
              0.6666666666666666,
              "#ed7953"
             ],
             [
              0.7777777777777778,
              "#fb9f3a"
             ],
             [
              0.8888888888888888,
              "#fdca26"
             ],
             [
              1,
              "#f0f921"
             ]
            ],
            "type": "contour"
           }
          ],
          "contourcarpet": [
           {
            "colorbar": {
             "outlinewidth": 0,
             "ticks": ""
            },
            "type": "contourcarpet"
           }
          ],
          "heatmap": [
           {
            "colorbar": {
             "outlinewidth": 0,
             "ticks": ""
            },
            "colorscale": [
             [
              0,
              "#0d0887"
             ],
             [
              0.1111111111111111,
              "#46039f"
             ],
             [
              0.2222222222222222,
              "#7201a8"
             ],
             [
              0.3333333333333333,
              "#9c179e"
             ],
             [
              0.4444444444444444,
              "#bd3786"
             ],
             [
              0.5555555555555556,
              "#d8576b"
             ],
             [
              0.6666666666666666,
              "#ed7953"
             ],
             [
              0.7777777777777778,
              "#fb9f3a"
             ],
             [
              0.8888888888888888,
              "#fdca26"
             ],
             [
              1,
              "#f0f921"
             ]
            ],
            "type": "heatmap"
           }
          ],
          "histogram": [
           {
            "marker": {
             "pattern": {
              "fillmode": "overlay",
              "size": 10,
              "solidity": 0.2
             }
            },
            "type": "histogram"
           }
          ],
          "histogram2d": [
           {
            "colorbar": {
             "outlinewidth": 0,
             "ticks": ""
            },
            "colorscale": [
             [
              0,
              "#0d0887"
             ],
             [
              0.1111111111111111,
              "#46039f"
             ],
             [
              0.2222222222222222,
              "#7201a8"
             ],
             [
              0.3333333333333333,
              "#9c179e"
             ],
             [
              0.4444444444444444,
              "#bd3786"
             ],
             [
              0.5555555555555556,
              "#d8576b"
             ],
             [
              0.6666666666666666,
              "#ed7953"
             ],
             [
              0.7777777777777778,
              "#fb9f3a"
             ],
             [
              0.8888888888888888,
              "#fdca26"
             ],
             [
              1,
              "#f0f921"
             ]
            ],
            "type": "histogram2d"
           }
          ],
          "histogram2dcontour": [
           {
            "colorbar": {
             "outlinewidth": 0,
             "ticks": ""
            },
            "colorscale": [
             [
              0,
              "#0d0887"
             ],
             [
              0.1111111111111111,
              "#46039f"
             ],
             [
              0.2222222222222222,
              "#7201a8"
             ],
             [
              0.3333333333333333,
              "#9c179e"
             ],
             [
              0.4444444444444444,
              "#bd3786"
             ],
             [
              0.5555555555555556,
              "#d8576b"
             ],
             [
              0.6666666666666666,
              "#ed7953"
             ],
             [
              0.7777777777777778,
              "#fb9f3a"
             ],
             [
              0.8888888888888888,
              "#fdca26"
             ],
             [
              1,
              "#f0f921"
             ]
            ],
            "type": "histogram2dcontour"
           }
          ],
          "mesh3d": [
           {
            "colorbar": {
             "outlinewidth": 0,
             "ticks": ""
            },
            "type": "mesh3d"
           }
          ],
          "parcoords": [
           {
            "line": {
             "colorbar": {
              "outlinewidth": 0,
              "ticks": ""
             }
            },
            "type": "parcoords"
           }
          ],
          "pie": [
           {
            "automargin": true,
            "type": "pie"
           }
          ],
          "scatter": [
           {
            "fillpattern": {
             "fillmode": "overlay",
             "size": 10,
             "solidity": 0.2
            },
            "type": "scatter"
           }
          ],
          "scatter3d": [
           {
            "line": {
             "colorbar": {
              "outlinewidth": 0,
              "ticks": ""
             }
            },
            "marker": {
             "colorbar": {
              "outlinewidth": 0,
              "ticks": ""
             }
            },
            "type": "scatter3d"
           }
          ],
          "scattercarpet": [
           {
            "marker": {
             "colorbar": {
              "outlinewidth": 0,
              "ticks": ""
             }
            },
            "type": "scattercarpet"
           }
          ],
          "scattergeo": [
           {
            "marker": {
             "colorbar": {
              "outlinewidth": 0,
              "ticks": ""
             }
            },
            "type": "scattergeo"
           }
          ],
          "scattergl": [
           {
            "marker": {
             "colorbar": {
              "outlinewidth": 0,
              "ticks": ""
             }
            },
            "type": "scattergl"
           }
          ],
          "scattermap": [
           {
            "marker": {
             "colorbar": {
              "outlinewidth": 0,
              "ticks": ""
             }
            },
            "type": "scattermap"
           }
          ],
          "scattermapbox": [
           {
            "marker": {
             "colorbar": {
              "outlinewidth": 0,
              "ticks": ""
             }
            },
            "type": "scattermapbox"
           }
          ],
          "scatterpolar": [
           {
            "marker": {
             "colorbar": {
              "outlinewidth": 0,
              "ticks": ""
             }
            },
            "type": "scatterpolar"
           }
          ],
          "scatterpolargl": [
           {
            "marker": {
             "colorbar": {
              "outlinewidth": 0,
              "ticks": ""
             }
            },
            "type": "scatterpolargl"
           }
          ],
          "scatterternary": [
           {
            "marker": {
             "colorbar": {
              "outlinewidth": 0,
              "ticks": ""
             }
            },
            "type": "scatterternary"
           }
          ],
          "surface": [
           {
            "colorbar": {
             "outlinewidth": 0,
             "ticks": ""
            },
            "colorscale": [
             [
              0,
              "#0d0887"
             ],
             [
              0.1111111111111111,
              "#46039f"
             ],
             [
              0.2222222222222222,
              "#7201a8"
             ],
             [
              0.3333333333333333,
              "#9c179e"
             ],
             [
              0.4444444444444444,
              "#bd3786"
             ],
             [
              0.5555555555555556,
              "#d8576b"
             ],
             [
              0.6666666666666666,
              "#ed7953"
             ],
             [
              0.7777777777777778,
              "#fb9f3a"
             ],
             [
              0.8888888888888888,
              "#fdca26"
             ],
             [
              1,
              "#f0f921"
             ]
            ],
            "type": "surface"
           }
          ],
          "table": [
           {
            "cells": {
             "fill": {
              "color": "#EBF0F8"
             },
             "line": {
              "color": "white"
             }
            },
            "header": {
             "fill": {
              "color": "#C8D4E3"
             },
             "line": {
              "color": "white"
             }
            },
            "type": "table"
           }
          ]
         },
         "layout": {
          "annotationdefaults": {
           "arrowcolor": "#2a3f5f",
           "arrowhead": 0,
           "arrowwidth": 1
          },
          "autotypenumbers": "strict",
          "coloraxis": {
           "colorbar": {
            "outlinewidth": 0,
            "ticks": ""
           }
          },
          "colorscale": {
           "diverging": [
            [
             0,
             "#8e0152"
            ],
            [
             0.1,
             "#c51b7d"
            ],
            [
             0.2,
             "#de77ae"
            ],
            [
             0.3,
             "#f1b6da"
            ],
            [
             0.4,
             "#fde0ef"
            ],
            [
             0.5,
             "#f7f7f7"
            ],
            [
             0.6,
             "#e6f5d0"
            ],
            [
             0.7,
             "#b8e186"
            ],
            [
             0.8,
             "#7fbc41"
            ],
            [
             0.9,
             "#4d9221"
            ],
            [
             1,
             "#276419"
            ]
           ],
           "sequential": [
            [
             0,
             "#0d0887"
            ],
            [
             0.1111111111111111,
             "#46039f"
            ],
            [
             0.2222222222222222,
             "#7201a8"
            ],
            [
             0.3333333333333333,
             "#9c179e"
            ],
            [
             0.4444444444444444,
             "#bd3786"
            ],
            [
             0.5555555555555556,
             "#d8576b"
            ],
            [
             0.6666666666666666,
             "#ed7953"
            ],
            [
             0.7777777777777778,
             "#fb9f3a"
            ],
            [
             0.8888888888888888,
             "#fdca26"
            ],
            [
             1,
             "#f0f921"
            ]
           ],
           "sequentialminus": [
            [
             0,
             "#0d0887"
            ],
            [
             0.1111111111111111,
             "#46039f"
            ],
            [
             0.2222222222222222,
             "#7201a8"
            ],
            [
             0.3333333333333333,
             "#9c179e"
            ],
            [
             0.4444444444444444,
             "#bd3786"
            ],
            [
             0.5555555555555556,
             "#d8576b"
            ],
            [
             0.6666666666666666,
             "#ed7953"
            ],
            [
             0.7777777777777778,
             "#fb9f3a"
            ],
            [
             0.8888888888888888,
             "#fdca26"
            ],
            [
             1,
             "#f0f921"
            ]
           ]
          },
          "colorway": [
           "#636efa",
           "#EF553B",
           "#00cc96",
           "#ab63fa",
           "#FFA15A",
           "#19d3f3",
           "#FF6692",
           "#B6E880",
           "#FF97FF",
           "#FECB52"
          ],
          "font": {
           "color": "#2a3f5f"
          },
          "geo": {
           "bgcolor": "white",
           "lakecolor": "white",
           "landcolor": "#E5ECF6",
           "showlakes": true,
           "showland": true,
           "subunitcolor": "white"
          },
          "hoverlabel": {
           "align": "left"
          },
          "hovermode": "closest",
          "mapbox": {
           "style": "light"
          },
          "paper_bgcolor": "white",
          "plot_bgcolor": "#E5ECF6",
          "polar": {
           "angularaxis": {
            "gridcolor": "white",
            "linecolor": "white",
            "ticks": ""
           },
           "bgcolor": "#E5ECF6",
           "radialaxis": {
            "gridcolor": "white",
            "linecolor": "white",
            "ticks": ""
           }
          },
          "scene": {
           "xaxis": {
            "backgroundcolor": "#E5ECF6",
            "gridcolor": "white",
            "gridwidth": 2,
            "linecolor": "white",
            "showbackground": true,
            "ticks": "",
            "zerolinecolor": "white"
           },
           "yaxis": {
            "backgroundcolor": "#E5ECF6",
            "gridcolor": "white",
            "gridwidth": 2,
            "linecolor": "white",
            "showbackground": true,
            "ticks": "",
            "zerolinecolor": "white"
           },
           "zaxis": {
            "backgroundcolor": "#E5ECF6",
            "gridcolor": "white",
            "gridwidth": 2,
            "linecolor": "white",
            "showbackground": true,
            "ticks": "",
            "zerolinecolor": "white"
           }
          },
          "shapedefaults": {
           "line": {
            "color": "#2a3f5f"
           }
          },
          "ternary": {
           "aaxis": {
            "gridcolor": "white",
            "linecolor": "white",
            "ticks": ""
           },
           "baxis": {
            "gridcolor": "white",
            "linecolor": "white",
            "ticks": ""
           },
           "bgcolor": "#E5ECF6",
           "caxis": {
            "gridcolor": "white",
            "linecolor": "white",
            "ticks": ""
           }
          },
          "title": {
           "x": 0.05
          },
          "xaxis": {
           "automargin": true,
           "gridcolor": "white",
           "linecolor": "white",
           "ticks": "",
           "title": {
            "standoff": 15
           },
           "zerolinecolor": "white",
           "zerolinewidth": 2
          },
          "yaxis": {
           "automargin": true,
           "gridcolor": "white",
           "linecolor": "white",
           "ticks": "",
           "title": {
            "standoff": 15
           },
           "zerolinecolor": "white",
           "zerolinewidth": 2
          }
         }
        },
        "title": {
         "text": "Hyperparameter Importances"
        },
        "xaxis": {
         "title": {
          "text": "Hyperparameter Importance"
         }
        },
        "yaxis": {
         "title": {
          "text": "Hyperparameter"
         }
        }
       }
      }
     },
     "metadata": {},
     "output_type": "display_data"
    }
   ],
   "source": [
    "fig = optuna.visualization.plot_param_importances(study)\n",
    "fig.show()"
   ]
  },
  {
   "cell_type": "markdown",
   "id": "ae92949a",
   "metadata": {},
   "source": [
    "### Parallel coordinate plot\n",
    "\n",
    "The parallel coordinate plot visualizes the relationship between hyperparameters and the objective value. Each line represents a trial, and we can see how different hyperparameter values correspond to different objective values. This can help us identify patterns and interactions between hyperparameters. For example, we can see that lower learning rates tend to result in lower objective values, especially when combined with higher number of channels.\n",
    "\n",
    "Darker lines indicate better performance (in our case lower objective values)."
   ]
  },
  {
   "cell_type": "code",
   "execution_count": null,
   "id": "c9fe9de6",
   "metadata": {},
   "outputs": [
    {
     "data": {
      "application/vnd.plotly.v1+json": {
       "config": {
        "plotlyServerURL": "https://plot.ly"
       },
       "data": [
        {
         "dimensions": [
          {
           "label": "Objective Value",
           "range": [
            0.9959361553192139,
            1.064988374710083
           ],
           "values": [
            1.0603933334350586,
            1.0119842290878296,
            1.055115818977356,
            1.0027425289154053,
            0.9999709725379944,
            0.9998582005500793,
            1.025004506111145,
            1.0555462837219238,
            1.0018473863601685,
            1.0130244493484497,
            1.064988374710083,
            1.0011736154556274,
            1.001964807510376,
            1.013696551322937,
            1.0230164527893066,
            0.9992284774780273,
            1.0023744106292725,
            1.0118509531021118,
            1.000373125076294,
            1.008986473083496,
            1.002610206604004,
            0.9979422092437744,
            1.0174627304077148,
            1.01931631565094,
            1.0093765258789062,
            0.9964410662651062,
            1.0364718437194824,
            0.9979429244995117,
            1.000487208366394,
            0.9995326995849609,
            1.0051277875900269,
            1.0133004188537598,
            1.0165175199508667,
            1.0193841457366943,
            1.0006392002105713,
            0.9959361553192139,
            1.0000667572021484,
            1.0196034908294678,
            1.0212695598602295,
            1.0039217472076416,
            1.0426946878433228,
            1.018179178237915,
            1.0387804508209229,
            1.0326638221740723,
            1.003531813621521,
            1.0294582843780518,
            1.003088116645813,
            1.0083703994750977,
            1.033168911933899,
            1.003679633140564,
            1.0063046216964722,
            1.0261088609695435,
            1.0224741697311401,
            1.0032978057861328,
            1.0234827995300293,
            1.050140380859375,
            1.0146799087524414,
            1.0034801959991455,
            1.0127384662628174,
            1.000117540359497
           ]
          },
          {
           "label": "channels",
           "range": [
            0,
            3
           ],
           "ticktext": [
            "4",
            "8",
            "16",
            "32"
           ],
           "tickvals": [
            0,
            1,
            2,
            3
           ],
           "values": [
            0,
            0,
            0,
            0,
            0,
            0,
            0,
            0,
            0,
            0,
            0,
            0,
            0,
            0,
            0,
            0,
            0,
            0,
            0,
            0,
            0,
            0,
            0,
            0,
            0,
            0,
            0,
            0,
            0,
            0,
            0,
            0,
            0,
            0,
            0,
            0,
            0,
            0,
            0,
            0,
            1,
            1,
            1,
            1,
            1,
            1,
            1,
            1,
            2,
            2,
            2,
            2,
            2,
            2,
            3,
            3,
            3,
            3,
            3,
            3
           ]
          },
          {
           "label": "lr",
           "range": [
            -3.984237097803672,
            -2.000561976206964
           ],
           "ticktext": [
            "0.000104",
            "0.001",
            "0.00999"
           ],
           "tickvals": [
            -3.984237097803672,
            -3,
            -2.000561976206964
           ],
           "values": [
            -3.7259844500658477,
            -2.6416408266308986,
            -3.7225132145335027,
            -2.237601956289953,
            -2.140004127815559,
            -2.0549280273958135,
            -2.0462075851353707,
            -2.6577740080068577,
            -2.127124230485732,
            -2.3659613766545475,
            -2.814257315989004,
            -2.029465560505232,
            -2.002414194139999,
            -2.2685569662468144,
            -2.438974927226855,
            -2.174489537065364,
            -2.1954102778426945,
            -2.1501040944437593,
            -2.0400900364869687,
            -2.1394944083425456,
            -2.3048540932199666,
            -2.0144788654913994,
            -3.3574106745285,
            -2.386440591983651,
            -2.115321041611449,
            -2.0009532489462414,
            -3.984237097803672,
            -2.000561976206964,
            -2.0171816221996957,
            -2.2473447479795836,
            -2.109382376529808,
            -2.315527283029074,
            -2.436572395917976,
            -2.0882140297595444,
            -2.191076853007122,
            -2.074816516668606,
            -2.011581465175065,
            -2.1964870100515337,
            -2.278483820576273,
            -2.081025551722124,
            -3.54230883199891,
            -3.089165731778974,
            -3.1411439719473306,
            -3.6240674425668145,
            -2.5200683149116068,
            -2.517219634974788,
            -2.2567627010537215,
            -2.5453027412446616,
            -3.019899350024981,
            -2.450253275162102,
            -2.61438094942754,
            -2.809526457660381,
            -2.859499640550209,
            -2.0892175186118114,
            -3.7859779304846044,
            -3.790607571824362,
            -3.345524593555888,
            -2.3346412686814393,
            -2.1928797133989892,
            -2.2380096048230955
           ]
          },
          {
           "label": "weight_decay",
           "range": [
            0.000004203836294514706,
            0.0009969683805865694
           ],
           "values": [
            0.00046201715168339084,
            0.0002348805612219209,
            0.0008354383040855802,
            0.000020907503851412085,
            0.000005459334407735637,
            0.000025428406089951624,
            0.000013723228677271152,
            0.00013803688828857292,
            0.0006302763601219671,
            0.00012028702345443857,
            0.0006131070874972023,
            0.0005963350084969514,
            0.0005453624579743548,
            0.000694019544422184,
            0.0001070768568530887,
            0.0003765439004842885,
            0.00036911149885704474,
            0.00022229522008306978,
            0.0007437894921972981,
            0.0007407579168992411,
            0.00048185411311544587,
            0.0009679718257625151,
            0.0009374192916886558,
            0.0004455661976358142,
            0.00007826758980684785,
            0.0007335612785609747,
            0.0008549893091700598,
            0.000269397084178768,
            0.0005392047959575771,
            0.0002867179293019638,
            0.00043363502777963,
            0.0002627671487992481,
            0.0009141574683566872,
            0.0003550950276124476,
            0.00015665333393843336,
            0.0007712522755467814,
            0.0008133974275939808,
            0.0007776075424304425,
            0.00099181382157683,
            0.0008762498347119773,
            0.00029171941759028843,
            0.00015260557981988698,
            0.00027828909068210715,
            0.0008198341074243487,
            0.0003265720208477802,
            0.00040796045578020786,
            0.00030518517741736186,
            0.00039971016547720557,
            0.0008228403632773028,
            0.0006443235882548392,
            0.00035854635676490587,
            0.00020567483476426112,
            0.00018853378199656446,
            0.0006757178747308983,
            0.0008962908502345968,
            0.00046128812147499366,
            0.000004203836294514706,
            0.00006204708789403165,
            0.0009969683805865694,
            0.00026729737434930275
           ]
          }
         ],
         "labelangle": 30,
         "labelside": "bottom",
         "line": {
          "color": [
           1.0603933334350586,
           1.0119842290878296,
           1.055115818977356,
           1.0027425289154053,
           0.9999709725379944,
           0.9998582005500793,
           1.025004506111145,
           1.0555462837219238,
           1.0018473863601685,
           1.0130244493484497,
           1.064988374710083,
           1.0011736154556274,
           1.001964807510376,
           1.013696551322937,
           1.0230164527893066,
           0.9992284774780273,
           1.0023744106292725,
           1.0118509531021118,
           1.000373125076294,
           1.008986473083496,
           1.002610206604004,
           0.9979422092437744,
           1.0174627304077148,
           1.01931631565094,
           1.0093765258789062,
           0.9964410662651062,
           1.0364718437194824,
           0.9979429244995117,
           1.000487208366394,
           0.9995326995849609,
           1.0051277875900269,
           1.0133004188537598,
           1.0165175199508667,
           1.0193841457366943,
           1.0006392002105713,
           0.9959361553192139,
           1.0000667572021484,
           1.0196034908294678,
           1.0212695598602295,
           1.0039217472076416,
           1.0426946878433228,
           1.018179178237915,
           1.0387804508209229,
           1.0326638221740723,
           1.003531813621521,
           1.0294582843780518,
           1.003088116645813,
           1.0083703994750977,
           1.033168911933899,
           1.003679633140564,
           1.0063046216964722,
           1.0261088609695435,
           1.0224741697311401,
           1.0032978057861328,
           1.0234827995300293,
           1.050140380859375,
           1.0146799087524414,
           1.0034801959991455,
           1.0127384662628174,
           1.000117540359497
          ],
          "colorbar": {
           "title": {
            "text": "Objective Value"
           }
          },
          "colorscale": [
           [
            0,
            "rgb(247,251,255)"
           ],
           [
            0.125,
            "rgb(222,235,247)"
           ],
           [
            0.25,
            "rgb(198,219,239)"
           ],
           [
            0.375,
            "rgb(158,202,225)"
           ],
           [
            0.5,
            "rgb(107,174,214)"
           ],
           [
            0.625,
            "rgb(66,146,198)"
           ],
           [
            0.75,
            "rgb(33,113,181)"
           ],
           [
            0.875,
            "rgb(8,81,156)"
           ],
           [
            1,
            "rgb(8,48,107)"
           ]
          ],
          "reversescale": true,
          "showscale": true
         },
         "type": "parcoords"
        }
       ],
       "layout": {
        "template": {
         "data": {
          "bar": [
           {
            "error_x": {
             "color": "#2a3f5f"
            },
            "error_y": {
             "color": "#2a3f5f"
            },
            "marker": {
             "line": {
              "color": "#E5ECF6",
              "width": 0.5
             },
             "pattern": {
              "fillmode": "overlay",
              "size": 10,
              "solidity": 0.2
             }
            },
            "type": "bar"
           }
          ],
          "barpolar": [
           {
            "marker": {
             "line": {
              "color": "#E5ECF6",
              "width": 0.5
             },
             "pattern": {
              "fillmode": "overlay",
              "size": 10,
              "solidity": 0.2
             }
            },
            "type": "barpolar"
           }
          ],
          "carpet": [
           {
            "aaxis": {
             "endlinecolor": "#2a3f5f",
             "gridcolor": "white",
             "linecolor": "white",
             "minorgridcolor": "white",
             "startlinecolor": "#2a3f5f"
            },
            "baxis": {
             "endlinecolor": "#2a3f5f",
             "gridcolor": "white",
             "linecolor": "white",
             "minorgridcolor": "white",
             "startlinecolor": "#2a3f5f"
            },
            "type": "carpet"
           }
          ],
          "choropleth": [
           {
            "colorbar": {
             "outlinewidth": 0,
             "ticks": ""
            },
            "type": "choropleth"
           }
          ],
          "contour": [
           {
            "colorbar": {
             "outlinewidth": 0,
             "ticks": ""
            },
            "colorscale": [
             [
              0,
              "#0d0887"
             ],
             [
              0.1111111111111111,
              "#46039f"
             ],
             [
              0.2222222222222222,
              "#7201a8"
             ],
             [
              0.3333333333333333,
              "#9c179e"
             ],
             [
              0.4444444444444444,
              "#bd3786"
             ],
             [
              0.5555555555555556,
              "#d8576b"
             ],
             [
              0.6666666666666666,
              "#ed7953"
             ],
             [
              0.7777777777777778,
              "#fb9f3a"
             ],
             [
              0.8888888888888888,
              "#fdca26"
             ],
             [
              1,
              "#f0f921"
             ]
            ],
            "type": "contour"
           }
          ],
          "contourcarpet": [
           {
            "colorbar": {
             "outlinewidth": 0,
             "ticks": ""
            },
            "type": "contourcarpet"
           }
          ],
          "heatmap": [
           {
            "colorbar": {
             "outlinewidth": 0,
             "ticks": ""
            },
            "colorscale": [
             [
              0,
              "#0d0887"
             ],
             [
              0.1111111111111111,
              "#46039f"
             ],
             [
              0.2222222222222222,
              "#7201a8"
             ],
             [
              0.3333333333333333,
              "#9c179e"
             ],
             [
              0.4444444444444444,
              "#bd3786"
             ],
             [
              0.5555555555555556,
              "#d8576b"
             ],
             [
              0.6666666666666666,
              "#ed7953"
             ],
             [
              0.7777777777777778,
              "#fb9f3a"
             ],
             [
              0.8888888888888888,
              "#fdca26"
             ],
             [
              1,
              "#f0f921"
             ]
            ],
            "type": "heatmap"
           }
          ],
          "histogram": [
           {
            "marker": {
             "pattern": {
              "fillmode": "overlay",
              "size": 10,
              "solidity": 0.2
             }
            },
            "type": "histogram"
           }
          ],
          "histogram2d": [
           {
            "colorbar": {
             "outlinewidth": 0,
             "ticks": ""
            },
            "colorscale": [
             [
              0,
              "#0d0887"
             ],
             [
              0.1111111111111111,
              "#46039f"
             ],
             [
              0.2222222222222222,
              "#7201a8"
             ],
             [
              0.3333333333333333,
              "#9c179e"
             ],
             [
              0.4444444444444444,
              "#bd3786"
             ],
             [
              0.5555555555555556,
              "#d8576b"
             ],
             [
              0.6666666666666666,
              "#ed7953"
             ],
             [
              0.7777777777777778,
              "#fb9f3a"
             ],
             [
              0.8888888888888888,
              "#fdca26"
             ],
             [
              1,
              "#f0f921"
             ]
            ],
            "type": "histogram2d"
           }
          ],
          "histogram2dcontour": [
           {
            "colorbar": {
             "outlinewidth": 0,
             "ticks": ""
            },
            "colorscale": [
             [
              0,
              "#0d0887"
             ],
             [
              0.1111111111111111,
              "#46039f"
             ],
             [
              0.2222222222222222,
              "#7201a8"
             ],
             [
              0.3333333333333333,
              "#9c179e"
             ],
             [
              0.4444444444444444,
              "#bd3786"
             ],
             [
              0.5555555555555556,
              "#d8576b"
             ],
             [
              0.6666666666666666,
              "#ed7953"
             ],
             [
              0.7777777777777778,
              "#fb9f3a"
             ],
             [
              0.8888888888888888,
              "#fdca26"
             ],
             [
              1,
              "#f0f921"
             ]
            ],
            "type": "histogram2dcontour"
           }
          ],
          "mesh3d": [
           {
            "colorbar": {
             "outlinewidth": 0,
             "ticks": ""
            },
            "type": "mesh3d"
           }
          ],
          "parcoords": [
           {
            "line": {
             "colorbar": {
              "outlinewidth": 0,
              "ticks": ""
             }
            },
            "type": "parcoords"
           }
          ],
          "pie": [
           {
            "automargin": true,
            "type": "pie"
           }
          ],
          "scatter": [
           {
            "fillpattern": {
             "fillmode": "overlay",
             "size": 10,
             "solidity": 0.2
            },
            "type": "scatter"
           }
          ],
          "scatter3d": [
           {
            "line": {
             "colorbar": {
              "outlinewidth": 0,
              "ticks": ""
             }
            },
            "marker": {
             "colorbar": {
              "outlinewidth": 0,
              "ticks": ""
             }
            },
            "type": "scatter3d"
           }
          ],
          "scattercarpet": [
           {
            "marker": {
             "colorbar": {
              "outlinewidth": 0,
              "ticks": ""
             }
            },
            "type": "scattercarpet"
           }
          ],
          "scattergeo": [
           {
            "marker": {
             "colorbar": {
              "outlinewidth": 0,
              "ticks": ""
             }
            },
            "type": "scattergeo"
           }
          ],
          "scattergl": [
           {
            "marker": {
             "colorbar": {
              "outlinewidth": 0,
              "ticks": ""
             }
            },
            "type": "scattergl"
           }
          ],
          "scattermap": [
           {
            "marker": {
             "colorbar": {
              "outlinewidth": 0,
              "ticks": ""
             }
            },
            "type": "scattermap"
           }
          ],
          "scattermapbox": [
           {
            "marker": {
             "colorbar": {
              "outlinewidth": 0,
              "ticks": ""
             }
            },
            "type": "scattermapbox"
           }
          ],
          "scatterpolar": [
           {
            "marker": {
             "colorbar": {
              "outlinewidth": 0,
              "ticks": ""
             }
            },
            "type": "scatterpolar"
           }
          ],
          "scatterpolargl": [
           {
            "marker": {
             "colorbar": {
              "outlinewidth": 0,
              "ticks": ""
             }
            },
            "type": "scatterpolargl"
           }
          ],
          "scatterternary": [
           {
            "marker": {
             "colorbar": {
              "outlinewidth": 0,
              "ticks": ""
             }
            },
            "type": "scatterternary"
           }
          ],
          "surface": [
           {
            "colorbar": {
             "outlinewidth": 0,
             "ticks": ""
            },
            "colorscale": [
             [
              0,
              "#0d0887"
             ],
             [
              0.1111111111111111,
              "#46039f"
             ],
             [
              0.2222222222222222,
              "#7201a8"
             ],
             [
              0.3333333333333333,
              "#9c179e"
             ],
             [
              0.4444444444444444,
              "#bd3786"
             ],
             [
              0.5555555555555556,
              "#d8576b"
             ],
             [
              0.6666666666666666,
              "#ed7953"
             ],
             [
              0.7777777777777778,
              "#fb9f3a"
             ],
             [
              0.8888888888888888,
              "#fdca26"
             ],
             [
              1,
              "#f0f921"
             ]
            ],
            "type": "surface"
           }
          ],
          "table": [
           {
            "cells": {
             "fill": {
              "color": "#EBF0F8"
             },
             "line": {
              "color": "white"
             }
            },
            "header": {
             "fill": {
              "color": "#C8D4E3"
             },
             "line": {
              "color": "white"
             }
            },
            "type": "table"
           }
          ]
         },
         "layout": {
          "annotationdefaults": {
           "arrowcolor": "#2a3f5f",
           "arrowhead": 0,
           "arrowwidth": 1
          },
          "autotypenumbers": "strict",
          "coloraxis": {
           "colorbar": {
            "outlinewidth": 0,
            "ticks": ""
           }
          },
          "colorscale": {
           "diverging": [
            [
             0,
             "#8e0152"
            ],
            [
             0.1,
             "#c51b7d"
            ],
            [
             0.2,
             "#de77ae"
            ],
            [
             0.3,
             "#f1b6da"
            ],
            [
             0.4,
             "#fde0ef"
            ],
            [
             0.5,
             "#f7f7f7"
            ],
            [
             0.6,
             "#e6f5d0"
            ],
            [
             0.7,
             "#b8e186"
            ],
            [
             0.8,
             "#7fbc41"
            ],
            [
             0.9,
             "#4d9221"
            ],
            [
             1,
             "#276419"
            ]
           ],
           "sequential": [
            [
             0,
             "#0d0887"
            ],
            [
             0.1111111111111111,
             "#46039f"
            ],
            [
             0.2222222222222222,
             "#7201a8"
            ],
            [
             0.3333333333333333,
             "#9c179e"
            ],
            [
             0.4444444444444444,
             "#bd3786"
            ],
            [
             0.5555555555555556,
             "#d8576b"
            ],
            [
             0.6666666666666666,
             "#ed7953"
            ],
            [
             0.7777777777777778,
             "#fb9f3a"
            ],
            [
             0.8888888888888888,
             "#fdca26"
            ],
            [
             1,
             "#f0f921"
            ]
           ],
           "sequentialminus": [
            [
             0,
             "#0d0887"
            ],
            [
             0.1111111111111111,
             "#46039f"
            ],
            [
             0.2222222222222222,
             "#7201a8"
            ],
            [
             0.3333333333333333,
             "#9c179e"
            ],
            [
             0.4444444444444444,
             "#bd3786"
            ],
            [
             0.5555555555555556,
             "#d8576b"
            ],
            [
             0.6666666666666666,
             "#ed7953"
            ],
            [
             0.7777777777777778,
             "#fb9f3a"
            ],
            [
             0.8888888888888888,
             "#fdca26"
            ],
            [
             1,
             "#f0f921"
            ]
           ]
          },
          "colorway": [
           "#636efa",
           "#EF553B",
           "#00cc96",
           "#ab63fa",
           "#FFA15A",
           "#19d3f3",
           "#FF6692",
           "#B6E880",
           "#FF97FF",
           "#FECB52"
          ],
          "font": {
           "color": "#2a3f5f"
          },
          "geo": {
           "bgcolor": "white",
           "lakecolor": "white",
           "landcolor": "#E5ECF6",
           "showlakes": true,
           "showland": true,
           "subunitcolor": "white"
          },
          "hoverlabel": {
           "align": "left"
          },
          "hovermode": "closest",
          "mapbox": {
           "style": "light"
          },
          "paper_bgcolor": "white",
          "plot_bgcolor": "#E5ECF6",
          "polar": {
           "angularaxis": {
            "gridcolor": "white",
            "linecolor": "white",
            "ticks": ""
           },
           "bgcolor": "#E5ECF6",
           "radialaxis": {
            "gridcolor": "white",
            "linecolor": "white",
            "ticks": ""
           }
          },
          "scene": {
           "xaxis": {
            "backgroundcolor": "#E5ECF6",
            "gridcolor": "white",
            "gridwidth": 2,
            "linecolor": "white",
            "showbackground": true,
            "ticks": "",
            "zerolinecolor": "white"
           },
           "yaxis": {
            "backgroundcolor": "#E5ECF6",
            "gridcolor": "white",
            "gridwidth": 2,
            "linecolor": "white",
            "showbackground": true,
            "ticks": "",
            "zerolinecolor": "white"
           },
           "zaxis": {
            "backgroundcolor": "#E5ECF6",
            "gridcolor": "white",
            "gridwidth": 2,
            "linecolor": "white",
            "showbackground": true,
            "ticks": "",
            "zerolinecolor": "white"
           }
          },
          "shapedefaults": {
           "line": {
            "color": "#2a3f5f"
           }
          },
          "ternary": {
           "aaxis": {
            "gridcolor": "white",
            "linecolor": "white",
            "ticks": ""
           },
           "baxis": {
            "gridcolor": "white",
            "linecolor": "white",
            "ticks": ""
           },
           "bgcolor": "#E5ECF6",
           "caxis": {
            "gridcolor": "white",
            "linecolor": "white",
            "ticks": ""
           }
          },
          "title": {
           "x": 0.05
          },
          "xaxis": {
           "automargin": true,
           "gridcolor": "white",
           "linecolor": "white",
           "ticks": "",
           "title": {
            "standoff": 15
           },
           "zerolinecolor": "white",
           "zerolinewidth": 2
          },
          "yaxis": {
           "automargin": true,
           "gridcolor": "white",
           "linecolor": "white",
           "ticks": "",
           "title": {
            "standoff": 15
           },
           "zerolinecolor": "white",
           "zerolinewidth": 2
          }
         }
        },
        "title": {
         "text": "Parallel Coordinate Plot"
        }
       }
      }
     },
     "metadata": {},
     "output_type": "display_data"
    }
   ],
   "source": [
    "fig = optuna.visualization.plot_parallel_coordinate(study)\n",
    "fig.show()"
   ]
  },
  {
   "cell_type": "markdown",
   "id": "36d26b64",
   "metadata": {},
   "source": [
    "### Slice plot\n",
    "\n",
    "The slice plot shows the distribution of objective values for each hyperparameter. This can help us understand how sensitive the objective value is to changes in each hyperparameter. For example, we can see that the learning rate has a wide range of objective values, indicating that it is a sensitive hyperparameter. In contrast, weight decay has a narrower range of objective values, suggesting that it is less sensitive.\n",
    "\n",
    "Also, this helps to identify good ranges for hyperparameters. For example, we can see that the best learning rates are close to our limit of 0.01. This means, we should probably increase the upper limit and run some more trials."
   ]
  },
  {
   "cell_type": "code",
   "execution_count": null,
   "id": "736fbed6",
   "metadata": {},
   "outputs": [
    {
     "data": {
      "application/vnd.plotly.v1+json": {
       "config": {
        "plotlyServerURL": "https://plot.ly"
       },
       "data": [
        {
         "marker": {
          "color": [
           0,
           1,
           2,
           3,
           4,
           5,
           6,
           7,
           8,
           9,
           10,
           11,
           12,
           13,
           14,
           15,
           16,
           17,
           18,
           19,
           20,
           21,
           22,
           23,
           24,
           25,
           26,
           27,
           28,
           29,
           30,
           31,
           32,
           33,
           34,
           35,
           36,
           37,
           38,
           39,
           40,
           41,
           42,
           43,
           44,
           45,
           46,
           47,
           48,
           49,
           50,
           51,
           52,
           53,
           54,
           55,
           56,
           57,
           58,
           59
          ],
          "colorbar": {
           "title": {
            "text": "Trial"
           },
           "x": 1,
           "xpad": 40
          },
          "colorscale": [
           [
            0,
            "rgb(247,251,255)"
           ],
           [
            0.125,
            "rgb(222,235,247)"
           ],
           [
            0.25,
            "rgb(198,219,239)"
           ],
           [
            0.375,
            "rgb(158,202,225)"
           ],
           [
            0.5,
            "rgb(107,174,214)"
           ],
           [
            0.625,
            "rgb(66,146,198)"
           ],
           [
            0.75,
            "rgb(33,113,181)"
           ],
           [
            0.875,
            "rgb(8,81,156)"
           ],
           [
            1,
            "rgb(8,48,107)"
           ]
          ],
          "line": {
           "color": "Grey",
           "width": 0.5
          },
          "showscale": true
         },
         "mode": "markers",
         "name": "Feasible Trial",
         "showlegend": false,
         "type": "scatter",
         "x": [
          8,
          4,
          32,
          8,
          32,
          16,
          4,
          4,
          8,
          8,
          4,
          4,
          4,
          4,
          16,
          4,
          4,
          4,
          16,
          32,
          4,
          4,
          4,
          4,
          4,
          4,
          4,
          16,
          32,
          8,
          4,
          4,
          4,
          4,
          4,
          4,
          32,
          4,
          8,
          16,
          4,
          4,
          4,
          4,
          4,
          4,
          8,
          32,
          4,
          4,
          4,
          4,
          4,
          4,
          4,
          4,
          16,
          4,
          4,
          8
         ],
         "xaxis": "x",
         "y": [
          1.0426946878433228,
          1.0603933334350586,
          1.0234827995300293,
          1.018179178237915,
          1.050140380859375,
          1.033168911933899,
          1.0119842290878296,
          1.055115818977356,
          1.0387804508209229,
          1.0326638221740723,
          1.0027425289154053,
          0.9999709725379944,
          0.9998582005500793,
          1.025004506111145,
          1.003679633140564,
          1.0555462837219238,
          1.0018473863601685,
          1.0130244493484497,
          1.0063046216964722,
          1.0146799087524414,
          1.064988374710083,
          1.0011736154556274,
          1.001964807510376,
          1.013696551322937,
          1.0230164527893066,
          0.9992284774780273,
          1.0023744106292725,
          1.0261088609695435,
          1.0034801959991455,
          1.003531813621521,
          1.0118509531021118,
          1.000373125076294,
          1.008986473083496,
          1.002610206604004,
          0.9979422092437744,
          1.0174627304077148,
          1.0127384662628174,
          1.01931631565094,
          1.0294582843780518,
          1.0224741697311401,
          1.0093765258789062,
          0.9964410662651062,
          1.0364718437194824,
          0.9979429244995117,
          1.000487208366394,
          0.9995326995849609,
          1.003088116645813,
          1.000117540359497,
          1.0051277875900269,
          1.0133004188537598,
          1.0165175199508667,
          1.0193841457366943,
          1.0006392002105713,
          0.9959361553192139,
          1.0000667572021484,
          1.0196034908294678,
          1.0032978057861328,
          1.0212695598602295,
          1.0039217472076416,
          1.0083703994750977
         ],
         "yaxis": "y"
        },
        {
         "marker": {
          "color": [
           0,
           1,
           2,
           3,
           4,
           5,
           6,
           7,
           8,
           9,
           10,
           11,
           12,
           13,
           14,
           15,
           16,
           17,
           18,
           19,
           20,
           21,
           22,
           23,
           24,
           25,
           26,
           27,
           28,
           29,
           30,
           31,
           32,
           33,
           34,
           35,
           36,
           37,
           38,
           39,
           40,
           41,
           42,
           43,
           44,
           45,
           46,
           47,
           48,
           49,
           50,
           51,
           52,
           53,
           54,
           55,
           56,
           57,
           58,
           59
          ],
          "colorbar": {
           "title": {
            "text": "Trial"
           },
           "x": 1,
           "xpad": 40
          },
          "colorscale": [
           [
            0,
            "rgb(247,251,255)"
           ],
           [
            0.125,
            "rgb(222,235,247)"
           ],
           [
            0.25,
            "rgb(198,219,239)"
           ],
           [
            0.375,
            "rgb(158,202,225)"
           ],
           [
            0.5,
            "rgb(107,174,214)"
           ],
           [
            0.625,
            "rgb(66,146,198)"
           ],
           [
            0.75,
            "rgb(33,113,181)"
           ],
           [
            0.875,
            "rgb(8,81,156)"
           ],
           [
            1,
            "rgb(8,48,107)"
           ]
          ],
          "line": {
           "color": "Grey",
           "width": 0.5
          },
          "showscale": false
         },
         "mode": "markers",
         "name": "Feasible Trial",
         "showlegend": false,
         "type": "scatter",
         "x": [
          0.0002868739861303541,
          0.00018793841070340842,
          0.00016368997015435812,
          0.0008143934427917192,
          0.00016195427943529222,
          0.0009552139361028714,
          0.0022822287570854537,
          0.000189446586945292,
          0.0007225302395868995,
          0.00023764712104093792,
          0.0057862613237673315,
          0.007244290745999475,
          0.008811948952097743,
          0.008990677402193142,
          0.0035460652678583216,
          0.002199003861504312,
          0.0074623526633510245,
          0.004305649004496275,
          0.0024300714918222433,
          0.0004513104674673386,
          0.0015337080038825281,
          0.009344034633900253,
          0.009944565345867535,
          0.005388191640269958,
          0.0036393604634703466,
          0.0066912994039458,
          0.006376608036238254,
          0.0015505063254987698,
          0.004627631102458417,
          0.0030194767166474503,
          0.007077761198021904,
          0.009118217839010612,
          0.007252798162024875,
          0.0049561667159070295,
          0.009672107938551474,
          0.0004391261756050127,
          0.006413871970844018,
          0.004107328210014978,
          0.003039347553112922,
          0.001381975549711861,
          0.007667944456947918,
          0.009978074702988046,
          0.00010369621443549447,
          0.009987068388176857,
          0.009612102156584236,
          0.005657899801025722,
          0.005536525428952835,
          0.005780832624197239,
          0.0077735182673779255,
          0.004835848838219171,
          0.00365954931605245,
          0.008161800409652862,
          0.006440552830283267,
          0.008417506944020166,
          0.009736851238571648,
          0.006360818300539465,
          0.008142963373842075,
          0.00526642834343851,
          0.008298019446687746,
          0.0028490315509110357
         ],
         "xaxis": "x2",
         "y": [
          1.0426946878433228,
          1.0603933334350586,
          1.0234827995300293,
          1.018179178237915,
          1.050140380859375,
          1.033168911933899,
          1.0119842290878296,
          1.055115818977356,
          1.0387804508209229,
          1.0326638221740723,
          1.0027425289154053,
          0.9999709725379944,
          0.9998582005500793,
          1.025004506111145,
          1.003679633140564,
          1.0555462837219238,
          1.0018473863601685,
          1.0130244493484497,
          1.0063046216964722,
          1.0146799087524414,
          1.064988374710083,
          1.0011736154556274,
          1.001964807510376,
          1.013696551322937,
          1.0230164527893066,
          0.9992284774780273,
          1.0023744106292725,
          1.0261088609695435,
          1.0034801959991455,
          1.003531813621521,
          1.0118509531021118,
          1.000373125076294,
          1.008986473083496,
          1.002610206604004,
          0.9979422092437744,
          1.0174627304077148,
          1.0127384662628174,
          1.01931631565094,
          1.0294582843780518,
          1.0224741697311401,
          1.0093765258789062,
          0.9964410662651062,
          1.0364718437194824,
          0.9979429244995117,
          1.000487208366394,
          0.9995326995849609,
          1.003088116645813,
          1.000117540359497,
          1.0051277875900269,
          1.0133004188537598,
          1.0165175199508667,
          1.0193841457366943,
          1.0006392002105713,
          0.9959361553192139,
          1.0000667572021484,
          1.0196034908294678,
          1.0032978057861328,
          1.0212695598602295,
          1.0039217472076416,
          1.0083703994750977
         ],
         "yaxis": "y2"
        },
        {
         "marker": {
          "color": [
           0,
           1,
           2,
           3,
           4,
           5,
           6,
           7,
           8,
           9,
           10,
           11,
           12,
           13,
           14,
           15,
           16,
           17,
           18,
           19,
           20,
           21,
           22,
           23,
           24,
           25,
           26,
           27,
           28,
           29,
           30,
           31,
           32,
           33,
           34,
           35,
           36,
           37,
           38,
           39,
           40,
           41,
           42,
           43,
           44,
           45,
           46,
           47,
           48,
           49,
           50,
           51,
           52,
           53,
           54,
           55,
           56,
           57,
           58,
           59
          ],
          "colorbar": {
           "title": {
            "text": "Trial"
           },
           "x": 1,
           "xpad": 40
          },
          "colorscale": [
           [
            0,
            "rgb(247,251,255)"
           ],
           [
            0.125,
            "rgb(222,235,247)"
           ],
           [
            0.25,
            "rgb(198,219,239)"
           ],
           [
            0.375,
            "rgb(158,202,225)"
           ],
           [
            0.5,
            "rgb(107,174,214)"
           ],
           [
            0.625,
            "rgb(66,146,198)"
           ],
           [
            0.75,
            "rgb(33,113,181)"
           ],
           [
            0.875,
            "rgb(8,81,156)"
           ],
           [
            1,
            "rgb(8,48,107)"
           ]
          ],
          "line": {
           "color": "Grey",
           "width": 0.5
          },
          "showscale": false
         },
         "mode": "markers",
         "name": "Feasible Trial",
         "showlegend": false,
         "type": "scatter",
         "x": [
          0.00029171941759028843,
          0.00046201715168339084,
          0.0008962908502345968,
          0.00015260557981988698,
          0.00046128812147499366,
          0.0008228403632773028,
          0.0002348805612219209,
          0.0008354383040855802,
          0.00027828909068210715,
          0.0008198341074243487,
          0.000020907503851412085,
          0.000005459334407735637,
          0.000025428406089951624,
          0.000013723228677271152,
          0.0006443235882548392,
          0.00013803688828857292,
          0.0006302763601219671,
          0.00012028702345443857,
          0.00035854635676490587,
          0.000004203836294514706,
          0.0006131070874972023,
          0.0005963350084969514,
          0.0005453624579743548,
          0.000694019544422184,
          0.0001070768568530887,
          0.0003765439004842885,
          0.00036911149885704474,
          0.00020567483476426112,
          0.00006204708789403165,
          0.0003265720208477802,
          0.00022229522008306978,
          0.0007437894921972981,
          0.0007407579168992411,
          0.00048185411311544587,
          0.0009679718257625151,
          0.0009374192916886558,
          0.0009969683805865694,
          0.0004455661976358142,
          0.00040796045578020786,
          0.00018853378199656446,
          0.00007826758980684785,
          0.0007335612785609747,
          0.0008549893091700598,
          0.000269397084178768,
          0.0005392047959575771,
          0.0002867179293019638,
          0.00030518517741736186,
          0.00026729737434930275,
          0.00043363502777963,
          0.0002627671487992481,
          0.0009141574683566872,
          0.0003550950276124476,
          0.00015665333393843336,
          0.0007712522755467814,
          0.0008133974275939808,
          0.0007776075424304425,
          0.0006757178747308983,
          0.00099181382157683,
          0.0008762498347119773,
          0.00039971016547720557
         ],
         "xaxis": "x3",
         "y": [
          1.0426946878433228,
          1.0603933334350586,
          1.0234827995300293,
          1.018179178237915,
          1.050140380859375,
          1.033168911933899,
          1.0119842290878296,
          1.055115818977356,
          1.0387804508209229,
          1.0326638221740723,
          1.0027425289154053,
          0.9999709725379944,
          0.9998582005500793,
          1.025004506111145,
          1.003679633140564,
          1.0555462837219238,
          1.0018473863601685,
          1.0130244493484497,
          1.0063046216964722,
          1.0146799087524414,
          1.064988374710083,
          1.0011736154556274,
          1.001964807510376,
          1.013696551322937,
          1.0230164527893066,
          0.9992284774780273,
          1.0023744106292725,
          1.0261088609695435,
          1.0034801959991455,
          1.003531813621521,
          1.0118509531021118,
          1.000373125076294,
          1.008986473083496,
          1.002610206604004,
          0.9979422092437744,
          1.0174627304077148,
          1.0127384662628174,
          1.01931631565094,
          1.0294582843780518,
          1.0224741697311401,
          1.0093765258789062,
          0.9964410662651062,
          1.0364718437194824,
          0.9979429244995117,
          1.000487208366394,
          0.9995326995849609,
          1.003088116645813,
          1.000117540359497,
          1.0051277875900269,
          1.0133004188537598,
          1.0165175199508667,
          1.0193841457366943,
          1.0006392002105713,
          0.9959361553192139,
          1.0000667572021484,
          1.0196034908294678,
          1.0032978057861328,
          1.0212695598602295,
          1.0039217472076416,
          1.0083703994750977
         ],
         "yaxis": "y3"
        }
       ],
       "layout": {
        "template": {
         "data": {
          "bar": [
           {
            "error_x": {
             "color": "#2a3f5f"
            },
            "error_y": {
             "color": "#2a3f5f"
            },
            "marker": {
             "line": {
              "color": "#E5ECF6",
              "width": 0.5
             },
             "pattern": {
              "fillmode": "overlay",
              "size": 10,
              "solidity": 0.2
             }
            },
            "type": "bar"
           }
          ],
          "barpolar": [
           {
            "marker": {
             "line": {
              "color": "#E5ECF6",
              "width": 0.5
             },
             "pattern": {
              "fillmode": "overlay",
              "size": 10,
              "solidity": 0.2
             }
            },
            "type": "barpolar"
           }
          ],
          "carpet": [
           {
            "aaxis": {
             "endlinecolor": "#2a3f5f",
             "gridcolor": "white",
             "linecolor": "white",
             "minorgridcolor": "white",
             "startlinecolor": "#2a3f5f"
            },
            "baxis": {
             "endlinecolor": "#2a3f5f",
             "gridcolor": "white",
             "linecolor": "white",
             "minorgridcolor": "white",
             "startlinecolor": "#2a3f5f"
            },
            "type": "carpet"
           }
          ],
          "choropleth": [
           {
            "colorbar": {
             "outlinewidth": 0,
             "ticks": ""
            },
            "type": "choropleth"
           }
          ],
          "contour": [
           {
            "colorbar": {
             "outlinewidth": 0,
             "ticks": ""
            },
            "colorscale": [
             [
              0,
              "#0d0887"
             ],
             [
              0.1111111111111111,
              "#46039f"
             ],
             [
              0.2222222222222222,
              "#7201a8"
             ],
             [
              0.3333333333333333,
              "#9c179e"
             ],
             [
              0.4444444444444444,
              "#bd3786"
             ],
             [
              0.5555555555555556,
              "#d8576b"
             ],
             [
              0.6666666666666666,
              "#ed7953"
             ],
             [
              0.7777777777777778,
              "#fb9f3a"
             ],
             [
              0.8888888888888888,
              "#fdca26"
             ],
             [
              1,
              "#f0f921"
             ]
            ],
            "type": "contour"
           }
          ],
          "contourcarpet": [
           {
            "colorbar": {
             "outlinewidth": 0,
             "ticks": ""
            },
            "type": "contourcarpet"
           }
          ],
          "heatmap": [
           {
            "colorbar": {
             "outlinewidth": 0,
             "ticks": ""
            },
            "colorscale": [
             [
              0,
              "#0d0887"
             ],
             [
              0.1111111111111111,
              "#46039f"
             ],
             [
              0.2222222222222222,
              "#7201a8"
             ],
             [
              0.3333333333333333,
              "#9c179e"
             ],
             [
              0.4444444444444444,
              "#bd3786"
             ],
             [
              0.5555555555555556,
              "#d8576b"
             ],
             [
              0.6666666666666666,
              "#ed7953"
             ],
             [
              0.7777777777777778,
              "#fb9f3a"
             ],
             [
              0.8888888888888888,
              "#fdca26"
             ],
             [
              1,
              "#f0f921"
             ]
            ],
            "type": "heatmap"
           }
          ],
          "histogram": [
           {
            "marker": {
             "pattern": {
              "fillmode": "overlay",
              "size": 10,
              "solidity": 0.2
             }
            },
            "type": "histogram"
           }
          ],
          "histogram2d": [
           {
            "colorbar": {
             "outlinewidth": 0,
             "ticks": ""
            },
            "colorscale": [
             [
              0,
              "#0d0887"
             ],
             [
              0.1111111111111111,
              "#46039f"
             ],
             [
              0.2222222222222222,
              "#7201a8"
             ],
             [
              0.3333333333333333,
              "#9c179e"
             ],
             [
              0.4444444444444444,
              "#bd3786"
             ],
             [
              0.5555555555555556,
              "#d8576b"
             ],
             [
              0.6666666666666666,
              "#ed7953"
             ],
             [
              0.7777777777777778,
              "#fb9f3a"
             ],
             [
              0.8888888888888888,
              "#fdca26"
             ],
             [
              1,
              "#f0f921"
             ]
            ],
            "type": "histogram2d"
           }
          ],
          "histogram2dcontour": [
           {
            "colorbar": {
             "outlinewidth": 0,
             "ticks": ""
            },
            "colorscale": [
             [
              0,
              "#0d0887"
             ],
             [
              0.1111111111111111,
              "#46039f"
             ],
             [
              0.2222222222222222,
              "#7201a8"
             ],
             [
              0.3333333333333333,
              "#9c179e"
             ],
             [
              0.4444444444444444,
              "#bd3786"
             ],
             [
              0.5555555555555556,
              "#d8576b"
             ],
             [
              0.6666666666666666,
              "#ed7953"
             ],
             [
              0.7777777777777778,
              "#fb9f3a"
             ],
             [
              0.8888888888888888,
              "#fdca26"
             ],
             [
              1,
              "#f0f921"
             ]
            ],
            "type": "histogram2dcontour"
           }
          ],
          "mesh3d": [
           {
            "colorbar": {
             "outlinewidth": 0,
             "ticks": ""
            },
            "type": "mesh3d"
           }
          ],
          "parcoords": [
           {
            "line": {
             "colorbar": {
              "outlinewidth": 0,
              "ticks": ""
             }
            },
            "type": "parcoords"
           }
          ],
          "pie": [
           {
            "automargin": true,
            "type": "pie"
           }
          ],
          "scatter": [
           {
            "fillpattern": {
             "fillmode": "overlay",
             "size": 10,
             "solidity": 0.2
            },
            "type": "scatter"
           }
          ],
          "scatter3d": [
           {
            "line": {
             "colorbar": {
              "outlinewidth": 0,
              "ticks": ""
             }
            },
            "marker": {
             "colorbar": {
              "outlinewidth": 0,
              "ticks": ""
             }
            },
            "type": "scatter3d"
           }
          ],
          "scattercarpet": [
           {
            "marker": {
             "colorbar": {
              "outlinewidth": 0,
              "ticks": ""
             }
            },
            "type": "scattercarpet"
           }
          ],
          "scattergeo": [
           {
            "marker": {
             "colorbar": {
              "outlinewidth": 0,
              "ticks": ""
             }
            },
            "type": "scattergeo"
           }
          ],
          "scattergl": [
           {
            "marker": {
             "colorbar": {
              "outlinewidth": 0,
              "ticks": ""
             }
            },
            "type": "scattergl"
           }
          ],
          "scattermap": [
           {
            "marker": {
             "colorbar": {
              "outlinewidth": 0,
              "ticks": ""
             }
            },
            "type": "scattermap"
           }
          ],
          "scattermapbox": [
           {
            "marker": {
             "colorbar": {
              "outlinewidth": 0,
              "ticks": ""
             }
            },
            "type": "scattermapbox"
           }
          ],
          "scatterpolar": [
           {
            "marker": {
             "colorbar": {
              "outlinewidth": 0,
              "ticks": ""
             }
            },
            "type": "scatterpolar"
           }
          ],
          "scatterpolargl": [
           {
            "marker": {
             "colorbar": {
              "outlinewidth": 0,
              "ticks": ""
             }
            },
            "type": "scatterpolargl"
           }
          ],
          "scatterternary": [
           {
            "marker": {
             "colorbar": {
              "outlinewidth": 0,
              "ticks": ""
             }
            },
            "type": "scatterternary"
           }
          ],
          "surface": [
           {
            "colorbar": {
             "outlinewidth": 0,
             "ticks": ""
            },
            "colorscale": [
             [
              0,
              "#0d0887"
             ],
             [
              0.1111111111111111,
              "#46039f"
             ],
             [
              0.2222222222222222,
              "#7201a8"
             ],
             [
              0.3333333333333333,
              "#9c179e"
             ],
             [
              0.4444444444444444,
              "#bd3786"
             ],
             [
              0.5555555555555556,
              "#d8576b"
             ],
             [
              0.6666666666666666,
              "#ed7953"
             ],
             [
              0.7777777777777778,
              "#fb9f3a"
             ],
             [
              0.8888888888888888,
              "#fdca26"
             ],
             [
              1,
              "#f0f921"
             ]
            ],
            "type": "surface"
           }
          ],
          "table": [
           {
            "cells": {
             "fill": {
              "color": "#EBF0F8"
             },
             "line": {
              "color": "white"
             }
            },
            "header": {
             "fill": {
              "color": "#C8D4E3"
             },
             "line": {
              "color": "white"
             }
            },
            "type": "table"
           }
          ]
         },
         "layout": {
          "annotationdefaults": {
           "arrowcolor": "#2a3f5f",
           "arrowhead": 0,
           "arrowwidth": 1
          },
          "autotypenumbers": "strict",
          "coloraxis": {
           "colorbar": {
            "outlinewidth": 0,
            "ticks": ""
           }
          },
          "colorscale": {
           "diverging": [
            [
             0,
             "#8e0152"
            ],
            [
             0.1,
             "#c51b7d"
            ],
            [
             0.2,
             "#de77ae"
            ],
            [
             0.3,
             "#f1b6da"
            ],
            [
             0.4,
             "#fde0ef"
            ],
            [
             0.5,
             "#f7f7f7"
            ],
            [
             0.6,
             "#e6f5d0"
            ],
            [
             0.7,
             "#b8e186"
            ],
            [
             0.8,
             "#7fbc41"
            ],
            [
             0.9,
             "#4d9221"
            ],
            [
             1,
             "#276419"
            ]
           ],
           "sequential": [
            [
             0,
             "#0d0887"
            ],
            [
             0.1111111111111111,
             "#46039f"
            ],
            [
             0.2222222222222222,
             "#7201a8"
            ],
            [
             0.3333333333333333,
             "#9c179e"
            ],
            [
             0.4444444444444444,
             "#bd3786"
            ],
            [
             0.5555555555555556,
             "#d8576b"
            ],
            [
             0.6666666666666666,
             "#ed7953"
            ],
            [
             0.7777777777777778,
             "#fb9f3a"
            ],
            [
             0.8888888888888888,
             "#fdca26"
            ],
            [
             1,
             "#f0f921"
            ]
           ],
           "sequentialminus": [
            [
             0,
             "#0d0887"
            ],
            [
             0.1111111111111111,
             "#46039f"
            ],
            [
             0.2222222222222222,
             "#7201a8"
            ],
            [
             0.3333333333333333,
             "#9c179e"
            ],
            [
             0.4444444444444444,
             "#bd3786"
            ],
            [
             0.5555555555555556,
             "#d8576b"
            ],
            [
             0.6666666666666666,
             "#ed7953"
            ],
            [
             0.7777777777777778,
             "#fb9f3a"
            ],
            [
             0.8888888888888888,
             "#fdca26"
            ],
            [
             1,
             "#f0f921"
            ]
           ]
          },
          "colorway": [
           "#636efa",
           "#EF553B",
           "#00cc96",
           "#ab63fa",
           "#FFA15A",
           "#19d3f3",
           "#FF6692",
           "#B6E880",
           "#FF97FF",
           "#FECB52"
          ],
          "font": {
           "color": "#2a3f5f"
          },
          "geo": {
           "bgcolor": "white",
           "lakecolor": "white",
           "landcolor": "#E5ECF6",
           "showlakes": true,
           "showland": true,
           "subunitcolor": "white"
          },
          "hoverlabel": {
           "align": "left"
          },
          "hovermode": "closest",
          "mapbox": {
           "style": "light"
          },
          "paper_bgcolor": "white",
          "plot_bgcolor": "#E5ECF6",
          "polar": {
           "angularaxis": {
            "gridcolor": "white",
            "linecolor": "white",
            "ticks": ""
           },
           "bgcolor": "#E5ECF6",
           "radialaxis": {
            "gridcolor": "white",
            "linecolor": "white",
            "ticks": ""
           }
          },
          "scene": {
           "xaxis": {
            "backgroundcolor": "#E5ECF6",
            "gridcolor": "white",
            "gridwidth": 2,
            "linecolor": "white",
            "showbackground": true,
            "ticks": "",
            "zerolinecolor": "white"
           },
           "yaxis": {
            "backgroundcolor": "#E5ECF6",
            "gridcolor": "white",
            "gridwidth": 2,
            "linecolor": "white",
            "showbackground": true,
            "ticks": "",
            "zerolinecolor": "white"
           },
           "zaxis": {
            "backgroundcolor": "#E5ECF6",
            "gridcolor": "white",
            "gridwidth": 2,
            "linecolor": "white",
            "showbackground": true,
            "ticks": "",
            "zerolinecolor": "white"
           }
          },
          "shapedefaults": {
           "line": {
            "color": "#2a3f5f"
           }
          },
          "ternary": {
           "aaxis": {
            "gridcolor": "white",
            "linecolor": "white",
            "ticks": ""
           },
           "baxis": {
            "gridcolor": "white",
            "linecolor": "white",
            "ticks": ""
           },
           "bgcolor": "#E5ECF6",
           "caxis": {
            "gridcolor": "white",
            "linecolor": "white",
            "ticks": ""
           }
          },
          "title": {
           "x": 0.05
          },
          "xaxis": {
           "automargin": true,
           "gridcolor": "white",
           "linecolor": "white",
           "ticks": "",
           "title": {
            "standoff": 15
           },
           "zerolinecolor": "white",
           "zerolinewidth": 2
          },
          "yaxis": {
           "automargin": true,
           "gridcolor": "white",
           "linecolor": "white",
           "ticks": "",
           "title": {
            "standoff": 15
           },
           "zerolinecolor": "white",
           "zerolinewidth": 2
          }
         }
        },
        "title": {
         "text": "Slice Plot"
        },
        "xaxis": {
         "anchor": "y",
         "categoryarray": [
          4,
          8,
          16,
          32
         ],
         "categoryorder": "array",
         "domain": [
          0,
          0.2888888888888889
         ],
         "title": {
          "text": "channels"
         },
         "type": "category"
        },
        "xaxis2": {
         "anchor": "y2",
         "domain": [
          0.35555555555555557,
          0.6444444444444445
         ],
         "title": {
          "text": "lr"
         },
         "type": "log"
        },
        "xaxis3": {
         "anchor": "y3",
         "domain": [
          0.7111111111111111,
          1
         ],
         "title": {
          "text": "weight_decay"
         }
        },
        "yaxis": {
         "anchor": "x",
         "domain": [
          0,
          1
         ],
         "title": {
          "text": "Objective Value"
         }
        },
        "yaxis2": {
         "anchor": "x2",
         "domain": [
          0,
          1
         ],
         "matches": "y",
         "showticklabels": false
        },
        "yaxis3": {
         "anchor": "x3",
         "domain": [
          0,
          1
         ],
         "matches": "y",
         "showticklabels": false
        }
       }
      }
     },
     "metadata": {},
     "output_type": "display_data"
    }
   ],
   "source": [
    "fig = optuna.visualization.plot_slice(study)\n",
    "fig.show()"
   ]
  },
  {
   "cell_type": "markdown",
   "id": "220158cd",
   "metadata": {},
   "source": [
    "## Summary\n",
    "\n",
    "With optuna, we have a powerful and flexible tool for hyperparameter optimization. By defining an objective function and using various visualization techniques, we can effectively tune our models to achieve better performance.\n",
    "\n",
    "The hardest part usually is to adapt your model to change its architecture based on the hyperparameters suggested by optuna. But once that is done, you can easily run many trials and find good hyperparameters.\n",
    "\n",
    "## Exercise\n",
    "\n",
    "Use optuna to optimize the U-Net in the [U-Net notebook](https://colab.research.google.com/github/thawn/ttt-workshop-cnn/blob/main/book/pair_programming/unet_bbbc039_pair_programming.ipynb). \n",
    "\n",
    "Do not forget to add the dependencies and then **restart the notebook**.\n",
    "\n",
    "Note: you need to shut down the kernel of this notebook before running the U-Net notebook, otherwise google colab will complain about too many open sessions.\n",
    "\n",
    "## Challenge\n",
    "\n",
    "Can you beat the best manual tuning?\n",
    "\n",
    "Which team gets the best test score using optuna?"
   ]
  }
 ],
 "metadata": {
  "kernelspec": {
   "display_name": "venv",
   "language": "python",
   "name": "python3"
  },
  "language_info": {
   "codemirror_mode": {
    "name": "ipython",
    "version": 3
   },
   "file_extension": ".py",
   "mimetype": "text/x-python",
   "name": "python",
   "nbconvert_exporter": "python",
   "pygments_lexer": "ipython3",
   "version": "3.11.12"
  }
 },
 "nbformat": 4,
 "nbformat_minor": 5
}
