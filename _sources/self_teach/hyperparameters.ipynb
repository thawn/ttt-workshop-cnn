{
 "cells": [
  {
   "cell_type": "markdown",
   "id": "7608ae52",
   "metadata": {},
   "source": [
    "# Hyperparameters (Self-teaching)\n",
    "\n",
    "[![Open In Colab](https://colab.research.google.com/assets/colab-badge.svg)](https://colab.research.google.com/github/USER/teaching-cnn/blob/main/book/self_teach/hyperparameters.ipynb)\n",
    "\n",
    "We discuss LR, batch size, epochs, weight decay, kernel size, depth, and data augmentation."
   ]
  },
  {
   "cell_type": "markdown",
   "id": "6c99441f",
   "metadata": {},
   "source": [
    "## Practical tips\n",
    "- Start with a simple baseline.\n",
    "- Change one variable at a time.\n",
    "- Track metrics and seeds."
   ]
  }
 ],
 "metadata": {
  "language_info": {
   "name": "python"
  }
 },
 "nbformat": 4,
 "nbformat_minor": 5
}
