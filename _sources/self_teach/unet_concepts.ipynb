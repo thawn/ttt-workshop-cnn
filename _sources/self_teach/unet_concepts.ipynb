{
 "cells": [
  {
   "cell_type": "markdown",
   "id": "b0027855",
   "metadata": {},
   "source": [
    "# U-Net Concepts (Self-teaching)\n",
    "\n",
    "[![Open In Colab](https://colab.research.google.com/assets/colab-badge.svg)](https://colab.research.google.com/github/USER/teaching-cnn/blob/main/book/self_teach/unet_concepts.ipynb)\n",
    "\n",
    "We explore U-Net architecture, shapes, and skip connections."
   ]
  },
  {
   "cell_type": "code",
   "execution_count": null,
   "id": "09c09467",
   "metadata": {},
   "outputs": [],
   "source": [
    "# Minimal U-Net block shapes with torchsummary\n",
    "import sys, subprocess\n",
    "for p in ['torch', 'torchsummary']:\n",
    "    try:\n",
    "        __import__(p)\n",
    "    except Exception:\n",
    "        subprocess.check_call([sys.executable, '-m', 'pip', 'install', p, '-q'])\n",
    "\n",
    "import torch\n",
    "import torch.nn as nn\n",
    "from torchsummary import summary\n",
    "\n",
    "class DoubleConv(nn.Module):\n",
    "    def __init__(self, in_ch, out_ch):\n",
    "        super().__init__()\n",
    "        self.net = nn.Sequential(\n",
    "            nn.Conv2d(in_ch, out_ch, 3, padding=1), nn.ReLU(),\n",
    "            nn.Conv2d(out_ch, out_ch, 3, padding=1), nn.ReLU()\n",
    "        )\n",
    "    def forward(self, x):\n",
    "        return self.net(x)\n",
    "\n",
    "class MiniUNet(nn.Module):\n",
    "    def __init__(self):\n",
    "        super().__init__()\n",
    "        self.down1 = DoubleConv(1,16)\n",
    "        self.pool1 = nn.MaxPool2d(2)\n",
    "        self.down2 = DoubleConv(16,32)\n",
    "        self.pool2 = nn.MaxPool2d(2)\n",
    "        self.bottleneck = DoubleConv(32,64)\n",
    "        self.up2 = nn.ConvTranspose2d(64,32,2,2)\n",
    "        self.dec2 = DoubleConv(64,32)\n",
    "        self.up1 = nn.ConvTranspose2d(32,16,2,2)\n",
    "        self.dec1 = DoubleConv(32,16)\n",
    "        self.out = nn.Conv2d(16,1,1)\n",
    "    def forward(self, x):\n",
    "        e1 = self.down1(x)\n",
    "        e2 = self.down2(self.pool1(e1))\n",
    "        b = self.bottleneck(self.pool2(e2))\n",
    "        d2 = self.dec2(torch.cat([self.up2(b), e2], 1))\n",
    "        d1 = self.dec1(torch.cat([self.up1(d2), e1], 1))\n",
    "        return self.out(d1)\n",
    "\n",
    "m = MiniUNet()\n",
    "summary(m, (1,128,128))"
   ]
  }
 ],
 "metadata": {
  "language_info": {
   "name": "python"
  }
 },
 "nbformat": 4,
 "nbformat_minor": 5
}
