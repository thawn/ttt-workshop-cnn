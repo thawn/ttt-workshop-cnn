{
 "cells": [
  {
   "cell_type": "markdown",
   "id": "7a99e72f",
   "metadata": {},
   "source": [
    "# Hyperparameter Tuning with Optuna\n",
    "\n",
    "[![Open In Colab](https://colab.research.google.com/assets/colab-badge.svg)](https://colab.research.google.com/github/USER/teaching-cnn/blob/main/book/exercises/optuna_tuning.ipynb)\n",
    "\n",
    "Tune learning rate, weight decay, and channels on a toy training loop."
   ]
  },
  {
   "cell_type": "code",
   "execution_count": null,
   "id": "6c0df7a2",
   "metadata": {},
   "outputs": [],
   "source": [
    "# Deps\n",
    "import sys, subprocess\n",
    "for p in ['optuna', 'torch', 'numpy']:\n",
    "    try:\n",
    "        __import__(p)\n",
    "    except Exception:\n",
    "        subprocess.check_call([sys.executable, '-m', 'pip', 'install', p, '-q'])"
   ]
  },
  {
   "cell_type": "code",
   "execution_count": null,
   "id": "3a4a8622",
   "metadata": {},
   "outputs": [],
   "source": [
    "import optuna\n",
    "import torch, torch.nn as nn, torch.optim as optim\n",
    "import numpy as np\n",
    "\n",
    "X = torch.randn(64,1,16,16)\n",
    "y = torch.randn(64,1,16,16)\n",
    "\n",
    "class Tiny(nn.Module):\n",
    "    def __init__(self, ch=8):\n",
    "        super().__init__()\n",
    "        self.net = nn.Sequential(nn.Conv2d(1,ch,3,padding=1), nn.ReLU(), nn.Conv2d(ch,1,3,padding=1))\n",
    "    def forward(self,x): return self.net(x)\n",
    "\n",
    "criterion = nn.MSELoss()\n",
    "\n",
    "def objective(trial):\n",
    "    lr = trial.suggest_float('lr', 1e-4, 1e-2, log=True)\n",
    "    wd = trial.suggest_float('weight_decay', 0.0, 1e-3)\n",
    "    ch = trial.suggest_categorical('channels', [4,8,16,32])\n",
    "    model = Tiny(ch)\n",
    "    opt = optim.Adam(model.parameters(), lr=lr, weight_decay=wd)\n",
    "    for _ in range(10):\n",
    "        opt.zero_grad(); loss = criterion(model(X), y); loss.backward(); opt.step()\n",
    "    return float(loss)\n",
    "\n",
    "study = optuna.create_study(direction='minimize')\n",
    "study.optimize(objective, n_trials=15)\n",
    "print('Best:', study.best_params)"
   ]
  }
 ],
 "metadata": {
  "language_info": {
   "name": "python"
  }
 },
 "nbformat": 4,
 "nbformat_minor": 5
}
