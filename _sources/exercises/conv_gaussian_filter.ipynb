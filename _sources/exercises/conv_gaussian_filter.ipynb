{
 "cells": [
  {
   "cell_type": "markdown",
   "id": "a4ae7102",
   "metadata": {},
   "source": [
    "# Learn a Gaussian Filter with a Single Conv Layer (PyTorch)\n",
    "\n",
    "[![Open In Colab](https://colab.research.google.com/assets/colab-badge.svg)](https://colab.research.google.com/github/thawn/ttt-workshop-cnn/blob/main/book/exercises/conv_gaussian_filter.ipynb)\n",
    "\n",
    "Train a 1-layer CNN to learn Gaussian blur using a 16x16 px smiley input and its blurred label.\n"
   ]
  },
  {
   "cell_type": "code",
   "execution_count": null,
   "id": "619c9f79",
   "metadata": {},
   "outputs": [],
   "source": [
    "# Setup\n",
    "import numpy as np\n",
    "\n",
    "try:\n",
    "    import scipy.ndimage as spn\n",
    "    import torch\n",
    "except Exception:\n",
    "    import sys, subprocess\n",
    "\n",
    "    subprocess.check_call([sys.executable, \"-m\", \"pip\", \"install\", \"scipy\", \"torch\", \"-q\"])\n",
    "    import scipy.ndimage as spn\n",
    "\n",
    "import matplotlib.pyplot as plt"
   ]
  },
  {
   "cell_type": "code",
   "execution_count": null,
   "id": "afd23d90",
   "metadata": {},
   "outputs": [],
   "source": [
    "# Create a sample image of a smiley face\n",
    "image = np.array([\n",
    "    [0, 0, 0, 0, 0, 0, 1, 1, 1, 1, 0, 0, 0, 0, 0, 0],\n",
    "    [0, 0, 0, 0, 1, 1, 1, 1, 1, 1, 1, 1, 0, 0, 0, 0],\n",
    "    [0, 0, 0, 1, 1, 1, 1, 1, 1, 1, 1, 1, 1, 0, 0, 0],\n",
    "    [0, 0, 1, 1, 1, 1, 1, 1, 1, 1, 1, 1, 1, 1, 0, 0],\n",
    "    [0, 1, 1, 1, 1, 1, 1, 1, 1, 1, 1, 1, 1, 1, 1, 0],\n",
    "    [0, 1, 1, 1, 0, 0, 1, 1, 1, 1, 0, 0, 1, 1, 1, 0],\n",
    "    [1, 1, 1, 1, 0, 0, 1, 1, 1, 1, 0, 0, 1, 1, 1, 1],\n",
    "    [1, 1, 1, 1, 1, 1, 1, 1, 1, 1, 1, 1, 1, 1, 1, 1],\n",
    "    [1, 1, 1, 1, 1, 1, 1, 1, 1, 1, 1, 1, 1, 1, 1, 1],\n",
    "    [1, 1, 1, 1, 1, 1, 1, 1, 1, 1, 1, 1, 1, 1, 1, 1],\n",
    "    [1, 1, 1, 0, 1, 1, 1, 1, 1, 1, 1, 1, 0, 1, 1, 1],\n",
    "    [0, 1, 1, 0, 0, 0, 0, 0, 0, 0, 0, 0, 0, 1, 1, 0],\n",
    "    [0, 1, 1, 1, 0, 0, 0, 0, 0, 0, 0, 0, 1, 1, 1, 0],\n",
    "    [0, 0, 1, 1, 1, 0, 0, 0, 0, 0, 0, 1, 1, 1, 0, 0],\n",
    "    [0, 0, 0, 0, 1, 1, 1, 1, 1, 1, 1, 1, 0, 0, 0, 0],\n",
    "    [0, 0, 0, 0, 0, 0, 1, 1, 1, 1, 0, 0, 0, 0, 0, 0]\n",
    "], dtype=np.float32)"
   ]
  },
  {
   "cell_type": "code",
   "execution_count": null,
   "id": "22cc3a7f",
   "metadata": {},
   "outputs": [],
   "source": [
    "# Create a gaussian 3x3 kernel\n",
    "gaussian_kernel = np.array([\n",
    "    [1, 2, 1],\n",
    "    [2, 4, 2],\n",
    "    [1, 2, 1],\n",
    "]) / 16 "
   ]
  },
  {
   "cell_type": "code",
   "execution_count": null,
   "id": "cc690027",
   "metadata": {},
   "outputs": [],
   "source": [
    "# Create a label image by convolving the image with the kernel using scipy.ndimage.convolve2\n",
    "label = spn.convolve(image, gaussian_kernel, mode='constant', cval=0.0)"
   ]
  },
  {
   "cell_type": "code",
   "execution_count": null,
   "id": "51d3046c",
   "metadata": {},
   "outputs": [],
   "source": [
    "# Plot input, kernel, and label\n",
    "def plot_images(image, kernel, label):\n",
    "    fig, axes = plt.subplots(1, 3, figsize=(7, 2.5))\n",
    "    axes[0].imshow(image, cmap='inferno')\n",
    "    axes[0].set_title('Input Image')\n",
    "\n",
    "    axes[1].imshow(kernel, cmap='inferno')\n",
    "    axes[1].set_title('Kernel')\n",
    "\n",
    "    axes[2].imshow(label, cmap='inferno')\n",
    "    axes[2].set_title('Label Image (Convolved)')\n",
    "    for ax in axes:\n",
    "        ax.axis('off')\n",
    "\n",
    "    plt.tight_layout()\n",
    "plot_images(image, gaussian_kernel, label)"
   ]
  },
  {
   "cell_type": "markdown",
   "id": "24dd0c48",
   "metadata": {},
   "source": [
    "# train a single-layer CNN to learn the Gaussian blur\n"
   ]
  },
  {
   "cell_type": "code",
   "execution_count": null,
   "id": "89a836e9",
   "metadata": {},
   "outputs": [],
   "source": [
    "# Convert to torch tensors (torch.tensor()) and add batch and channel dimensions (unsqueeze()). Target shape: (1, 1, H, W)\n"
   ]
  },
  {
   "cell_type": "code",
   "execution_count": null,
   "id": "8bb35841",
   "metadata": {},
   "outputs": [],
   "source": [
    "# Define a single convolutional layer (torch.nn.Conv2d())"
   ]
  },
  {
   "cell_type": "code",
   "execution_count": null,
   "id": "78cdad13",
   "metadata": {},
   "outputs": [],
   "source": [
    "# Define a loss function (Mean Squared Error, torch.nn.MSELoss())"
   ]
  },
  {
   "cell_type": "code",
   "execution_count": null,
   "id": "702f564f",
   "metadata": {},
   "outputs": [],
   "source": [
    "# Define an optimizer (Adam, torch.optim.Adam())"
   ]
  },
  {
   "cell_type": "code",
   "execution_count": null,
   "id": "99faefa1",
   "metadata": {},
   "outputs": [],
   "source": [
    "# Training loop\n",
    "num_epochs = 1000\n",
    "    \n"
   ]
  },
  {
   "cell_type": "code",
   "execution_count": null,
   "id": "5fa86dc5",
   "metadata": {},
   "outputs": [],
   "source": [
    "# Get the learned kernel (conv_layer.weight.detach().squeeze().numpy())"
   ]
  },
  {
   "cell_type": "code",
   "execution_count": null,
   "id": "b6a50375",
   "metadata": {},
   "outputs": [],
   "source": [
    "# Plot the input, learned kernel, and output after training\n",
    "plot_images(image, learned_kernel, output_image)"
   ]
  },
  {
   "cell_type": "code",
   "execution_count": null,
   "id": "a6133de2",
   "metadata": {},
   "outputs": [],
   "source": [
    "# Plot the original and learned kernels side by side\n",
    "fig, axes = plt.subplots(1, 2, figsize=(7, 3.6))\n",
    "axes[0].imshow(gaussian_kernel, cmap='inferno')\n",
    "axes[0].set_title('Original Gaussian Kernel')\n",
    "axes[0].axis('off')\n",
    "axes[1].imshow(learned_kernel, cmap='inferno')\n",
    "axes[1].set_title('Learned Gaussian Kernel')\n",
    "axes[1].axis('off')\n",
    "fig.tight_layout()"
   ]
  },
  {
   "cell_type": "code",
   "execution_count": null,
   "id": "4f1a6f69",
   "metadata": {},
   "outputs": [],
   "source": [
    "# Bonus: Do the same with a laplacian kernel\n",
    "laplacian_kernel = np.array([\n",
    "    [0, 1, 0],\n",
    "    [1, -4, 1],\n",
    "    [0, 1, 0],\n",
    "]) / 4"
   ]
  }
 ],
 "metadata": {
  "kernelspec": {
   "display_name": "venv",
   "language": "python",
   "name": "python3"
  },
  "language_info": {
   "codemirror_mode": {
    "name": "ipython",
    "version": 3
   },
   "file_extension": ".py",
   "mimetype": "text/x-python",
   "name": "python",
   "nbconvert_exporter": "python",
   "pygments_lexer": "ipython3",
   "version": "3.11.12"
  }
 },
 "nbformat": 4,
 "nbformat_minor": 5
}
