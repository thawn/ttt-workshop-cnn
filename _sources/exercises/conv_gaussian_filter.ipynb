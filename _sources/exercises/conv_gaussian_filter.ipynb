{
 "cells": [
  {
   "cell_type": "markdown",
   "id": "a4ae7102",
   "metadata": {},
   "source": [
    "# Learn a Gaussian Filter with a Single Conv Layer (PyTorch)\n",
    "\n",
    "[![Open In Colab](https://colab.research.google.com/assets/colab-badge.svg)](https://colab.research.google.com/github/USER/teaching-cnn/blob/main/book/exercises/conv_gaussian_filter.ipynb)\n",
    "\n",
    "Train a 1-layer CNN to learn Gaussian blur using a 32x32 smiley input and its blurred label.\n"
   ]
  },
  {
   "cell_type": "code",
   "execution_count": null,
   "id": "619c9f79",
   "metadata": {},
   "outputs": [],
   "source": []
  },
  {
   "cell_type": "code",
   "execution_count": null,
   "id": "22cc3a7f",
   "metadata": {},
   "outputs": [],
   "source": []
  },
  {
   "cell_type": "code",
   "execution_count": null,
   "id": "51d3046c",
   "metadata": {},
   "outputs": [],
   "source": []
  },
  {
   "cell_type": "code",
   "execution_count": null,
   "id": "24dd0c48",
   "metadata": {},
   "outputs": [],
   "source": []
  },
  {
   "cell_type": "code",
   "execution_count": null,
   "id": "a6133de2",
   "metadata": {},
   "outputs": [],
   "source": []
  }
 ],
 "metadata": {
  "language_info": {
   "name": "python"
  }
 },
 "nbformat": 4,
 "nbformat_minor": 5
}
