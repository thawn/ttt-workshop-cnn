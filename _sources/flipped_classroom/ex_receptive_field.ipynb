{
 "cells": [
  {
   "cell_type": "markdown",
   "id": "a4ae7102",
   "metadata": {},
   "source": [
    "\n",
    "# Bonus Exercise 3: Design a CNN  with a Given Receptive Field\n",
    "\n",
    "[![Open In Colab](https://colab.research.google.com/assets/colab-badge.svg)](https://colab.research.google.com/github/thawn/ttt-workshop-cnn/blob/main/book/flipped_classroom/ex_receptive_field.ipynb)\n",
    "\n",
    "Design a CNN architecture that achieves a receptive field of 128x128 pixels. You can use convolutional layers with 3x3 or 5x5 kernels (`torch.nn.Conv2d(in_channels=<?>, out_channels=<?>, kernel_size=<3 or 5>, padding=<?>)`), max pooling layers with 2x2 kernels and stride 2 (`torch.nn.MaxPool2d(kernel_size=2, stride=2)`), and any number of layers. Try to minimize the number of parameters in your design. Do not forget activation functions (e.g. `torch.nn.ReLU()`) between layers.\n",
    "\n",
    "Consider that you would like to preserve the amount of information in each layer approximately the same. This means you should compensate pooling with increased number of channels in the subsequent convolutional layer.\n"
   ]
  },
  {
   "cell_type": "code",
   "execution_count": null,
   "id": "619c9f79",
   "metadata": {},
   "outputs": [],
   "source": [
    "# Setup\n",
    "import numpy as np\n",
    "\n",
    "try:\n",
    "    import torch\n",
    "except Exception:\n",
    "    import sys, subprocess\n",
    "\n",
    "    subprocess.check_call([sys.executable, \"-m\", \"pip\", \"install\", \"torch\", \"-q\"])\n",
    "    import torch\n",
    "\n",
    "import matplotlib.pyplot as plt"
   ]
  },
  {
   "cell_type": "code",
   "execution_count": null,
   "id": "9dd6dc17",
   "metadata": {},
   "outputs": [],
   "source": [
    "model = torch.nn.Sequential(\n",
    "#your code here\n",
    ")"
   ]
  }
 ],
 "metadata": {
  "kernelspec": {
   "display_name": "venv",
   "language": "python",
   "name": "python3"
  },
  "language_info": {
   "codemirror_mode": {
    "name": "ipython",
    "version": 3
   },
   "file_extension": ".py",
   "mimetype": "text/x-python",
   "name": "python",
   "nbconvert_exporter": "python",
   "pygments_lexer": "ipython3",
   "version": "3.11.12"
  }
 },
 "nbformat": 4,
 "nbformat_minor": 5
}
